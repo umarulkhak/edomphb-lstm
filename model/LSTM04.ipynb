{
  "cells": [
    {
      "cell_type": "code",
      "execution_count": null,
      "metadata": {
        "colab": {
          "base_uri": "https://localhost:8080/"
        },
        "id": "7GrBuBnVYt0J",
        "outputId": "b31b3887-b31f-444b-b892-bf90370b1668"
      },
      "outputs": [
        {
          "output_type": "stream",
          "name": "stdout",
          "text": [
            "Mounted at /content/drive\n"
          ]
        }
      ],
      "source": [
        "from google.colab import drive\n",
        "drive.mount('/content/drive',force_remount=True)"
      ]
    },
    {
      "cell_type": "markdown",
      "metadata": {
        "id": "3n1ov3WwYojY"
      },
      "source": [
        "## Installing and importing dependencies"
      ]
    },
    {
      "cell_type": "code",
      "execution_count": null,
      "metadata": {
        "colab": {
          "base_uri": "https://localhost:8080/"
        },
        "id": "noXeAM7y-459",
        "outputId": "493949fc-40c6-4f38-c842-eb0c3a51f5ff"
      },
      "outputs": [
        {
          "output_type": "stream",
          "name": "stdout",
          "text": [
            "Looking in indexes: https://pypi.org/simple, https://us-python.pkg.dev/colab-wheels/public/simple/\n",
            "Requirement already satisfied: Sastrawi in /usr/local/lib/python3.7/dist-packages (1.0.1)\n"
          ]
        }
      ],
      "source": [
        "pip install Sastrawi"
      ]
    },
    {
      "cell_type": "code",
      "execution_count": null,
      "metadata": {
        "id": "Voq5g8r_Yojh",
        "colab": {
          "base_uri": "https://localhost:8080/"
        },
        "outputId": "4bdcc708-2a20-4191-fd88-4712a35ed588"
      },
      "outputs": [
        {
          "output_type": "stream",
          "name": "stderr",
          "text": [
            "[nltk_data] Downloading package stopwords to /root/nltk_data...\n",
            "[nltk_data]   Package stopwords is already up-to-date!\n"
          ]
        }
      ],
      "source": [
        "import numpy as np # linear algebra\n",
        "import pandas as pd # data processing\n",
        "import os\n",
        "\n",
        "\n",
        "#For Preprocessing\n",
        "import re    # RegEx for removing non-letter characters\n",
        "import nltk  #natural language processing\n",
        "#import stopword\n",
        "from nltk.tokenize import sent_tokenize, word_tokenize\n",
        "from Sastrawi.StopWordRemover.StopWordRemoverFactory import StopWordRemoverFactory\n",
        "from Sastrawi.Stemmer.StemmerFactory import StemmerFactory\n",
        "from nltk.tokenize import word_tokenize\n",
        "\n",
        "\n",
        "import numpy as np # linear algebra\n",
        "import pandas as pd # data processing\n",
        "import os\n",
        "import tweepy as tw #for accessing Twitter API\n",
        "\n",
        "\n",
        "#For Preprocessing\n",
        "import re    # RegEx for removing non-letter characters\n",
        "import nltk  #natural language processing\n",
        "nltk.download(\"stopwords\")\n",
        "from nltk.corpus import stopwords\n",
        "from nltk.stem.porter import *\n",
        "\n",
        "# For Building the model\n",
        "from sklearn.model_selection import train_test_split\n",
        "import tensorflow as tf\n",
        "import seaborn as sns\n",
        "\n",
        "#For data visualization\n",
        "import matplotlib.pyplot as plt\n",
        "import matplotlib.patches as mpatches\n",
        "%matplotlib inline\n",
        "\n",
        "pd.options.plotting.backend = \"plotly\""
      ]
    },
    {
      "cell_type": "markdown",
      "metadata": {
        "id": "bx0iQZ-YYojk"
      },
      "source": [
        "### Cleaning and prepping dataset"
      ]
    },
    {
      "cell_type": "code",
      "execution_count": null,
      "metadata": {
        "colab": {
          "base_uri": "https://localhost:8080/",
          "height": 206
        },
        "id": "yI5D6HpgYojm",
        "outputId": "bd6fc03f-1e3c-4874-e0ea-2ec18b4b25af"
      },
      "outputs": [
        {
          "output_type": "execute_result",
          "data": {
            "text/plain": [
              "                                          clean_text  category\n",
              "0                                 Enggak tau hehe :D       1.0\n",
              "1  Berharap melakukan kuliah offline untuk semest...       1.0\n",
              "2                Masuk kelas agar tidak jamkos terus       0.0\n",
              "3                Cukup baik dalam penyampaian materi       2.0\n",
              "4      Pa Aryanto cukup jelas memberikan pembahasan.       2.0"
            ],
            "text/html": [
              "\n",
              "  <div id=\"df-39607485-e170-49e2-a27c-e34ac93f2502\">\n",
              "    <div class=\"colab-df-container\">\n",
              "      <div>\n",
              "<style scoped>\n",
              "    .dataframe tbody tr th:only-of-type {\n",
              "        vertical-align: middle;\n",
              "    }\n",
              "\n",
              "    .dataframe tbody tr th {\n",
              "        vertical-align: top;\n",
              "    }\n",
              "\n",
              "    .dataframe thead th {\n",
              "        text-align: right;\n",
              "    }\n",
              "</style>\n",
              "<table border=\"1\" class=\"dataframe\">\n",
              "  <thead>\n",
              "    <tr style=\"text-align: right;\">\n",
              "      <th></th>\n",
              "      <th>clean_text</th>\n",
              "      <th>category</th>\n",
              "    </tr>\n",
              "  </thead>\n",
              "  <tbody>\n",
              "    <tr>\n",
              "      <th>0</th>\n",
              "      <td>Enggak tau hehe :D</td>\n",
              "      <td>1.0</td>\n",
              "    </tr>\n",
              "    <tr>\n",
              "      <th>1</th>\n",
              "      <td>Berharap melakukan kuliah offline untuk semest...</td>\n",
              "      <td>1.0</td>\n",
              "    </tr>\n",
              "    <tr>\n",
              "      <th>2</th>\n",
              "      <td>Masuk kelas agar tidak jamkos terus</td>\n",
              "      <td>0.0</td>\n",
              "    </tr>\n",
              "    <tr>\n",
              "      <th>3</th>\n",
              "      <td>Cukup baik dalam penyampaian materi</td>\n",
              "      <td>2.0</td>\n",
              "    </tr>\n",
              "    <tr>\n",
              "      <th>4</th>\n",
              "      <td>Pa Aryanto cukup jelas memberikan pembahasan.</td>\n",
              "      <td>2.0</td>\n",
              "    </tr>\n",
              "  </tbody>\n",
              "</table>\n",
              "</div>\n",
              "      <button class=\"colab-df-convert\" onclick=\"convertToInteractive('df-39607485-e170-49e2-a27c-e34ac93f2502')\"\n",
              "              title=\"Convert this dataframe to an interactive table.\"\n",
              "              style=\"display:none;\">\n",
              "        \n",
              "  <svg xmlns=\"http://www.w3.org/2000/svg\" height=\"24px\"viewBox=\"0 0 24 24\"\n",
              "       width=\"24px\">\n",
              "    <path d=\"M0 0h24v24H0V0z\" fill=\"none\"/>\n",
              "    <path d=\"M18.56 5.44l.94 2.06.94-2.06 2.06-.94-2.06-.94-.94-2.06-.94 2.06-2.06.94zm-11 1L8.5 8.5l.94-2.06 2.06-.94-2.06-.94L8.5 2.5l-.94 2.06-2.06.94zm10 10l.94 2.06.94-2.06 2.06-.94-2.06-.94-.94-2.06-.94 2.06-2.06.94z\"/><path d=\"M17.41 7.96l-1.37-1.37c-.4-.4-.92-.59-1.43-.59-.52 0-1.04.2-1.43.59L10.3 9.45l-7.72 7.72c-.78.78-.78 2.05 0 2.83L4 21.41c.39.39.9.59 1.41.59.51 0 1.02-.2 1.41-.59l7.78-7.78 2.81-2.81c.8-.78.8-2.07 0-2.86zM5.41 20L4 18.59l7.72-7.72 1.47 1.35L5.41 20z\"/>\n",
              "  </svg>\n",
              "      </button>\n",
              "      \n",
              "  <style>\n",
              "    .colab-df-container {\n",
              "      display:flex;\n",
              "      flex-wrap:wrap;\n",
              "      gap: 12px;\n",
              "    }\n",
              "\n",
              "    .colab-df-convert {\n",
              "      background-color: #E8F0FE;\n",
              "      border: none;\n",
              "      border-radius: 50%;\n",
              "      cursor: pointer;\n",
              "      display: none;\n",
              "      fill: #1967D2;\n",
              "      height: 32px;\n",
              "      padding: 0 0 0 0;\n",
              "      width: 32px;\n",
              "    }\n",
              "\n",
              "    .colab-df-convert:hover {\n",
              "      background-color: #E2EBFA;\n",
              "      box-shadow: 0px 1px 2px rgba(60, 64, 67, 0.3), 0px 1px 3px 1px rgba(60, 64, 67, 0.15);\n",
              "      fill: #174EA6;\n",
              "    }\n",
              "\n",
              "    [theme=dark] .colab-df-convert {\n",
              "      background-color: #3B4455;\n",
              "      fill: #D2E3FC;\n",
              "    }\n",
              "\n",
              "    [theme=dark] .colab-df-convert:hover {\n",
              "      background-color: #434B5C;\n",
              "      box-shadow: 0px 1px 3px 1px rgba(0, 0, 0, 0.15);\n",
              "      filter: drop-shadow(0px 1px 2px rgba(0, 0, 0, 0.3));\n",
              "      fill: #FFFFFF;\n",
              "    }\n",
              "  </style>\n",
              "\n",
              "      <script>\n",
              "        const buttonEl =\n",
              "          document.querySelector('#df-39607485-e170-49e2-a27c-e34ac93f2502 button.colab-df-convert');\n",
              "        buttonEl.style.display =\n",
              "          google.colab.kernel.accessAllowed ? 'block' : 'none';\n",
              "\n",
              "        async function convertToInteractive(key) {\n",
              "          const element = document.querySelector('#df-39607485-e170-49e2-a27c-e34ac93f2502');\n",
              "          const dataTable =\n",
              "            await google.colab.kernel.invokeFunction('convertToInteractive',\n",
              "                                                     [key], {});\n",
              "          if (!dataTable) return;\n",
              "\n",
              "          const docLinkHtml = 'Like what you see? Visit the ' +\n",
              "            '<a target=\"_blank\" href=https://colab.research.google.com/notebooks/data_table.ipynb>data table notebook</a>'\n",
              "            + ' to learn more about interactive tables.';\n",
              "          element.innerHTML = '';\n",
              "          dataTable['output_type'] = 'display_data';\n",
              "          await google.colab.output.renderOutput(dataTable, element);\n",
              "          const docLink = document.createElement('div');\n",
              "          docLink.innerHTML = docLinkHtml;\n",
              "          element.appendChild(docLink);\n",
              "        }\n",
              "      </script>\n",
              "    </div>\n",
              "  </div>\n",
              "  "
            ]
          },
          "metadata": {},
          "execution_count": 13
        }
      ],
      "source": [
        "# Load dataset\n",
        "df = pd.read_csv('/content/drive/MyDrive/Colab Notebooks/TA Coba/datasetedom3.csv')\n",
        "df = df.rename(columns={'ulasan': 'clean_text', 'sentimen':'category'})\n",
        "# Output first five rows\n",
        "df.head()"
      ]
    },
    {
      "cell_type": "code",
      "execution_count": null,
      "metadata": {
        "colab": {
          "base_uri": "https://localhost:8080/"
        },
        "id": "OBCmsjI2Yojv",
        "outputId": "1633d8c7-2907-4bd6-f604-7ef0e06dc737"
      },
      "outputs": [
        {
          "output_type": "execute_result",
          "data": {
            "text/plain": [
              "clean_text    0\n",
              "category      8\n",
              "dtype: int64"
            ]
          },
          "metadata": {},
          "execution_count": 14
        }
      ],
      "source": [
        "# Check for missing data\n",
        "df.isnull().sum()"
      ]
    },
    {
      "cell_type": "code",
      "execution_count": null,
      "metadata": {
        "id": "PiLVaOhwYojw"
      },
      "outputs": [],
      "source": [
        "# drop missing rows\n",
        "df.dropna(axis=0, inplace=True)"
      ]
    },
    {
      "cell_type": "code",
      "execution_count": null,
      "metadata": {
        "colab": {
          "base_uri": "https://localhost:8080/"
        },
        "id": "RB-nO50_Yojx",
        "outputId": "c1ee45fa-d421-4b56-83df-1312644f4741"
      },
      "outputs": [
        {
          "output_type": "execute_result",
          "data": {
            "text/plain": [
              "(8104, 2)"
            ]
          },
          "metadata": {},
          "execution_count": 16
        }
      ],
      "source": [
        "# dimensionality of the data\n",
        "df.shape"
      ]
    },
    {
      "cell_type": "code",
      "execution_count": null,
      "metadata": {
        "colab": {
          "base_uri": "https://localhost:8080/",
          "height": 206
        },
        "id": "-KpCbD6zYojy",
        "outputId": "4cd16141-b552-4e79-9dba-ee9f8ee888b1"
      },
      "outputs": [
        {
          "output_type": "execute_result",
          "data": {
            "text/plain": [
              "                                          clean_text category\n",
              "0                                 Enggak tau hehe :D    Cukup\n",
              "1  Berharap melakukan kuliah offline untuk semest...    Cukup\n",
              "2                Masuk kelas agar tidak jamkos terus   Kurang\n",
              "3                Cukup baik dalam penyampaian materi     Baik\n",
              "4      Pa Aryanto cukup jelas memberikan pembahasan.     Baik"
            ],
            "text/html": [
              "\n",
              "  <div id=\"df-487f4b77-aa29-48f9-acc0-0086a76a8d00\">\n",
              "    <div class=\"colab-df-container\">\n",
              "      <div>\n",
              "<style scoped>\n",
              "    .dataframe tbody tr th:only-of-type {\n",
              "        vertical-align: middle;\n",
              "    }\n",
              "\n",
              "    .dataframe tbody tr th {\n",
              "        vertical-align: top;\n",
              "    }\n",
              "\n",
              "    .dataframe thead th {\n",
              "        text-align: right;\n",
              "    }\n",
              "</style>\n",
              "<table border=\"1\" class=\"dataframe\">\n",
              "  <thead>\n",
              "    <tr style=\"text-align: right;\">\n",
              "      <th></th>\n",
              "      <th>clean_text</th>\n",
              "      <th>category</th>\n",
              "    </tr>\n",
              "  </thead>\n",
              "  <tbody>\n",
              "    <tr>\n",
              "      <th>0</th>\n",
              "      <td>Enggak tau hehe :D</td>\n",
              "      <td>Cukup</td>\n",
              "    </tr>\n",
              "    <tr>\n",
              "      <th>1</th>\n",
              "      <td>Berharap melakukan kuliah offline untuk semest...</td>\n",
              "      <td>Cukup</td>\n",
              "    </tr>\n",
              "    <tr>\n",
              "      <th>2</th>\n",
              "      <td>Masuk kelas agar tidak jamkos terus</td>\n",
              "      <td>Kurang</td>\n",
              "    </tr>\n",
              "    <tr>\n",
              "      <th>3</th>\n",
              "      <td>Cukup baik dalam penyampaian materi</td>\n",
              "      <td>Baik</td>\n",
              "    </tr>\n",
              "    <tr>\n",
              "      <th>4</th>\n",
              "      <td>Pa Aryanto cukup jelas memberikan pembahasan.</td>\n",
              "      <td>Baik</td>\n",
              "    </tr>\n",
              "  </tbody>\n",
              "</table>\n",
              "</div>\n",
              "      <button class=\"colab-df-convert\" onclick=\"convertToInteractive('df-487f4b77-aa29-48f9-acc0-0086a76a8d00')\"\n",
              "              title=\"Convert this dataframe to an interactive table.\"\n",
              "              style=\"display:none;\">\n",
              "        \n",
              "  <svg xmlns=\"http://www.w3.org/2000/svg\" height=\"24px\"viewBox=\"0 0 24 24\"\n",
              "       width=\"24px\">\n",
              "    <path d=\"M0 0h24v24H0V0z\" fill=\"none\"/>\n",
              "    <path d=\"M18.56 5.44l.94 2.06.94-2.06 2.06-.94-2.06-.94-.94-2.06-.94 2.06-2.06.94zm-11 1L8.5 8.5l.94-2.06 2.06-.94-2.06-.94L8.5 2.5l-.94 2.06-2.06.94zm10 10l.94 2.06.94-2.06 2.06-.94-2.06-.94-.94-2.06-.94 2.06-2.06.94z\"/><path d=\"M17.41 7.96l-1.37-1.37c-.4-.4-.92-.59-1.43-.59-.52 0-1.04.2-1.43.59L10.3 9.45l-7.72 7.72c-.78.78-.78 2.05 0 2.83L4 21.41c.39.39.9.59 1.41.59.51 0 1.02-.2 1.41-.59l7.78-7.78 2.81-2.81c.8-.78.8-2.07 0-2.86zM5.41 20L4 18.59l7.72-7.72 1.47 1.35L5.41 20z\"/>\n",
              "  </svg>\n",
              "      </button>\n",
              "      \n",
              "  <style>\n",
              "    .colab-df-container {\n",
              "      display:flex;\n",
              "      flex-wrap:wrap;\n",
              "      gap: 12px;\n",
              "    }\n",
              "\n",
              "    .colab-df-convert {\n",
              "      background-color: #E8F0FE;\n",
              "      border: none;\n",
              "      border-radius: 50%;\n",
              "      cursor: pointer;\n",
              "      display: none;\n",
              "      fill: #1967D2;\n",
              "      height: 32px;\n",
              "      padding: 0 0 0 0;\n",
              "      width: 32px;\n",
              "    }\n",
              "\n",
              "    .colab-df-convert:hover {\n",
              "      background-color: #E2EBFA;\n",
              "      box-shadow: 0px 1px 2px rgba(60, 64, 67, 0.3), 0px 1px 3px 1px rgba(60, 64, 67, 0.15);\n",
              "      fill: #174EA6;\n",
              "    }\n",
              "\n",
              "    [theme=dark] .colab-df-convert {\n",
              "      background-color: #3B4455;\n",
              "      fill: #D2E3FC;\n",
              "    }\n",
              "\n",
              "    [theme=dark] .colab-df-convert:hover {\n",
              "      background-color: #434B5C;\n",
              "      box-shadow: 0px 1px 3px 1px rgba(0, 0, 0, 0.15);\n",
              "      filter: drop-shadow(0px 1px 2px rgba(0, 0, 0, 0.3));\n",
              "      fill: #FFFFFF;\n",
              "    }\n",
              "  </style>\n",
              "\n",
              "      <script>\n",
              "        const buttonEl =\n",
              "          document.querySelector('#df-487f4b77-aa29-48f9-acc0-0086a76a8d00 button.colab-df-convert');\n",
              "        buttonEl.style.display =\n",
              "          google.colab.kernel.accessAllowed ? 'block' : 'none';\n",
              "\n",
              "        async function convertToInteractive(key) {\n",
              "          const element = document.querySelector('#df-487f4b77-aa29-48f9-acc0-0086a76a8d00');\n",
              "          const dataTable =\n",
              "            await google.colab.kernel.invokeFunction('convertToInteractive',\n",
              "                                                     [key], {});\n",
              "          if (!dataTable) return;\n",
              "\n",
              "          const docLinkHtml = 'Like what you see? Visit the ' +\n",
              "            '<a target=\"_blank\" href=https://colab.research.google.com/notebooks/data_table.ipynb>data table notebook</a>'\n",
              "            + ' to learn more about interactive tables.';\n",
              "          element.innerHTML = '';\n",
              "          dataTable['output_type'] = 'display_data';\n",
              "          await google.colab.output.renderOutput(dataTable, element);\n",
              "          const docLink = document.createElement('div');\n",
              "          docLink.innerHTML = docLinkHtml;\n",
              "          element.appendChild(docLink);\n",
              "        }\n",
              "      </script>\n",
              "    </div>\n",
              "  </div>\n",
              "  "
            ]
          },
          "metadata": {},
          "execution_count": 17
        }
      ],
      "source": [
        "# Map categories\n",
        "df['category'] = df['category'].map({0.0:'Kurang',1.0:'Cukup', 2.0:'Baik', 3.0:'Sangat Baik'})\n",
        "\n",
        "# Output first five rows\n",
        "df.head()"
      ]
    },
    {
      "cell_type": "markdown",
      "metadata": {
        "id": "rwcNFskwYojz"
      },
      "source": [
        "## Exploratory Data Analysis"
      ]
    },
    {
      "cell_type": "markdown",
      "metadata": {
        "id": "cgbU_WkdYoj0"
      },
      "source": [
        "Data Visualisation-"
      ]
    },
    {
      "cell_type": "code",
      "execution_count": null,
      "metadata": {
        "colab": {
          "base_uri": "https://localhost:8080/",
          "height": 542
        },
        "id": "U01iU904Yoj0",
        "outputId": "0a84947d-b48f-4928-87e8-19119306f406"
      },
      "outputs": [
        {
          "output_type": "display_data",
          "data": {
            "text/html": [
              "<html>\n",
              "<head><meta charset=\"utf-8\" /></head>\n",
              "<body>\n",
              "    <div>            <script src=\"https://cdnjs.cloudflare.com/ajax/libs/mathjax/2.7.5/MathJax.js?config=TeX-AMS-MML_SVG\"></script><script type=\"text/javascript\">if (window.MathJax) {MathJax.Hub.Config({SVG: {font: \"STIX-Web\"}});}</script>                <script type=\"text/javascript\">window.PlotlyConfig = {MathJaxConfig: 'local'};</script>\n",
              "        <script src=\"https://cdn.plot.ly/plotly-2.8.3.min.js\"></script>                <div id=\"f5307cd4-3e2d-463d-8ddf-c913857f3a09\" class=\"plotly-graph-div\" style=\"height:525px; width:100%;\"></div>            <script type=\"text/javascript\">                                    window.PLOTLYENV=window.PLOTLYENV || {};                                    if (document.getElementById(\"f5307cd4-3e2d-463d-8ddf-c913857f3a09\")) {                    Plotly.newPlot(                        \"f5307cd4-3e2d-463d-8ddf-c913857f3a09\",                        [{\"alignmentgroup\":\"True\",\"hovertemplate\":\"variable=clean_text<br>category=%{x}<br>value=%{y}<extra></extra>\",\"legendgroup\":\"clean_text\",\"marker\":{\"color\":\"#636efa\",\"pattern\":{\"shape\":\"\"}},\"name\":\"clean_text\",\"offsetgroup\":\"clean_text\",\"orientation\":\"v\",\"showlegend\":true,\"textposition\":\"auto\",\"x\":[\"Baik\",\"Cukup\",\"Kurang\",\"Sangat Baik\"],\"xaxis\":\"x\",\"y\":[1241,2206,2321,2336],\"yaxis\":\"y\",\"type\":\"bar\"}],                        {\"template\":{\"data\":{\"bar\":[{\"error_x\":{\"color\":\"#2a3f5f\"},\"error_y\":{\"color\":\"#2a3f5f\"},\"marker\":{\"line\":{\"color\":\"#E5ECF6\",\"width\":0.5},\"pattern\":{\"fillmode\":\"overlay\",\"size\":10,\"solidity\":0.2}},\"type\":\"bar\"}],\"barpolar\":[{\"marker\":{\"line\":{\"color\":\"#E5ECF6\",\"width\":0.5},\"pattern\":{\"fillmode\":\"overlay\",\"size\":10,\"solidity\":0.2}},\"type\":\"barpolar\"}],\"carpet\":[{\"aaxis\":{\"endlinecolor\":\"#2a3f5f\",\"gridcolor\":\"white\",\"linecolor\":\"white\",\"minorgridcolor\":\"white\",\"startlinecolor\":\"#2a3f5f\"},\"baxis\":{\"endlinecolor\":\"#2a3f5f\",\"gridcolor\":\"white\",\"linecolor\":\"white\",\"minorgridcolor\":\"white\",\"startlinecolor\":\"#2a3f5f\"},\"type\":\"carpet\"}],\"choropleth\":[{\"colorbar\":{\"outlinewidth\":0,\"ticks\":\"\"},\"type\":\"choropleth\"}],\"contour\":[{\"colorbar\":{\"outlinewidth\":0,\"ticks\":\"\"},\"colorscale\":[[0.0,\"#0d0887\"],[0.1111111111111111,\"#46039f\"],[0.2222222222222222,\"#7201a8\"],[0.3333333333333333,\"#9c179e\"],[0.4444444444444444,\"#bd3786\"],[0.5555555555555556,\"#d8576b\"],[0.6666666666666666,\"#ed7953\"],[0.7777777777777778,\"#fb9f3a\"],[0.8888888888888888,\"#fdca26\"],[1.0,\"#f0f921\"]],\"type\":\"contour\"}],\"contourcarpet\":[{\"colorbar\":{\"outlinewidth\":0,\"ticks\":\"\"},\"type\":\"contourcarpet\"}],\"heatmap\":[{\"colorbar\":{\"outlinewidth\":0,\"ticks\":\"\"},\"colorscale\":[[0.0,\"#0d0887\"],[0.1111111111111111,\"#46039f\"],[0.2222222222222222,\"#7201a8\"],[0.3333333333333333,\"#9c179e\"],[0.4444444444444444,\"#bd3786\"],[0.5555555555555556,\"#d8576b\"],[0.6666666666666666,\"#ed7953\"],[0.7777777777777778,\"#fb9f3a\"],[0.8888888888888888,\"#fdca26\"],[1.0,\"#f0f921\"]],\"type\":\"heatmap\"}],\"heatmapgl\":[{\"colorbar\":{\"outlinewidth\":0,\"ticks\":\"\"},\"colorscale\":[[0.0,\"#0d0887\"],[0.1111111111111111,\"#46039f\"],[0.2222222222222222,\"#7201a8\"],[0.3333333333333333,\"#9c179e\"],[0.4444444444444444,\"#bd3786\"],[0.5555555555555556,\"#d8576b\"],[0.6666666666666666,\"#ed7953\"],[0.7777777777777778,\"#fb9f3a\"],[0.8888888888888888,\"#fdca26\"],[1.0,\"#f0f921\"]],\"type\":\"heatmapgl\"}],\"histogram\":[{\"marker\":{\"pattern\":{\"fillmode\":\"overlay\",\"size\":10,\"solidity\":0.2}},\"type\":\"histogram\"}],\"histogram2d\":[{\"colorbar\":{\"outlinewidth\":0,\"ticks\":\"\"},\"colorscale\":[[0.0,\"#0d0887\"],[0.1111111111111111,\"#46039f\"],[0.2222222222222222,\"#7201a8\"],[0.3333333333333333,\"#9c179e\"],[0.4444444444444444,\"#bd3786\"],[0.5555555555555556,\"#d8576b\"],[0.6666666666666666,\"#ed7953\"],[0.7777777777777778,\"#fb9f3a\"],[0.8888888888888888,\"#fdca26\"],[1.0,\"#f0f921\"]],\"type\":\"histogram2d\"}],\"histogram2dcontour\":[{\"colorbar\":{\"outlinewidth\":0,\"ticks\":\"\"},\"colorscale\":[[0.0,\"#0d0887\"],[0.1111111111111111,\"#46039f\"],[0.2222222222222222,\"#7201a8\"],[0.3333333333333333,\"#9c179e\"],[0.4444444444444444,\"#bd3786\"],[0.5555555555555556,\"#d8576b\"],[0.6666666666666666,\"#ed7953\"],[0.7777777777777778,\"#fb9f3a\"],[0.8888888888888888,\"#fdca26\"],[1.0,\"#f0f921\"]],\"type\":\"histogram2dcontour\"}],\"mesh3d\":[{\"colorbar\":{\"outlinewidth\":0,\"ticks\":\"\"},\"type\":\"mesh3d\"}],\"parcoords\":[{\"line\":{\"colorbar\":{\"outlinewidth\":0,\"ticks\":\"\"}},\"type\":\"parcoords\"}],\"pie\":[{\"automargin\":true,\"type\":\"pie\"}],\"scatter\":[{\"marker\":{\"colorbar\":{\"outlinewidth\":0,\"ticks\":\"\"}},\"type\":\"scatter\"}],\"scatter3d\":[{\"line\":{\"colorbar\":{\"outlinewidth\":0,\"ticks\":\"\"}},\"marker\":{\"colorbar\":{\"outlinewidth\":0,\"ticks\":\"\"}},\"type\":\"scatter3d\"}],\"scattercarpet\":[{\"marker\":{\"colorbar\":{\"outlinewidth\":0,\"ticks\":\"\"}},\"type\":\"scattercarpet\"}],\"scattergeo\":[{\"marker\":{\"colorbar\":{\"outlinewidth\":0,\"ticks\":\"\"}},\"type\":\"scattergeo\"}],\"scattergl\":[{\"marker\":{\"colorbar\":{\"outlinewidth\":0,\"ticks\":\"\"}},\"type\":\"scattergl\"}],\"scattermapbox\":[{\"marker\":{\"colorbar\":{\"outlinewidth\":0,\"ticks\":\"\"}},\"type\":\"scattermapbox\"}],\"scatterpolar\":[{\"marker\":{\"colorbar\":{\"outlinewidth\":0,\"ticks\":\"\"}},\"type\":\"scatterpolar\"}],\"scatterpolargl\":[{\"marker\":{\"colorbar\":{\"outlinewidth\":0,\"ticks\":\"\"}},\"type\":\"scatterpolargl\"}],\"scatterternary\":[{\"marker\":{\"colorbar\":{\"outlinewidth\":0,\"ticks\":\"\"}},\"type\":\"scatterternary\"}],\"surface\":[{\"colorbar\":{\"outlinewidth\":0,\"ticks\":\"\"},\"colorscale\":[[0.0,\"#0d0887\"],[0.1111111111111111,\"#46039f\"],[0.2222222222222222,\"#7201a8\"],[0.3333333333333333,\"#9c179e\"],[0.4444444444444444,\"#bd3786\"],[0.5555555555555556,\"#d8576b\"],[0.6666666666666666,\"#ed7953\"],[0.7777777777777778,\"#fb9f3a\"],[0.8888888888888888,\"#fdca26\"],[1.0,\"#f0f921\"]],\"type\":\"surface\"}],\"table\":[{\"cells\":{\"fill\":{\"color\":\"#EBF0F8\"},\"line\":{\"color\":\"white\"}},\"header\":{\"fill\":{\"color\":\"#C8D4E3\"},\"line\":{\"color\":\"white\"}},\"type\":\"table\"}]},\"layout\":{\"annotationdefaults\":{\"arrowcolor\":\"#2a3f5f\",\"arrowhead\":0,\"arrowwidth\":1},\"autotypenumbers\":\"strict\",\"coloraxis\":{\"colorbar\":{\"outlinewidth\":0,\"ticks\":\"\"}},\"colorscale\":{\"diverging\":[[0,\"#8e0152\"],[0.1,\"#c51b7d\"],[0.2,\"#de77ae\"],[0.3,\"#f1b6da\"],[0.4,\"#fde0ef\"],[0.5,\"#f7f7f7\"],[0.6,\"#e6f5d0\"],[0.7,\"#b8e186\"],[0.8,\"#7fbc41\"],[0.9,\"#4d9221\"],[1,\"#276419\"]],\"sequential\":[[0.0,\"#0d0887\"],[0.1111111111111111,\"#46039f\"],[0.2222222222222222,\"#7201a8\"],[0.3333333333333333,\"#9c179e\"],[0.4444444444444444,\"#bd3786\"],[0.5555555555555556,\"#d8576b\"],[0.6666666666666666,\"#ed7953\"],[0.7777777777777778,\"#fb9f3a\"],[0.8888888888888888,\"#fdca26\"],[1.0,\"#f0f921\"]],\"sequentialminus\":[[0.0,\"#0d0887\"],[0.1111111111111111,\"#46039f\"],[0.2222222222222222,\"#7201a8\"],[0.3333333333333333,\"#9c179e\"],[0.4444444444444444,\"#bd3786\"],[0.5555555555555556,\"#d8576b\"],[0.6666666666666666,\"#ed7953\"],[0.7777777777777778,\"#fb9f3a\"],[0.8888888888888888,\"#fdca26\"],[1.0,\"#f0f921\"]]},\"colorway\":[\"#636efa\",\"#EF553B\",\"#00cc96\",\"#ab63fa\",\"#FFA15A\",\"#19d3f3\",\"#FF6692\",\"#B6E880\",\"#FF97FF\",\"#FECB52\"],\"font\":{\"color\":\"#2a3f5f\"},\"geo\":{\"bgcolor\":\"white\",\"lakecolor\":\"white\",\"landcolor\":\"#E5ECF6\",\"showlakes\":true,\"showland\":true,\"subunitcolor\":\"white\"},\"hoverlabel\":{\"align\":\"left\"},\"hovermode\":\"closest\",\"mapbox\":{\"style\":\"light\"},\"paper_bgcolor\":\"white\",\"plot_bgcolor\":\"#E5ECF6\",\"polar\":{\"angularaxis\":{\"gridcolor\":\"white\",\"linecolor\":\"white\",\"ticks\":\"\"},\"bgcolor\":\"#E5ECF6\",\"radialaxis\":{\"gridcolor\":\"white\",\"linecolor\":\"white\",\"ticks\":\"\"}},\"scene\":{\"xaxis\":{\"backgroundcolor\":\"#E5ECF6\",\"gridcolor\":\"white\",\"gridwidth\":2,\"linecolor\":\"white\",\"showbackground\":true,\"ticks\":\"\",\"zerolinecolor\":\"white\"},\"yaxis\":{\"backgroundcolor\":\"#E5ECF6\",\"gridcolor\":\"white\",\"gridwidth\":2,\"linecolor\":\"white\",\"showbackground\":true,\"ticks\":\"\",\"zerolinecolor\":\"white\"},\"zaxis\":{\"backgroundcolor\":\"#E5ECF6\",\"gridcolor\":\"white\",\"gridwidth\":2,\"linecolor\":\"white\",\"showbackground\":true,\"ticks\":\"\",\"zerolinecolor\":\"white\"}},\"shapedefaults\":{\"line\":{\"color\":\"#2a3f5f\"}},\"ternary\":{\"aaxis\":{\"gridcolor\":\"white\",\"linecolor\":\"white\",\"ticks\":\"\"},\"baxis\":{\"gridcolor\":\"white\",\"linecolor\":\"white\",\"ticks\":\"\"},\"bgcolor\":\"#E5ECF6\",\"caxis\":{\"gridcolor\":\"white\",\"linecolor\":\"white\",\"ticks\":\"\"}},\"title\":{\"x\":0.05},\"xaxis\":{\"automargin\":true,\"gridcolor\":\"white\",\"linecolor\":\"white\",\"ticks\":\"\",\"title\":{\"standoff\":15},\"zerolinecolor\":\"white\",\"zerolinewidth\":2},\"yaxis\":{\"automargin\":true,\"gridcolor\":\"white\",\"linecolor\":\"white\",\"ticks\":\"\",\"title\":{\"standoff\":15},\"zerolinecolor\":\"white\",\"zerolinewidth\":2}}},\"xaxis\":{\"anchor\":\"y\",\"domain\":[0.0,1.0],\"title\":{\"text\":\"category\"}},\"yaxis\":{\"anchor\":\"x\",\"domain\":[0.0,1.0],\"title\":{\"text\":\"value\"}},\"legend\":{\"title\":{\"text\":\"variable\"},\"tracegroupgap\":0},\"margin\":{\"t\":60},\"barmode\":\"relative\"},                        {\"responsive\": true}                    ).then(function(){\n",
              "                            \n",
              "var gd = document.getElementById('f5307cd4-3e2d-463d-8ddf-c913857f3a09');\n",
              "var x = new MutationObserver(function (mutations, observer) {{\n",
              "        var display = window.getComputedStyle(gd).display;\n",
              "        if (!display || display === 'none') {{\n",
              "            console.log([gd, 'removed!']);\n",
              "            Plotly.purge(gd);\n",
              "            observer.disconnect();\n",
              "        }}\n",
              "}});\n",
              "\n",
              "// Listen for the removal of the full notebook cells\n",
              "var notebookContainer = gd.closest('#notebook-container');\n",
              "if (notebookContainer) {{\n",
              "    x.observe(notebookContainer, {childList: true});\n",
              "}}\n",
              "\n",
              "// Listen for the clearing of the current output cell\n",
              "var outputEl = gd.closest('.output');\n",
              "if (outputEl) {{\n",
              "    x.observe(outputEl, {childList: true});\n",
              "}}\n",
              "\n",
              "                        })                };                            </script>        </div>\n",
              "</body>\n",
              "</html>"
            ]
          },
          "metadata": {}
        }
      ],
      "source": [
        "# The distribution of sentiments\n",
        "df.groupby('category').count().plot(kind='bar')"
      ]
    },
    {
      "cell_type": "code",
      "execution_count": null,
      "metadata": {
        "colab": {
          "base_uri": "https://localhost:8080/",
          "height": 542
        },
        "id": "qVrYdXcKYoj6",
        "outputId": "53526e4f-021f-4b8c-ff9f-8aa4050ccd23"
      },
      "outputs": [
        {
          "output_type": "display_data",
          "data": {
            "text/html": [
              "<html>\n",
              "<head><meta charset=\"utf-8\" /></head>\n",
              "<body>\n",
              "    <div>            <script src=\"https://cdnjs.cloudflare.com/ajax/libs/mathjax/2.7.5/MathJax.js?config=TeX-AMS-MML_SVG\"></script><script type=\"text/javascript\">if (window.MathJax) {MathJax.Hub.Config({SVG: {font: \"STIX-Web\"}});}</script>                <script type=\"text/javascript\">window.PlotlyConfig = {MathJaxConfig: 'local'};</script>\n",
              "        <script src=\"https://cdn.plot.ly/plotly-2.8.3.min.js\"></script>                <div id=\"4ac28445-a95d-4283-9d89-0f7c51eac144\" class=\"plotly-graph-div\" style=\"height:525px; width:100%;\"></div>            <script type=\"text/javascript\">                                    window.PLOTLYENV=window.PLOTLYENV || {};                                    if (document.getElementById(\"4ac28445-a95d-4283-9d89-0f7c51eac144\")) {                    Plotly.newPlot(                        \"4ac28445-a95d-4283-9d89-0f7c51eac144\",                        [{\"domain\":{\"x\":[0.0,1.0],\"y\":[0.0,1.0]},\"hovertemplate\":\"category=%{label}<extra></extra>\",\"labels\":[\"Cukup\",\"Cukup\",\"Kurang\",\"Baik\",\"Baik\",\"Kurang\",\"Baik\",\"Baik\",\"Baik\",\"Kurang\",\"Cukup\",\"Cukup\",\"Baik\",\"Cukup\",\"Sangat Baik\",\"Cukup\",\"Kurang\",\"Baik\",\"Kurang\",\"Kurang\",\"Baik\",\"Kurang\",\"Kurang\",\"Kurang\",\"Kurang\",\"Cukup\",\"Cukup\",\"Cukup\",\"Kurang\",\"Kurang\",\"Kurang\",\"Cukup\",\"Kurang\",\"Kurang\",\"Kurang\",\"Kurang\",\"Kurang\",\"Kurang\",\"Baik\",\"Kurang\",\"Kurang\",\"Sangat Baik\",\"Kurang\",\"Kurang\",\"Baik\",\"Baik\",\"Kurang\",\"Baik\",\"Kurang\",\"Baik\",\"Baik\",\"Sangat Baik\",\"Kurang\",\"Kurang\",\"Baik\",\"Cukup\",\"Kurang\",\"Sangat Baik\",\"Sangat Baik\",\"Sangat Baik\",\"Cukup\",\"Cukup\",\"Baik\",\"Cukup\",\"Sangat Baik\",\"Cukup\",\"Kurang\",\"Sangat Baik\",\"Baik\",\"Sangat Baik\",\"Sangat Baik\",\"Cukup\",\"Kurang\",\"Baik\",\"Sangat Baik\",\"Sangat Baik\",\"Sangat Baik\",\"Kurang\",\"Sangat Baik\",\"Sangat Baik\",\"Kurang\",\"Baik\",\"Sangat Baik\",\"Cukup\",\"Baik\",\"Sangat Baik\",\"Baik\",\"Baik\",\"Sangat Baik\",\"Sangat Baik\",\"Baik\",\"Kurang\",\"Cukup\",\"Baik\",\"Sangat Baik\",\"Sangat Baik\",\"Baik\",\"Kurang\",\"Sangat Baik\",\"Kurang\",\"Baik\",\"Baik\",\"Sangat Baik\",\"Baik\",\"Sangat Baik\",\"Sangat Baik\",\"Sangat Baik\",\"Cukup\",\"Sangat Baik\",\"Cukup\",\"Baik\",\"Cukup\",\"Sangat Baik\",\"Baik\",\"Cukup\",\"Kurang\",\"Baik\",\"Kurang\",\"Baik\",\"Sangat Baik\",\"Baik\",\"Cukup\",\"Baik\",\"Kurang\",\"Kurang\",\"Cukup\",\"Sangat Baik\",\"Sangat Baik\",\"Baik\",\"Sangat Baik\",\"Sangat Baik\",\"Sangat Baik\",\"Sangat Baik\",\"Sangat Baik\",\"Kurang\",\"Cukup\",\"Baik\",\"Kurang\",\"Baik\",\"Cukup\",\"Kurang\",\"Baik\",\"Kurang\",\"Kurang\",\"Kurang\",\"Baik\",\"Kurang\",\"Kurang\",\"Sangat Baik\",\"Sangat Baik\",\"Cukup\",\"Cukup\",\"Baik\",\"Kurang\",\"Kurang\",\"Sangat Baik\",\"Kurang\",\"Sangat Baik\",\"Sangat Baik\",\"Sangat Baik\",\"Sangat Baik\",\"Kurang\",\"Kurang\",\"Sangat Baik\",\"Kurang\",\"Sangat Baik\",\"Kurang\",\"Baik\",\"Cukup\",\"Cukup\",\"Sangat Baik\",\"Sangat Baik\",\"Sangat Baik\",\"Cukup\",\"Cukup\",\"Baik\",\"Baik\",\"Sangat Baik\",\"Sangat Baik\",\"Sangat Baik\",\"Cukup\",\"Kurang\",\"Sangat Baik\",\"Kurang\",\"Kurang\",\"Cukup\",\"Kurang\",\"Baik\",\"Kurang\",\"Cukup\",\"Cukup\",\"Kurang\",\"Kurang\",\"Sangat Baik\",\"Sangat Baik\",\"Cukup\",\"Kurang\",\"Kurang\",\"Cukup\",\"Baik\",\"Sangat Baik\",\"Baik\",\"Sangat Baik\",\"Sangat Baik\",\"Kurang\",\"Sangat Baik\",\"Sangat Baik\",\"Kurang\",\"Sangat Baik\",\"Cukup\",\"Sangat Baik\",\"Sangat Baik\",\"Kurang\",\"Kurang\",\"Kurang\",\"Sangat Baik\",\"Sangat Baik\",\"Cukup\",\"Sangat Baik\",\"Sangat Baik\",\"Sangat Baik\",\"Sangat Baik\",\"Kurang\",\"Kurang\",\"Kurang\",\"Sangat Baik\",\"Cukup\",\"Baik\",\"Kurang\",\"Kurang\",\"Kurang\",\"Sangat Baik\",\"Cukup\",\"Sangat Baik\",\"Sangat Baik\",\"Sangat Baik\",\"Kurang\",\"Baik\",\"Cukup\",\"Cukup\",\"Cukup\",\"Baik\",\"Baik\",\"Sangat Baik\",\"Cukup\",\"Sangat Baik\",\"Sangat Baik\",\"Kurang\",\"Cukup\",\"Baik\",\"Sangat Baik\",\"Sangat Baik\",\"Sangat Baik\",\"Sangat Baik\",\"Sangat Baik\",\"Sangat Baik\",\"Cukup\",\"Cukup\",\"Kurang\",\"Baik\",\"Kurang\",\"Cukup\",\"Kurang\",\"Baik\",\"Kurang\",\"Kurang\",\"Sangat Baik\",\"Kurang\",\"Cukup\",\"Kurang\",\"Kurang\",\"Cukup\",\"Sangat Baik\",\"Sangat Baik\",\"Baik\",\"Kurang\",\"Cukup\",\"Sangat Baik\",\"Cukup\",\"Baik\",\"Kurang\",\"Kurang\",\"Kurang\",\"Sangat Baik\",\"Sangat Baik\",\"Kurang\",\"Sangat Baik\",\"Sangat Baik\",\"Sangat Baik\",\"Sangat Baik\",\"Cukup\",\"Cukup\",\"Sangat Baik\",\"Cukup\",\"Cukup\",\"Kurang\",\"Kurang\",\"Kurang\",\"Cukup\",\"Cukup\",\"Cukup\",\"Cukup\",\"Cukup\",\"Cukup\",\"Cukup\",\"Cukup\",\"Kurang\",\"Kurang\",\"Kurang\",\"Cukup\",\"Sangat Baik\",\"Baik\",\"Kurang\",\"Kurang\",\"Cukup\",\"Cukup\",\"Cukup\",\"Cukup\",\"Kurang\",\"Kurang\",\"Sangat Baik\",\"Sangat Baik\",\"Cukup\",\"Sangat Baik\",\"Sangat Baik\",\"Cukup\",\"Cukup\",\"Sangat Baik\",\"Baik\",\"Cukup\",\"Sangat Baik\",\"Kurang\",\"Cukup\",\"Kurang\",\"Baik\",\"Cukup\",\"Cukup\",\"Baik\",\"Baik\",\"Kurang\",\"Sangat Baik\",\"Kurang\",\"Sangat Baik\",\"Kurang\",\"Cukup\",\"Cukup\",\"Kurang\",\"Kurang\",\"Kurang\",\"Baik\",\"Sangat Baik\",\"Cukup\",\"Sangat Baik\",\"Sangat Baik\",\"Cukup\",\"Cukup\",\"Sangat Baik\",\"Kurang\",\"Kurang\",\"Kurang\",\"Cukup\",\"Baik\",\"Cukup\",\"Cukup\",\"Cukup\",\"Sangat Baik\",\"Cukup\",\"Kurang\",\"Cukup\",\"Baik\",\"Baik\",\"Baik\",\"Cukup\",\"Sangat Baik\",\"Baik\",\"Baik\",\"Kurang\",\"Cukup\",\"Baik\",\"Cukup\",\"Baik\",\"Cukup\",\"Cukup\",\"Cukup\",\"Cukup\",\"Kurang\",\"Kurang\",\"Cukup\",\"Cukup\",\"Sangat Baik\",\"Cukup\",\"Cukup\",\"Kurang\",\"Kurang\",\"Kurang\",\"Cukup\",\"Cukup\",\"Kurang\",\"Kurang\",\"Sangat Baik\",\"Cukup\",\"Kurang\",\"Sangat Baik\",\"Baik\",\"Sangat Baik\",\"Cukup\",\"Kurang\",\"Kurang\",\"Sangat Baik\",\"Cukup\",\"Cukup\",\"Kurang\",\"Kurang\",\"Sangat Baik\",\"Cukup\",\"Sangat Baik\",\"Kurang\",\"Kurang\",\"Sangat Baik\",\"Kurang\",\"Sangat Baik\",\"Cukup\",\"Sangat Baik\",\"Cukup\",\"Cukup\",\"Sangat Baik\",\"Cukup\",\"Cukup\",\"Cukup\",\"Kurang\",\"Baik\",\"Baik\",\"Cukup\",\"Sangat Baik\",\"Cukup\",\"Baik\",\"Kurang\",\"Kurang\",\"Sangat Baik\",\"Kurang\",\"Kurang\",\"Kurang\",\"Kurang\",\"Baik\",\"Sangat Baik\",\"Kurang\",\"Cukup\",\"Sangat Baik\",\"Baik\",\"Sangat Baik\",\"Kurang\",\"Sangat Baik\",\"Sangat Baik\",\"Sangat Baik\",\"Cukup\",\"Sangat Baik\",\"Sangat Baik\",\"Cukup\",\"Kurang\",\"Cukup\",\"Cukup\",\"Sangat Baik\",\"Sangat Baik\",\"Sangat Baik\",\"Sangat Baik\",\"Sangat Baik\",\"Cukup\",\"Sangat Baik\",\"Baik\",\"Kurang\",\"Baik\",\"Sangat Baik\",\"Kurang\",\"Kurang\",\"Kurang\",\"Baik\",\"Kurang\",\"Sangat Baik\",\"Sangat Baik\",\"Cukup\",\"Cukup\",\"Baik\",\"Cukup\",\"Sangat Baik\",\"Cukup\",\"Sangat Baik\",\"Baik\",\"Cukup\",\"Cukup\",\"Sangat Baik\",\"Kurang\",\"Cukup\",\"Cukup\",\"Sangat Baik\",\"Cukup\",\"Kurang\",\"Cukup\",\"Cukup\",\"Sangat Baik\",\"Kurang\",\"Baik\",\"Kurang\",\"Sangat Baik\",\"Cukup\",\"Sangat Baik\",\"Sangat Baik\",\"Sangat Baik\",\"Baik\",\"Sangat Baik\",\"Sangat Baik\",\"Kurang\",\"Kurang\",\"Sangat Baik\",\"Sangat Baik\",\"Baik\",\"Sangat Baik\",\"Sangat Baik\",\"Sangat Baik\",\"Sangat Baik\",\"Sangat Baik\",\"Sangat Baik\",\"Sangat Baik\",\"Kurang\",\"Kurang\",\"Sangat Baik\",\"Sangat Baik\",\"Sangat Baik\",\"Sangat Baik\",\"Sangat Baik\",\"Baik\",\"Sangat Baik\",\"Sangat Baik\",\"Sangat Baik\",\"Cukup\",\"Cukup\",\"Cukup\",\"Cukup\",\"Cukup\",\"Cukup\",\"Cukup\",\"Cukup\",\"Kurang\",\"Cukup\",\"Sangat Baik\",\"Kurang\",\"Baik\",\"Kurang\",\"Baik\",\"Kurang\",\"Kurang\",\"Sangat Baik\",\"Cukup\",\"Cukup\",\"Sangat Baik\",\"Cukup\",\"Sangat Baik\",\"Cukup\",\"Kurang\",\"Sangat Baik\",\"Sangat Baik\",\"Baik\",\"Cukup\",\"Cukup\",\"Cukup\",\"Sangat Baik\",\"Sangat Baik\",\"Baik\",\"Sangat Baik\",\"Sangat Baik\",\"Sangat Baik\",\"Sangat Baik\",\"Kurang\",\"Sangat Baik\",\"Sangat Baik\",\"Kurang\",\"Sangat Baik\",\"Kurang\",\"Cukup\",\"Cukup\",\"Sangat Baik\",\"Sangat Baik\",\"Sangat Baik\",\"Baik\",\"Baik\",\"Baik\",\"Sangat Baik\",\"Kurang\",\"Sangat Baik\",\"Cukup\",\"Kurang\",\"Kurang\",\"Kurang\",\"Baik\",\"Baik\",\"Cukup\",\"Cukup\",\"Baik\",\"Baik\",\"Kurang\",\"Baik\",\"Baik\",\"Sangat Baik\",\"Cukup\",\"Cukup\",\"Baik\",\"Cukup\",\"Kurang\",\"Cukup\",\"Kurang\",\"Kurang\",\"Kurang\",\"Kurang\",\"Kurang\",\"Kurang\",\"Kurang\",\"Kurang\",\"Kurang\",\"Kurang\",\"Kurang\",\"Kurang\",\"Baik\",\"Kurang\",\"Kurang\",\"Kurang\",\"Sangat Baik\",\"Sangat Baik\",\"Kurang\",\"Baik\",\"Sangat Baik\",\"Sangat Baik\",\"Sangat Baik\",\"Cukup\",\"Sangat Baik\",\"Cukup\",\"Baik\",\"Baik\",\"Sangat Baik\",\"Cukup\",\"Sangat Baik\",\"Cukup\",\"Sangat Baik\",\"Sangat Baik\",\"Sangat Baik\",\"Kurang\",\"Kurang\",\"Baik\",\"Baik\",\"Cukup\",\"Kurang\",\"Cukup\",\"Cukup\",\"Baik\",\"Cukup\",\"Baik\",\"Cukup\",\"Sangat Baik\",\"Sangat Baik\",\"Cukup\",\"Cukup\",\"Kurang\",\"Cukup\",\"Sangat Baik\",\"Sangat Baik\",\"Sangat Baik\",\"Sangat Baik\",\"Sangat Baik\",\"Baik\",\"Sangat Baik\",\"Sangat Baik\",\"Baik\",\"Kurang\",\"Baik\",\"Cukup\",\"Cukup\",\"Cukup\",\"Cukup\",\"Sangat Baik\",\"Baik\",\"Sangat Baik\",\"Kurang\",\"Baik\",\"Sangat Baik\",\"Baik\",\"Sangat Baik\",\"Sangat Baik\",\"Sangat Baik\",\"Baik\",\"Kurang\",\"Sangat Baik\",\"Cukup\",\"Cukup\",\"Kurang\",\"Cukup\",\"Cukup\",\"Cukup\",\"Cukup\",\"Baik\",\"Kurang\",\"Kurang\",\"Cukup\",\"Cukup\",\"Baik\",\"Baik\",\"Cukup\",\"Baik\",\"Sangat Baik\",\"Sangat Baik\",\"Sangat Baik\",\"Sangat Baik\",\"Baik\",\"Sangat Baik\",\"Baik\",\"Sangat Baik\",\"Cukup\",\"Cukup\",\"Kurang\",\"Cukup\",\"Kurang\",\"Sangat Baik\",\"Sangat Baik\",\"Sangat Baik\",\"Sangat Baik\",\"Kurang\",\"Kurang\",\"Kurang\",\"Kurang\",\"Kurang\",\"Baik\",\"Kurang\",\"Sangat Baik\",\"Cukup\",\"Cukup\",\"Cukup\",\"Cukup\",\"Cukup\",\"Kurang\",\"Baik\",\"Baik\",\"Baik\",\"Sangat Baik\",\"Kurang\",\"Kurang\",\"Sangat Baik\",\"Baik\",\"Sangat Baik\",\"Sangat Baik\",\"Cukup\",\"Sangat Baik\",\"Sangat Baik\",\"Kurang\",\"Sangat Baik\",\"Kurang\",\"Sangat Baik\",\"Kurang\",\"Baik\",\"Sangat Baik\",\"Baik\",\"Baik\",\"Kurang\",\"Baik\",\"Cukup\",\"Cukup\",\"Kurang\",\"Kurang\",\"Kurang\",\"Kurang\",\"Kurang\",\"Kurang\",\"Kurang\",\"Kurang\",\"Sangat Baik\",\"Cukup\",\"Cukup\",\"Baik\",\"Cukup\",\"Sangat Baik\",\"Kurang\",\"Kurang\",\"Kurang\",\"Sangat Baik\",\"Baik\",\"Kurang\",\"Kurang\",\"Kurang\",\"Kurang\",\"Kurang\",\"Cukup\",\"Cukup\",\"Kurang\",\"Cukup\",\"Cukup\",\"Kurang\",\"Sangat Baik\",\"Kurang\",\"Kurang\",\"Kurang\",\"Kurang\",\"Kurang\",\"Sangat Baik\",\"Kurang\",\"Kurang\",\"Sangat Baik\",\"Kurang\",\"Kurang\",\"Kurang\",\"Kurang\",\"Kurang\",\"Cukup\",\"Kurang\",\"Kurang\",\"Kurang\",\"Sangat Baik\",\"Kurang\",\"Kurang\",\"Kurang\",\"Kurang\",\"Kurang\",\"Kurang\",\"Baik\",\"Baik\",\"Baik\",\"Kurang\",\"Cukup\",\"Cukup\",\"Sangat Baik\",\"Sangat Baik\",\"Baik\",\"Sangat Baik\",\"Sangat Baik\",\"Sangat Baik\",\"Sangat Baik\",\"Sangat Baik\",\"Sangat Baik\",\"Kurang\",\"Baik\",\"Sangat Baik\",\"Baik\",\"Sangat Baik\",\"Sangat Baik\",\"Kurang\",\"Kurang\",\"Cukup\",\"Kurang\",\"Kurang\",\"Sangat Baik\",\"Cukup\",\"Kurang\",\"Kurang\",\"Cukup\",\"Cukup\",\"Cukup\",\"Cukup\",\"Sangat Baik\",\"Cukup\",\"Cukup\",\"Sangat Baik\",\"Cukup\",\"Sangat Baik\",\"Kurang\",\"Cukup\",\"Kurang\",\"Baik\",\"Cukup\",\"Cukup\",\"Cukup\",\"Kurang\",\"Sangat Baik\",\"Cukup\",\"Kurang\",\"Kurang\",\"Baik\",\"Kurang\",\"Baik\",\"Kurang\",\"Sangat Baik\",\"Sangat Baik\",\"Sangat Baik\",\"Kurang\",\"Kurang\",\"Kurang\",\"Cukup\",\"Kurang\",\"Cukup\",\"Cukup\",\"Kurang\",\"Kurang\",\"Sangat Baik\",\"Baik\",\"Kurang\",\"Kurang\",\"Kurang\",\"Baik\",\"Kurang\",\"Cukup\",\"Kurang\",\"Cukup\",\"Sangat Baik\",\"Baik\",\"Cukup\",\"Sangat Baik\",\"Sangat Baik\",\"Sangat Baik\",\"Cukup\",\"Kurang\",\"Sangat Baik\",\"Kurang\",\"Kurang\",\"Kurang\",\"Baik\",\"Sangat Baik\",\"Sangat Baik\",\"Kurang\",\"Cukup\",\"Cukup\",\"Sangat Baik\",\"Cukup\",\"Cukup\",\"Cukup\",\"Cukup\",\"Kurang\",\"Sangat Baik\",\"Cukup\",\"Cukup\",\"Sangat Baik\",\"Sangat Baik\",\"Cukup\",\"Cukup\",\"Cukup\",\"Cukup\",\"Sangat Baik\",\"Kurang\",\"Cukup\",\"Sangat Baik\",\"Kurang\",\"Sangat Baik\",\"Baik\",\"Kurang\",\"Sangat Baik\",\"Cukup\",\"Baik\",\"Cukup\",\"Kurang\",\"Cukup\",\"Cukup\",\"Cukup\",\"Cukup\",\"Cukup\",\"Cukup\",\"Cukup\",\"Cukup\",\"Kurang\",\"Cukup\",\"Sangat Baik\",\"Baik\",\"Cukup\",\"Cukup\",\"Cukup\",\"Kurang\",\"Cukup\",\"Baik\",\"Cukup\",\"Cukup\",\"Cukup\",\"Cukup\",\"Sangat Baik\",\"Cukup\",\"Kurang\",\"Kurang\",\"Cukup\",\"Sangat Baik\",\"Kurang\",\"Kurang\",\"Sangat Baik\",\"Sangat Baik\",\"Sangat Baik\",\"Sangat Baik\",\"Baik\",\"Sangat Baik\",\"Baik\",\"Kurang\",\"Sangat Baik\",\"Sangat Baik\",\"Cukup\",\"Cukup\",\"Cukup\",\"Cukup\",\"Cukup\",\"Cukup\",\"Cukup\",\"Cukup\",\"Cukup\",\"Sangat Baik\",\"Sangat Baik\",\"Sangat Baik\",\"Sangat Baik\",\"Sangat Baik\",\"Sangat Baik\",\"Baik\",\"Baik\",\"Cukup\",\"Baik\",\"Cukup\",\"Cukup\",\"Cukup\",\"Kurang\",\"Baik\",\"Baik\",\"Cukup\",\"Cukup\",\"Kurang\",\"Baik\",\"Cukup\",\"Cukup\",\"Kurang\",\"Baik\",\"Baik\",\"Kurang\",\"Baik\",\"Baik\",\"Baik\",\"Kurang\",\"Cukup\",\"Cukup\",\"Baik\",\"Cukup\",\"Sangat Baik\",\"Cukup\",\"Kurang\",\"Baik\",\"Kurang\",\"Kurang\",\"Baik\",\"Kurang\",\"Kurang\",\"Kurang\",\"Kurang\",\"Cukup\",\"Cukup\",\"Cukup\",\"Kurang\",\"Kurang\",\"Kurang\",\"Cukup\",\"Kurang\",\"Kurang\",\"Kurang\",\"Kurang\",\"Kurang\",\"Kurang\",\"Baik\",\"Kurang\",\"Kurang\",\"Sangat Baik\",\"Kurang\",\"Kurang\",\"Baik\",\"Baik\",\"Kurang\",\"Baik\",\"Kurang\",\"Baik\",\"Baik\",\"Sangat Baik\",\"Kurang\",\"Kurang\",\"Baik\",\"Cukup\",\"Kurang\",\"Sangat Baik\",\"Sangat Baik\",\"Sangat Baik\",\"Cukup\",\"Cukup\",\"Baik\",\"Cukup\",\"Sangat Baik\",\"Cukup\",\"Kurang\",\"Sangat Baik\",\"Baik\",\"Sangat Baik\",\"Sangat Baik\",\"Cukup\",\"Kurang\",\"Baik\",\"Sangat Baik\",\"Sangat Baik\",\"Sangat Baik\",\"Kurang\",\"Sangat Baik\",\"Sangat Baik\",\"Kurang\",\"Baik\",\"Sangat Baik\",\"Cukup\",\"Baik\",\"Sangat Baik\",\"Baik\",\"Baik\",\"Sangat Baik\",\"Sangat Baik\",\"Baik\",\"Kurang\",\"Cukup\",\"Baik\",\"Sangat Baik\",\"Sangat Baik\",\"Baik\",\"Kurang\",\"Sangat Baik\",\"Kurang\",\"Baik\",\"Baik\",\"Sangat Baik\",\"Baik\",\"Sangat Baik\",\"Sangat Baik\",\"Sangat Baik\",\"Cukup\",\"Sangat Baik\",\"Cukup\",\"Baik\",\"Cukup\",\"Sangat Baik\",\"Baik\",\"Cukup\",\"Kurang\",\"Baik\",\"Kurang\",\"Baik\",\"Sangat Baik\",\"Baik\",\"Cukup\",\"Baik\",\"Kurang\",\"Kurang\",\"Cukup\",\"Sangat Baik\",\"Sangat Baik\",\"Baik\",\"Sangat Baik\",\"Sangat Baik\",\"Sangat Baik\",\"Sangat Baik\",\"Sangat Baik\",\"Kurang\",\"Cukup\",\"Baik\",\"Kurang\",\"Baik\",\"Cukup\",\"Kurang\",\"Baik\",\"Kurang\",\"Kurang\",\"Kurang\",\"Baik\",\"Kurang\",\"Kurang\",\"Sangat Baik\",\"Sangat Baik\",\"Cukup\",\"Cukup\",\"Baik\",\"Kurang\",\"Kurang\",\"Sangat Baik\",\"Kurang\",\"Sangat Baik\",\"Sangat Baik\",\"Sangat Baik\",\"Sangat Baik\",\"Kurang\",\"Kurang\",\"Sangat Baik\",\"Kurang\",\"Sangat Baik\",\"Kurang\",\"Baik\",\"Cukup\",\"Cukup\",\"Sangat Baik\",\"Sangat Baik\",\"Sangat Baik\",\"Cukup\",\"Cukup\",\"Baik\",\"Baik\",\"Sangat Baik\",\"Sangat Baik\",\"Sangat Baik\",\"Cukup\",\"Kurang\",\"Sangat Baik\",\"Kurang\",\"Kurang\",\"Cukup\",\"Kurang\",\"Baik\",\"Kurang\",\"Cukup\",\"Cukup\",\"Kurang\",\"Kurang\",\"Sangat Baik\",\"Sangat Baik\",\"Cukup\",\"Kurang\",\"Kurang\",\"Cukup\",\"Baik\",\"Sangat Baik\",\"Baik\",\"Sangat Baik\",\"Sangat Baik\",\"Kurang\",\"Sangat Baik\",\"Sangat Baik\",\"Kurang\",\"Sangat Baik\",\"Cukup\",\"Sangat Baik\",\"Sangat Baik\",\"Kurang\",\"Kurang\",\"Kurang\",\"Sangat Baik\",\"Sangat Baik\",\"Cukup\",\"Sangat Baik\",\"Sangat Baik\",\"Sangat Baik\",\"Sangat Baik\",\"Kurang\",\"Kurang\",\"Kurang\",\"Sangat Baik\",\"Cukup\",\"Baik\",\"Kurang\",\"Kurang\",\"Kurang\",\"Sangat Baik\",\"Cukup\",\"Sangat Baik\",\"Sangat Baik\",\"Sangat Baik\",\"Kurang\",\"Baik\",\"Cukup\",\"Cukup\",\"Cukup\",\"Baik\",\"Baik\",\"Sangat Baik\",\"Cukup\",\"Sangat Baik\",\"Sangat Baik\",\"Kurang\",\"Cukup\",\"Baik\",\"Sangat Baik\",\"Sangat Baik\",\"Sangat Baik\",\"Sangat Baik\",\"Sangat Baik\",\"Sangat Baik\",\"Cukup\",\"Cukup\",\"Kurang\",\"Baik\",\"Kurang\",\"Cukup\",\"Kurang\",\"Baik\",\"Kurang\",\"Kurang\",\"Sangat Baik\",\"Kurang\",\"Cukup\",\"Kurang\",\"Kurang\",\"Cukup\",\"Sangat Baik\",\"Sangat Baik\",\"Baik\",\"Kurang\",\"Cukup\",\"Sangat Baik\",\"Cukup\",\"Baik\",\"Kurang\",\"Kurang\",\"Kurang\",\"Sangat Baik\",\"Sangat Baik\",\"Kurang\",\"Sangat Baik\",\"Sangat Baik\",\"Sangat Baik\",\"Sangat Baik\",\"Cukup\",\"Cukup\",\"Sangat Baik\",\"Cukup\",\"Cukup\",\"Kurang\",\"Kurang\",\"Kurang\",\"Cukup\",\"Cukup\",\"Cukup\",\"Cukup\",\"Cukup\",\"Cukup\",\"Cukup\",\"Cukup\",\"Kurang\",\"Kurang\",\"Kurang\",\"Cukup\",\"Sangat Baik\",\"Baik\",\"Kurang\",\"Kurang\",\"Cukup\",\"Cukup\",\"Cukup\",\"Cukup\",\"Kurang\",\"Kurang\",\"Sangat Baik\",\"Sangat Baik\",\"Cukup\",\"Sangat Baik\",\"Sangat Baik\",\"Cukup\",\"Cukup\",\"Sangat Baik\",\"Baik\",\"Cukup\",\"Sangat Baik\",\"Kurang\",\"Cukup\",\"Kurang\",\"Baik\",\"Cukup\",\"Cukup\",\"Baik\",\"Baik\",\"Kurang\",\"Sangat Baik\",\"Kurang\",\"Sangat Baik\",\"Kurang\",\"Cukup\",\"Cukup\",\"Kurang\",\"Kurang\",\"Kurang\",\"Baik\",\"Sangat Baik\",\"Cukup\",\"Sangat Baik\",\"Sangat Baik\",\"Cukup\",\"Cukup\",\"Sangat Baik\",\"Kurang\",\"Kurang\",\"Kurang\",\"Cukup\",\"Baik\",\"Cukup\",\"Cukup\",\"Cukup\",\"Sangat Baik\",\"Cukup\",\"Kurang\",\"Cukup\",\"Baik\",\"Baik\",\"Baik\",\"Cukup\",\"Sangat Baik\",\"Baik\",\"Baik\",\"Kurang\",\"Cukup\",\"Baik\",\"Cukup\",\"Baik\",\"Cukup\",\"Cukup\",\"Cukup\",\"Cukup\",\"Kurang\",\"Kurang\",\"Cukup\",\"Cukup\",\"Sangat Baik\",\"Cukup\",\"Cukup\",\"Kurang\",\"Kurang\",\"Kurang\",\"Cukup\",\"Cukup\",\"Kurang\",\"Kurang\",\"Sangat Baik\",\"Cukup\",\"Kurang\",\"Sangat Baik\",\"Baik\",\"Sangat Baik\",\"Cukup\",\"Kurang\",\"Kurang\",\"Sangat Baik\",\"Cukup\",\"Cukup\",\"Kurang\",\"Kurang\",\"Sangat Baik\",\"Cukup\",\"Sangat Baik\",\"Kurang\",\"Kurang\",\"Sangat Baik\",\"Kurang\",\"Sangat Baik\",\"Cukup\",\"Sangat Baik\",\"Cukup\",\"Cukup\",\"Sangat Baik\",\"Cukup\",\"Cukup\",\"Cukup\",\"Kurang\",\"Baik\",\"Baik\",\"Cukup\",\"Sangat Baik\",\"Cukup\",\"Baik\",\"Kurang\",\"Kurang\",\"Sangat Baik\",\"Kurang\",\"Kurang\",\"Kurang\",\"Kurang\",\"Baik\",\"Sangat Baik\",\"Kurang\",\"Cukup\",\"Sangat Baik\",\"Baik\",\"Sangat Baik\",\"Kurang\",\"Sangat Baik\",\"Sangat Baik\",\"Sangat Baik\",\"Cukup\",\"Sangat Baik\",\"Sangat Baik\",\"Cukup\",\"Kurang\",\"Cukup\",\"Cukup\",\"Sangat Baik\",\"Sangat Baik\",\"Sangat Baik\",\"Sangat Baik\",\"Sangat Baik\",\"Cukup\",\"Sangat Baik\",\"Baik\",\"Kurang\",\"Baik\",\"Sangat Baik\",\"Kurang\",\"Kurang\",\"Kurang\",\"Baik\",\"Kurang\",\"Sangat Baik\",\"Sangat Baik\",\"Cukup\",\"Cukup\",\"Baik\",\"Cukup\",\"Sangat Baik\",\"Cukup\",\"Sangat Baik\",\"Baik\",\"Cukup\",\"Cukup\",\"Sangat Baik\",\"Kurang\",\"Cukup\",\"Cukup\",\"Sangat Baik\",\"Cukup\",\"Kurang\",\"Cukup\",\"Cukup\",\"Sangat Baik\",\"Kurang\",\"Baik\",\"Kurang\",\"Sangat Baik\",\"Cukup\",\"Sangat Baik\",\"Sangat Baik\",\"Sangat Baik\",\"Baik\",\"Sangat Baik\",\"Sangat Baik\",\"Kurang\",\"Kurang\",\"Sangat Baik\",\"Sangat Baik\",\"Baik\",\"Sangat Baik\",\"Sangat Baik\",\"Sangat Baik\",\"Sangat Baik\",\"Sangat Baik\",\"Sangat Baik\",\"Sangat Baik\",\"Kurang\",\"Kurang\",\"Sangat Baik\",\"Sangat Baik\",\"Sangat Baik\",\"Sangat Baik\",\"Sangat Baik\",\"Baik\",\"Sangat Baik\",\"Sangat Baik\",\"Sangat Baik\",\"Cukup\",\"Cukup\",\"Cukup\",\"Cukup\",\"Cukup\",\"Cukup\",\"Cukup\",\"Cukup\",\"Kurang\",\"Cukup\",\"Sangat Baik\",\"Kurang\",\"Baik\",\"Kurang\",\"Baik\",\"Kurang\",\"Kurang\",\"Sangat Baik\",\"Cukup\",\"Cukup\",\"Sangat Baik\",\"Cukup\",\"Sangat Baik\",\"Cukup\",\"Kurang\",\"Sangat Baik\",\"Sangat Baik\",\"Baik\",\"Cukup\",\"Cukup\",\"Cukup\",\"Sangat Baik\",\"Sangat Baik\",\"Baik\",\"Sangat Baik\",\"Sangat Baik\",\"Sangat Baik\",\"Sangat Baik\",\"Kurang\",\"Sangat Baik\",\"Sangat Baik\",\"Kurang\",\"Sangat Baik\",\"Kurang\",\"Cukup\",\"Cukup\",\"Sangat Baik\",\"Sangat Baik\",\"Sangat Baik\",\"Baik\",\"Baik\",\"Baik\",\"Sangat Baik\",\"Kurang\",\"Sangat Baik\",\"Cukup\",\"Kurang\",\"Kurang\",\"Kurang\",\"Baik\",\"Baik\",\"Cukup\",\"Cukup\",\"Baik\",\"Baik\",\"Kurang\",\"Baik\",\"Baik\",\"Sangat Baik\",\"Cukup\",\"Cukup\",\"Baik\",\"Cukup\",\"Kurang\",\"Cukup\",\"Kurang\",\"Kurang\",\"Kurang\",\"Kurang\",\"Kurang\",\"Kurang\",\"Kurang\",\"Kurang\",\"Kurang\",\"Kurang\",\"Kurang\",\"Kurang\",\"Baik\",\"Kurang\",\"Kurang\",\"Kurang\",\"Sangat Baik\",\"Sangat Baik\",\"Kurang\",\"Baik\",\"Sangat Baik\",\"Sangat Baik\",\"Sangat Baik\",\"Cukup\",\"Sangat Baik\",\"Cukup\",\"Baik\",\"Baik\",\"Sangat Baik\",\"Cukup\",\"Sangat Baik\",\"Cukup\",\"Sangat Baik\",\"Sangat Baik\",\"Sangat Baik\",\"Kurang\",\"Kurang\",\"Baik\",\"Baik\",\"Cukup\",\"Kurang\",\"Cukup\",\"Cukup\",\"Baik\",\"Cukup\",\"Baik\",\"Cukup\",\"Sangat Baik\",\"Sangat Baik\",\"Cukup\",\"Cukup\",\"Kurang\",\"Cukup\",\"Sangat Baik\",\"Sangat Baik\",\"Sangat Baik\",\"Sangat Baik\",\"Sangat Baik\",\"Baik\",\"Sangat Baik\",\"Sangat Baik\",\"Baik\",\"Kurang\",\"Baik\",\"Cukup\",\"Cukup\",\"Cukup\",\"Cukup\",\"Sangat Baik\",\"Baik\",\"Sangat Baik\",\"Kurang\",\"Baik\",\"Sangat Baik\",\"Baik\",\"Sangat Baik\",\"Sangat Baik\",\"Sangat Baik\",\"Baik\",\"Kurang\",\"Sangat Baik\",\"Cukup\",\"Cukup\",\"Kurang\",\"Cukup\",\"Cukup\",\"Cukup\",\"Cukup\",\"Baik\",\"Kurang\",\"Kurang\",\"Cukup\",\"Cukup\",\"Baik\",\"Baik\",\"Cukup\",\"Baik\",\"Sangat Baik\",\"Sangat Baik\",\"Sangat Baik\",\"Sangat Baik\",\"Baik\",\"Sangat Baik\",\"Baik\",\"Sangat Baik\",\"Cukup\",\"Cukup\",\"Kurang\",\"Cukup\",\"Kurang\",\"Sangat Baik\",\"Sangat Baik\",\"Sangat Baik\",\"Sangat Baik\",\"Kurang\",\"Kurang\",\"Kurang\",\"Kurang\",\"Kurang\",\"Baik\",\"Kurang\",\"Sangat Baik\",\"Cukup\",\"Cukup\",\"Cukup\",\"Cukup\",\"Cukup\",\"Kurang\",\"Baik\",\"Baik\",\"Baik\",\"Sangat Baik\",\"Kurang\",\"Kurang\",\"Sangat Baik\",\"Baik\",\"Sangat Baik\",\"Sangat Baik\",\"Cukup\",\"Sangat Baik\",\"Sangat Baik\",\"Kurang\",\"Sangat Baik\",\"Kurang\",\"Sangat Baik\",\"Kurang\",\"Baik\",\"Sangat Baik\",\"Baik\",\"Baik\",\"Kurang\",\"Baik\",\"Cukup\",\"Cukup\",\"Kurang\",\"Kurang\",\"Kurang\",\"Kurang\",\"Kurang\",\"Kurang\",\"Kurang\",\"Kurang\",\"Sangat Baik\",\"Cukup\",\"Cukup\",\"Baik\",\"Cukup\",\"Sangat Baik\",\"Kurang\",\"Kurang\",\"Kurang\",\"Sangat Baik\",\"Baik\",\"Kurang\",\"Kurang\",\"Kurang\",\"Kurang\",\"Kurang\",\"Cukup\",\"Cukup\",\"Kurang\",\"Cukup\",\"Cukup\",\"Kurang\",\"Sangat Baik\",\"Kurang\",\"Kurang\",\"Kurang\",\"Kurang\",\"Kurang\",\"Sangat Baik\",\"Kurang\",\"Kurang\",\"Sangat Baik\",\"Kurang\",\"Kurang\",\"Kurang\",\"Kurang\",\"Kurang\",\"Cukup\",\"Kurang\",\"Kurang\",\"Kurang\",\"Sangat Baik\",\"Kurang\",\"Kurang\",\"Kurang\",\"Kurang\",\"Kurang\",\"Kurang\",\"Baik\",\"Baik\",\"Baik\",\"Kurang\",\"Cukup\",\"Cukup\",\"Sangat Baik\",\"Sangat Baik\",\"Baik\",\"Sangat Baik\",\"Sangat Baik\",\"Sangat Baik\",\"Sangat Baik\",\"Sangat Baik\",\"Sangat Baik\",\"Kurang\",\"Baik\",\"Sangat Baik\",\"Baik\",\"Sangat Baik\",\"Sangat Baik\",\"Kurang\",\"Kurang\",\"Cukup\",\"Kurang\",\"Kurang\",\"Sangat Baik\",\"Cukup\",\"Kurang\",\"Kurang\",\"Cukup\",\"Cukup\",\"Cukup\",\"Cukup\",\"Sangat Baik\",\"Cukup\",\"Cukup\",\"Sangat Baik\",\"Cukup\",\"Sangat Baik\",\"Kurang\",\"Cukup\",\"Kurang\",\"Baik\",\"Cukup\",\"Cukup\",\"Cukup\",\"Kurang\",\"Sangat Baik\",\"Cukup\",\"Kurang\",\"Kurang\",\"Baik\",\"Kurang\",\"Baik\",\"Kurang\",\"Sangat Baik\",\"Sangat Baik\",\"Sangat Baik\",\"Kurang\",\"Kurang\",\"Kurang\",\"Cukup\",\"Kurang\",\"Cukup\",\"Cukup\",\"Kurang\",\"Kurang\",\"Sangat Baik\",\"Baik\",\"Kurang\",\"Kurang\",\"Kurang\",\"Baik\",\"Kurang\",\"Cukup\",\"Kurang\",\"Cukup\",\"Sangat Baik\",\"Baik\",\"Cukup\",\"Sangat Baik\",\"Sangat Baik\",\"Sangat Baik\",\"Cukup\",\"Kurang\",\"Sangat Baik\",\"Kurang\",\"Kurang\",\"Kurang\",\"Baik\",\"Sangat Baik\",\"Sangat Baik\",\"Kurang\",\"Cukup\",\"Cukup\",\"Sangat Baik\",\"Cukup\",\"Cukup\",\"Cukup\",\"Cukup\",\"Kurang\",\"Sangat Baik\",\"Cukup\",\"Cukup\",\"Sangat Baik\",\"Sangat Baik\",\"Cukup\",\"Cukup\",\"Cukup\",\"Cukup\",\"Sangat Baik\",\"Kurang\",\"Cukup\",\"Sangat Baik\",\"Kurang\",\"Sangat Baik\",\"Baik\",\"Kurang\",\"Sangat Baik\",\"Cukup\",\"Baik\",\"Cukup\",\"Kurang\",\"Cukup\",\"Cukup\",\"Cukup\",\"Cukup\",\"Cukup\",\"Cukup\",\"Cukup\",\"Cukup\",\"Kurang\",\"Cukup\",\"Sangat Baik\",\"Baik\",\"Cukup\",\"Cukup\",\"Cukup\",\"Kurang\",\"Cukup\",\"Baik\",\"Cukup\",\"Cukup\",\"Cukup\",\"Cukup\",\"Sangat Baik\",\"Cukup\",\"Kurang\",\"Kurang\",\"Cukup\",\"Sangat Baik\",\"Kurang\",\"Kurang\",\"Sangat Baik\",\"Sangat Baik\",\"Sangat Baik\",\"Sangat Baik\",\"Baik\",\"Sangat Baik\",\"Baik\",\"Kurang\",\"Sangat Baik\",\"Sangat Baik\",\"Cukup\",\"Cukup\",\"Cukup\",\"Cukup\",\"Cukup\",\"Cukup\",\"Cukup\",\"Cukup\",\"Cukup\",\"Sangat Baik\",\"Sangat Baik\",\"Sangat Baik\",\"Sangat Baik\",\"Sangat Baik\",\"Sangat Baik\",\"Baik\",\"Baik\",\"Cukup\",\"Baik\",\"Cukup\",\"Cukup\",\"Cukup\",\"Kurang\",\"Baik\",\"Baik\",\"Cukup\",\"Cukup\",\"Kurang\",\"Baik\",\"Cukup\",\"Cukup\",\"Kurang\",\"Baik\",\"Baik\",\"Kurang\",\"Baik\",\"Baik\",\"Baik\",\"Kurang\",\"Cukup\",\"Cukup\",\"Baik\",\"Cukup\",\"Sangat Baik\",\"Cukup\",\"Kurang\",\"Baik\",\"Kurang\",\"Kurang\",\"Baik\",\"Kurang\",\"Kurang\",\"Kurang\",\"Kurang\",\"Cukup\",\"Cukup\",\"Cukup\",\"Kurang\",\"Kurang\",\"Kurang\",\"Cukup\",\"Kurang\",\"Kurang\",\"Kurang\",\"Kurang\",\"Kurang\",\"Kurang\",\"Baik\",\"Kurang\",\"Kurang\",\"Sangat Baik\",\"Kurang\",\"Kurang\",\"Baik\",\"Baik\",\"Kurang\",\"Baik\",\"Kurang\",\"Baik\",\"Baik\",\"Sangat Baik\",\"Kurang\",\"Kurang\",\"Baik\",\"Cukup\",\"Kurang\",\"Sangat Baik\",\"Sangat Baik\",\"Sangat Baik\",\"Cukup\",\"Cukup\",\"Baik\",\"Cukup\",\"Sangat Baik\",\"Cukup\",\"Kurang\",\"Sangat Baik\",\"Baik\",\"Sangat Baik\",\"Sangat Baik\",\"Cukup\",\"Kurang\",\"Baik\",\"Sangat Baik\",\"Sangat Baik\",\"Sangat Baik\",\"Kurang\",\"Sangat Baik\",\"Sangat Baik\",\"Kurang\",\"Baik\",\"Sangat Baik\",\"Cukup\",\"Baik\",\"Sangat Baik\",\"Baik\",\"Baik\",\"Sangat Baik\",\"Sangat Baik\",\"Baik\",\"Kurang\",\"Cukup\",\"Baik\",\"Sangat Baik\",\"Sangat Baik\",\"Baik\",\"Kurang\",\"Sangat Baik\",\"Kurang\",\"Baik\",\"Baik\",\"Sangat Baik\",\"Baik\",\"Sangat Baik\",\"Sangat Baik\",\"Sangat Baik\",\"Cukup\",\"Sangat Baik\",\"Cukup\",\"Baik\",\"Cukup\",\"Sangat Baik\",\"Baik\",\"Cukup\",\"Kurang\",\"Baik\",\"Kurang\",\"Baik\",\"Sangat Baik\",\"Baik\",\"Cukup\",\"Baik\",\"Kurang\",\"Kurang\",\"Cukup\",\"Sangat Baik\",\"Sangat Baik\",\"Baik\",\"Sangat Baik\",\"Sangat Baik\",\"Sangat Baik\",\"Sangat Baik\",\"Sangat Baik\",\"Kurang\",\"Cukup\",\"Baik\",\"Kurang\",\"Baik\",\"Cukup\",\"Kurang\",\"Baik\",\"Kurang\",\"Kurang\",\"Kurang\",\"Baik\",\"Kurang\",\"Kurang\",\"Sangat Baik\",\"Sangat Baik\",\"Cukup\",\"Cukup\",\"Baik\",\"Kurang\",\"Kurang\",\"Sangat Baik\",\"Kurang\",\"Sangat Baik\",\"Sangat Baik\",\"Sangat Baik\",\"Sangat Baik\",\"Kurang\",\"Kurang\",\"Sangat Baik\",\"Kurang\",\"Sangat Baik\",\"Kurang\",\"Baik\",\"Cukup\",\"Cukup\",\"Sangat Baik\",\"Sangat Baik\",\"Sangat Baik\",\"Cukup\",\"Cukup\",\"Baik\",\"Baik\",\"Sangat Baik\",\"Sangat Baik\",\"Sangat Baik\",\"Cukup\",\"Kurang\",\"Sangat Baik\",\"Kurang\",\"Kurang\",\"Cukup\",\"Kurang\",\"Baik\",\"Kurang\",\"Cukup\",\"Cukup\",\"Kurang\",\"Kurang\",\"Sangat Baik\",\"Sangat Baik\",\"Cukup\",\"Kurang\",\"Kurang\",\"Cukup\",\"Baik\",\"Sangat Baik\",\"Baik\",\"Sangat Baik\",\"Sangat Baik\",\"Kurang\",\"Sangat Baik\",\"Sangat Baik\",\"Kurang\",\"Sangat Baik\",\"Cukup\",\"Sangat Baik\",\"Sangat Baik\",\"Kurang\",\"Kurang\",\"Kurang\",\"Sangat Baik\",\"Sangat Baik\",\"Cukup\",\"Sangat Baik\",\"Sangat Baik\",\"Sangat Baik\",\"Sangat Baik\",\"Kurang\",\"Kurang\",\"Kurang\",\"Sangat Baik\",\"Cukup\",\"Baik\",\"Kurang\",\"Kurang\",\"Kurang\",\"Sangat Baik\",\"Cukup\",\"Sangat Baik\",\"Sangat Baik\",\"Sangat Baik\",\"Kurang\",\"Baik\",\"Cukup\",\"Cukup\",\"Cukup\",\"Baik\",\"Baik\",\"Sangat Baik\",\"Cukup\",\"Sangat Baik\",\"Sangat Baik\",\"Kurang\",\"Cukup\",\"Baik\",\"Sangat Baik\",\"Sangat Baik\",\"Sangat Baik\",\"Sangat Baik\",\"Sangat Baik\",\"Sangat Baik\",\"Cukup\",\"Cukup\",\"Kurang\",\"Baik\",\"Kurang\",\"Cukup\",\"Kurang\",\"Baik\",\"Kurang\",\"Kurang\",\"Sangat Baik\",\"Kurang\",\"Cukup\",\"Kurang\",\"Kurang\",\"Cukup\",\"Sangat Baik\",\"Sangat Baik\",\"Baik\",\"Kurang\",\"Cukup\",\"Sangat Baik\",\"Cukup\",\"Baik\",\"Kurang\",\"Kurang\",\"Kurang\",\"Sangat Baik\",\"Sangat Baik\",\"Kurang\",\"Sangat Baik\",\"Sangat Baik\",\"Sangat Baik\",\"Sangat Baik\",\"Cukup\",\"Cukup\",\"Sangat Baik\",\"Cukup\",\"Cukup\",\"Kurang\",\"Kurang\",\"Kurang\",\"Cukup\",\"Cukup\",\"Cukup\",\"Cukup\",\"Cukup\",\"Cukup\",\"Cukup\",\"Cukup\",\"Kurang\",\"Kurang\",\"Kurang\",\"Cukup\",\"Sangat Baik\",\"Baik\",\"Kurang\",\"Kurang\",\"Cukup\",\"Cukup\",\"Cukup\",\"Cukup\",\"Kurang\",\"Kurang\",\"Sangat Baik\",\"Sangat Baik\",\"Cukup\",\"Sangat Baik\",\"Sangat Baik\",\"Cukup\",\"Cukup\",\"Sangat Baik\",\"Baik\",\"Cukup\",\"Sangat Baik\",\"Kurang\",\"Cukup\",\"Kurang\",\"Baik\",\"Cukup\",\"Cukup\",\"Baik\",\"Baik\",\"Kurang\",\"Sangat Baik\",\"Kurang\",\"Sangat Baik\",\"Kurang\",\"Cukup\",\"Cukup\",\"Kurang\",\"Kurang\",\"Kurang\",\"Baik\",\"Sangat Baik\",\"Cukup\",\"Sangat Baik\",\"Sangat Baik\",\"Cukup\",\"Cukup\",\"Sangat Baik\",\"Kurang\",\"Kurang\",\"Kurang\",\"Cukup\",\"Baik\",\"Cukup\",\"Cukup\",\"Cukup\",\"Sangat Baik\",\"Cukup\",\"Kurang\",\"Cukup\",\"Baik\",\"Baik\",\"Baik\",\"Cukup\",\"Sangat Baik\",\"Baik\",\"Baik\",\"Kurang\",\"Cukup\",\"Baik\",\"Cukup\",\"Baik\",\"Cukup\",\"Cukup\",\"Cukup\",\"Cukup\",\"Kurang\",\"Kurang\",\"Cukup\",\"Cukup\",\"Sangat Baik\",\"Cukup\",\"Cukup\",\"Kurang\",\"Kurang\",\"Kurang\",\"Cukup\",\"Cukup\",\"Kurang\",\"Kurang\",\"Sangat Baik\",\"Cukup\",\"Kurang\",\"Sangat Baik\",\"Baik\",\"Sangat Baik\",\"Cukup\",\"Kurang\",\"Kurang\",\"Sangat Baik\",\"Cukup\",\"Cukup\",\"Kurang\",\"Kurang\",\"Sangat Baik\",\"Cukup\",\"Sangat Baik\",\"Kurang\",\"Kurang\",\"Sangat Baik\",\"Kurang\",\"Sangat Baik\",\"Cukup\",\"Sangat Baik\",\"Cukup\",\"Cukup\",\"Sangat Baik\",\"Cukup\",\"Cukup\",\"Cukup\",\"Kurang\",\"Baik\",\"Baik\",\"Cukup\",\"Sangat Baik\",\"Cukup\",\"Baik\",\"Kurang\",\"Kurang\",\"Sangat Baik\",\"Kurang\",\"Kurang\",\"Kurang\",\"Kurang\",\"Baik\",\"Sangat Baik\",\"Kurang\",\"Cukup\",\"Sangat Baik\",\"Baik\",\"Sangat Baik\",\"Kurang\",\"Sangat Baik\",\"Sangat Baik\",\"Sangat Baik\",\"Cukup\",\"Sangat Baik\",\"Sangat Baik\",\"Cukup\",\"Kurang\",\"Cukup\",\"Cukup\",\"Sangat Baik\",\"Sangat Baik\",\"Sangat Baik\",\"Sangat Baik\",\"Sangat Baik\",\"Cukup\",\"Sangat Baik\",\"Baik\",\"Kurang\",\"Baik\",\"Sangat Baik\",\"Kurang\",\"Kurang\",\"Kurang\",\"Baik\",\"Kurang\",\"Sangat Baik\",\"Sangat Baik\",\"Cukup\",\"Cukup\",\"Baik\",\"Cukup\",\"Sangat Baik\",\"Cukup\",\"Sangat Baik\",\"Baik\",\"Cukup\",\"Cukup\",\"Sangat Baik\",\"Kurang\",\"Cukup\",\"Cukup\",\"Sangat Baik\",\"Cukup\",\"Kurang\",\"Cukup\",\"Cukup\",\"Sangat Baik\",\"Kurang\",\"Baik\",\"Kurang\",\"Sangat Baik\",\"Cukup\",\"Sangat Baik\",\"Sangat Baik\",\"Sangat Baik\",\"Baik\",\"Sangat Baik\",\"Sangat Baik\",\"Kurang\",\"Kurang\",\"Sangat Baik\",\"Sangat Baik\",\"Baik\",\"Sangat Baik\",\"Sangat Baik\",\"Sangat Baik\",\"Sangat Baik\",\"Sangat Baik\",\"Sangat Baik\",\"Sangat Baik\",\"Kurang\",\"Kurang\",\"Sangat Baik\",\"Sangat Baik\",\"Sangat Baik\",\"Sangat Baik\",\"Sangat Baik\",\"Baik\",\"Sangat Baik\",\"Sangat Baik\",\"Sangat Baik\",\"Cukup\",\"Cukup\",\"Cukup\",\"Cukup\",\"Cukup\",\"Cukup\",\"Cukup\",\"Cukup\",\"Kurang\",\"Cukup\",\"Sangat Baik\",\"Kurang\",\"Baik\",\"Kurang\",\"Baik\",\"Kurang\",\"Kurang\",\"Sangat Baik\",\"Cukup\",\"Cukup\",\"Sangat Baik\",\"Cukup\",\"Sangat Baik\",\"Cukup\",\"Kurang\",\"Sangat Baik\",\"Sangat Baik\",\"Baik\",\"Cukup\",\"Cukup\",\"Cukup\",\"Sangat Baik\",\"Sangat Baik\",\"Baik\",\"Sangat Baik\",\"Sangat Baik\",\"Sangat Baik\",\"Sangat Baik\",\"Kurang\",\"Sangat Baik\",\"Sangat Baik\",\"Kurang\",\"Sangat Baik\",\"Kurang\",\"Cukup\",\"Cukup\",\"Sangat Baik\",\"Sangat Baik\",\"Sangat Baik\",\"Baik\",\"Baik\",\"Baik\",\"Sangat Baik\",\"Kurang\",\"Sangat Baik\",\"Cukup\",\"Kurang\",\"Kurang\",\"Kurang\",\"Baik\",\"Baik\",\"Cukup\",\"Cukup\",\"Baik\",\"Baik\",\"Kurang\",\"Baik\",\"Baik\",\"Sangat Baik\",\"Cukup\",\"Cukup\",\"Baik\",\"Cukup\",\"Kurang\",\"Cukup\",\"Kurang\",\"Kurang\",\"Kurang\",\"Kurang\",\"Kurang\",\"Kurang\",\"Kurang\",\"Kurang\",\"Kurang\",\"Kurang\",\"Kurang\",\"Kurang\",\"Baik\",\"Kurang\",\"Kurang\",\"Kurang\",\"Sangat Baik\",\"Sangat Baik\",\"Kurang\",\"Baik\",\"Sangat Baik\",\"Sangat Baik\",\"Sangat Baik\",\"Cukup\",\"Sangat Baik\",\"Cukup\",\"Baik\",\"Baik\",\"Sangat Baik\",\"Cukup\",\"Sangat Baik\",\"Cukup\",\"Sangat Baik\",\"Sangat Baik\",\"Sangat Baik\",\"Kurang\",\"Kurang\",\"Baik\",\"Baik\",\"Cukup\",\"Kurang\",\"Cukup\",\"Cukup\",\"Baik\",\"Cukup\",\"Baik\",\"Cukup\",\"Sangat Baik\",\"Sangat Baik\",\"Cukup\",\"Cukup\",\"Kurang\",\"Cukup\",\"Sangat Baik\",\"Sangat Baik\",\"Sangat Baik\",\"Sangat Baik\",\"Sangat Baik\",\"Baik\",\"Sangat Baik\",\"Sangat Baik\",\"Baik\",\"Kurang\",\"Baik\",\"Cukup\",\"Cukup\",\"Cukup\",\"Cukup\",\"Sangat Baik\",\"Baik\",\"Sangat Baik\",\"Kurang\",\"Baik\",\"Sangat Baik\",\"Baik\",\"Sangat Baik\",\"Sangat Baik\",\"Sangat Baik\",\"Baik\",\"Kurang\",\"Sangat Baik\",\"Cukup\",\"Cukup\",\"Kurang\",\"Cukup\",\"Cukup\",\"Cukup\",\"Cukup\",\"Baik\",\"Kurang\",\"Kurang\",\"Cukup\",\"Cukup\",\"Baik\",\"Baik\",\"Cukup\",\"Baik\",\"Sangat Baik\",\"Sangat Baik\",\"Sangat Baik\",\"Sangat Baik\",\"Baik\",\"Sangat Baik\",\"Baik\",\"Sangat Baik\",\"Cukup\",\"Cukup\",\"Kurang\",\"Cukup\",\"Kurang\",\"Sangat Baik\",\"Sangat Baik\",\"Sangat Baik\",\"Sangat Baik\",\"Kurang\",\"Kurang\",\"Kurang\",\"Kurang\",\"Kurang\",\"Baik\",\"Kurang\",\"Sangat Baik\",\"Cukup\",\"Cukup\",\"Cukup\",\"Cukup\",\"Cukup\",\"Kurang\",\"Baik\",\"Baik\",\"Baik\",\"Sangat Baik\",\"Kurang\",\"Kurang\",\"Sangat Baik\",\"Baik\",\"Sangat Baik\",\"Sangat Baik\",\"Cukup\",\"Sangat Baik\",\"Sangat Baik\",\"Kurang\",\"Sangat Baik\",\"Kurang\",\"Sangat Baik\",\"Kurang\",\"Baik\",\"Sangat Baik\",\"Baik\",\"Baik\",\"Kurang\",\"Baik\",\"Cukup\",\"Cukup\",\"Kurang\",\"Kurang\",\"Kurang\",\"Kurang\",\"Kurang\",\"Kurang\",\"Kurang\",\"Kurang\",\"Sangat Baik\",\"Cukup\",\"Cukup\",\"Baik\",\"Cukup\",\"Sangat Baik\",\"Kurang\",\"Kurang\",\"Kurang\",\"Sangat Baik\",\"Baik\",\"Kurang\",\"Kurang\",\"Kurang\",\"Kurang\",\"Kurang\",\"Cukup\",\"Cukup\",\"Kurang\",\"Cukup\",\"Cukup\",\"Kurang\",\"Sangat Baik\",\"Kurang\",\"Kurang\",\"Kurang\",\"Kurang\",\"Kurang\",\"Sangat Baik\",\"Kurang\",\"Kurang\",\"Sangat Baik\",\"Kurang\",\"Kurang\",\"Kurang\",\"Kurang\",\"Kurang\",\"Cukup\",\"Kurang\",\"Kurang\",\"Kurang\",\"Sangat Baik\",\"Kurang\",\"Kurang\",\"Kurang\",\"Kurang\",\"Kurang\",\"Kurang\",\"Baik\",\"Baik\",\"Baik\",\"Kurang\",\"Cukup\",\"Cukup\",\"Sangat Baik\",\"Sangat Baik\",\"Baik\",\"Sangat Baik\",\"Sangat Baik\",\"Sangat Baik\",\"Sangat Baik\",\"Sangat Baik\",\"Sangat Baik\",\"Kurang\",\"Baik\",\"Sangat Baik\",\"Baik\",\"Sangat Baik\",\"Sangat Baik\",\"Kurang\",\"Kurang\",\"Cukup\",\"Kurang\",\"Kurang\",\"Sangat Baik\",\"Cukup\",\"Kurang\",\"Kurang\",\"Cukup\",\"Cukup\",\"Cukup\",\"Cukup\",\"Sangat Baik\",\"Cukup\",\"Cukup\",\"Sangat Baik\",\"Cukup\",\"Sangat Baik\",\"Kurang\",\"Cukup\",\"Kurang\",\"Baik\",\"Cukup\",\"Cukup\",\"Cukup\",\"Kurang\",\"Sangat Baik\",\"Cukup\",\"Kurang\",\"Kurang\",\"Baik\",\"Kurang\",\"Baik\",\"Kurang\",\"Sangat Baik\",\"Sangat Baik\",\"Sangat Baik\",\"Kurang\",\"Kurang\",\"Kurang\",\"Cukup\",\"Kurang\",\"Cukup\",\"Cukup\",\"Kurang\",\"Kurang\",\"Sangat Baik\",\"Baik\",\"Kurang\",\"Kurang\",\"Kurang\",\"Baik\",\"Kurang\",\"Cukup\",\"Kurang\",\"Cukup\",\"Sangat Baik\",\"Baik\",\"Cukup\",\"Sangat Baik\",\"Sangat Baik\",\"Sangat Baik\",\"Cukup\",\"Kurang\",\"Sangat Baik\",\"Kurang\",\"Kurang\",\"Kurang\",\"Baik\",\"Sangat Baik\",\"Sangat Baik\",\"Kurang\",\"Cukup\",\"Cukup\",\"Sangat Baik\",\"Cukup\",\"Cukup\",\"Cukup\",\"Cukup\",\"Kurang\",\"Sangat Baik\",\"Cukup\",\"Cukup\",\"Sangat Baik\",\"Sangat Baik\",\"Cukup\",\"Cukup\",\"Cukup\",\"Cukup\",\"Sangat Baik\",\"Kurang\",\"Cukup\",\"Sangat Baik\",\"Kurang\",\"Sangat Baik\",\"Baik\",\"Kurang\",\"Sangat Baik\",\"Cukup\",\"Baik\",\"Cukup\",\"Kurang\",\"Cukup\",\"Cukup\",\"Cukup\",\"Cukup\",\"Cukup\",\"Cukup\",\"Cukup\",\"Cukup\",\"Kurang\",\"Cukup\",\"Sangat Baik\",\"Baik\",\"Cukup\",\"Cukup\",\"Cukup\",\"Kurang\",\"Cukup\",\"Baik\",\"Cukup\",\"Cukup\",\"Cukup\",\"Cukup\",\"Sangat Baik\",\"Cukup\",\"Kurang\",\"Kurang\",\"Cukup\",\"Sangat Baik\",\"Kurang\",\"Kurang\",\"Sangat Baik\",\"Sangat Baik\",\"Sangat Baik\",\"Sangat Baik\",\"Baik\",\"Sangat Baik\",\"Baik\",\"Kurang\",\"Sangat Baik\",\"Sangat Baik\",\"Cukup\",\"Cukup\",\"Cukup\",\"Cukup\",\"Cukup\",\"Cukup\",\"Cukup\",\"Cukup\",\"Cukup\",\"Sangat Baik\",\"Sangat Baik\",\"Sangat Baik\",\"Sangat Baik\",\"Sangat Baik\",\"Sangat Baik\",\"Baik\",\"Baik\",\"Cukup\",\"Baik\",\"Cukup\",\"Cukup\",\"Cukup\",\"Kurang\",\"Baik\",\"Baik\",\"Cukup\",\"Cukup\",\"Kurang\",\"Baik\",\"Cukup\",\"Cukup\",\"Kurang\",\"Baik\",\"Baik\",\"Kurang\",\"Baik\",\"Baik\",\"Baik\",\"Kurang\",\"Cukup\",\"Cukup\",\"Baik\",\"Cukup\",\"Sangat Baik\",\"Cukup\",\"Kurang\",\"Baik\",\"Kurang\",\"Kurang\",\"Baik\",\"Kurang\",\"Kurang\",\"Kurang\",\"Kurang\",\"Cukup\",\"Cukup\",\"Cukup\",\"Kurang\",\"Kurang\",\"Kurang\",\"Cukup\",\"Kurang\",\"Kurang\",\"Kurang\",\"Kurang\",\"Kurang\",\"Kurang\",\"Baik\",\"Kurang\",\"Kurang\",\"Sangat Baik\",\"Kurang\",\"Kurang\",\"Baik\",\"Baik\",\"Kurang\",\"Baik\",\"Kurang\",\"Baik\",\"Baik\",\"Sangat Baik\",\"Kurang\",\"Kurang\",\"Baik\",\"Cukup\",\"Kurang\",\"Sangat Baik\",\"Sangat Baik\",\"Sangat Baik\",\"Cukup\",\"Cukup\",\"Baik\",\"Cukup\",\"Sangat Baik\",\"Cukup\",\"Kurang\",\"Sangat Baik\",\"Baik\",\"Sangat Baik\",\"Sangat Baik\",\"Cukup\",\"Kurang\",\"Baik\",\"Sangat Baik\",\"Sangat Baik\",\"Sangat Baik\",\"Kurang\",\"Sangat Baik\",\"Sangat Baik\",\"Kurang\",\"Baik\",\"Sangat Baik\",\"Cukup\",\"Baik\",\"Sangat Baik\",\"Baik\",\"Baik\",\"Sangat Baik\",\"Sangat Baik\",\"Baik\",\"Kurang\",\"Cukup\",\"Baik\",\"Sangat Baik\",\"Sangat Baik\",\"Baik\",\"Kurang\",\"Sangat Baik\",\"Kurang\",\"Baik\",\"Baik\",\"Sangat Baik\",\"Baik\",\"Sangat Baik\",\"Sangat Baik\",\"Sangat Baik\",\"Cukup\",\"Sangat Baik\",\"Cukup\",\"Baik\",\"Cukup\",\"Sangat Baik\",\"Baik\",\"Cukup\",\"Kurang\",\"Baik\",\"Kurang\",\"Baik\",\"Sangat Baik\",\"Baik\",\"Cukup\",\"Baik\",\"Kurang\",\"Kurang\",\"Cukup\",\"Sangat Baik\",\"Sangat Baik\",\"Baik\",\"Sangat Baik\",\"Sangat Baik\",\"Sangat Baik\",\"Sangat Baik\",\"Sangat Baik\",\"Kurang\",\"Cukup\",\"Baik\",\"Kurang\",\"Baik\",\"Cukup\",\"Kurang\",\"Baik\",\"Kurang\",\"Kurang\",\"Kurang\",\"Baik\",\"Kurang\",\"Kurang\",\"Sangat Baik\",\"Sangat Baik\",\"Cukup\",\"Cukup\",\"Baik\",\"Kurang\",\"Kurang\",\"Sangat Baik\",\"Kurang\",\"Sangat Baik\",\"Sangat Baik\",\"Sangat Baik\",\"Sangat Baik\",\"Kurang\",\"Kurang\",\"Sangat Baik\",\"Kurang\",\"Sangat Baik\",\"Kurang\",\"Baik\",\"Cukup\",\"Cukup\",\"Sangat Baik\",\"Sangat Baik\",\"Sangat Baik\",\"Cukup\",\"Cukup\",\"Baik\",\"Baik\",\"Sangat Baik\",\"Sangat Baik\",\"Sangat Baik\",\"Cukup\",\"Kurang\",\"Sangat Baik\",\"Kurang\",\"Kurang\",\"Cukup\",\"Kurang\",\"Baik\",\"Kurang\",\"Cukup\",\"Cukup\",\"Kurang\",\"Kurang\",\"Sangat Baik\",\"Sangat Baik\",\"Cukup\",\"Kurang\",\"Kurang\",\"Cukup\",\"Baik\",\"Sangat Baik\",\"Baik\",\"Sangat Baik\",\"Sangat Baik\",\"Kurang\",\"Sangat Baik\",\"Sangat Baik\",\"Kurang\",\"Sangat Baik\",\"Cukup\",\"Sangat Baik\",\"Sangat Baik\",\"Kurang\",\"Kurang\",\"Kurang\",\"Sangat Baik\",\"Sangat Baik\",\"Cukup\",\"Sangat Baik\",\"Sangat Baik\",\"Sangat Baik\",\"Sangat Baik\",\"Kurang\",\"Kurang\",\"Kurang\",\"Sangat Baik\",\"Cukup\",\"Baik\",\"Kurang\",\"Kurang\",\"Kurang\",\"Sangat Baik\",\"Cukup\",\"Sangat Baik\",\"Sangat Baik\",\"Sangat Baik\",\"Kurang\",\"Baik\",\"Cukup\",\"Cukup\",\"Cukup\",\"Baik\",\"Baik\",\"Sangat Baik\",\"Cukup\",\"Sangat Baik\",\"Sangat Baik\",\"Kurang\",\"Cukup\",\"Baik\",\"Sangat Baik\",\"Sangat Baik\",\"Sangat Baik\",\"Sangat Baik\",\"Sangat Baik\",\"Sangat Baik\",\"Cukup\",\"Cukup\",\"Kurang\",\"Baik\",\"Kurang\",\"Cukup\",\"Kurang\",\"Baik\",\"Kurang\",\"Kurang\",\"Sangat Baik\",\"Kurang\",\"Cukup\",\"Kurang\",\"Kurang\",\"Cukup\",\"Sangat Baik\",\"Sangat Baik\",\"Baik\",\"Kurang\",\"Cukup\",\"Sangat Baik\",\"Cukup\",\"Baik\",\"Kurang\",\"Kurang\",\"Kurang\",\"Sangat Baik\",\"Sangat Baik\",\"Kurang\",\"Sangat Baik\",\"Sangat Baik\",\"Sangat Baik\",\"Sangat Baik\",\"Cukup\",\"Cukup\",\"Sangat Baik\",\"Cukup\",\"Cukup\",\"Kurang\",\"Kurang\",\"Kurang\",\"Cukup\",\"Cukup\",\"Cukup\",\"Cukup\",\"Cukup\",\"Cukup\",\"Cukup\",\"Cukup\",\"Kurang\",\"Kurang\",\"Kurang\",\"Cukup\",\"Sangat Baik\",\"Baik\",\"Kurang\",\"Kurang\",\"Cukup\",\"Cukup\",\"Cukup\",\"Cukup\",\"Kurang\",\"Kurang\",\"Sangat Baik\",\"Sangat Baik\",\"Cukup\",\"Sangat Baik\",\"Sangat Baik\",\"Cukup\",\"Cukup\",\"Sangat Baik\",\"Baik\",\"Cukup\",\"Sangat Baik\",\"Kurang\",\"Cukup\",\"Kurang\",\"Baik\",\"Cukup\",\"Cukup\",\"Baik\",\"Baik\",\"Kurang\",\"Sangat Baik\",\"Kurang\",\"Sangat Baik\",\"Kurang\",\"Cukup\",\"Cukup\",\"Kurang\",\"Kurang\",\"Kurang\",\"Baik\",\"Sangat Baik\",\"Cukup\",\"Sangat Baik\",\"Sangat Baik\",\"Cukup\",\"Cukup\",\"Sangat Baik\",\"Kurang\",\"Kurang\",\"Kurang\",\"Cukup\",\"Baik\",\"Cukup\",\"Cukup\",\"Cukup\",\"Sangat Baik\",\"Cukup\",\"Kurang\",\"Cukup\",\"Baik\",\"Baik\",\"Baik\",\"Cukup\",\"Sangat Baik\",\"Baik\",\"Baik\",\"Kurang\",\"Cukup\",\"Baik\",\"Cukup\",\"Baik\",\"Cukup\",\"Cukup\",\"Cukup\",\"Cukup\",\"Kurang\",\"Kurang\",\"Cukup\",\"Cukup\",\"Sangat Baik\",\"Cukup\",\"Cukup\",\"Kurang\",\"Kurang\",\"Kurang\",\"Cukup\",\"Cukup\",\"Kurang\",\"Kurang\",\"Sangat Baik\",\"Cukup\",\"Kurang\",\"Sangat Baik\",\"Baik\",\"Sangat Baik\",\"Cukup\",\"Kurang\",\"Kurang\",\"Sangat Baik\",\"Cukup\",\"Cukup\",\"Kurang\",\"Kurang\",\"Sangat Baik\",\"Cukup\",\"Sangat Baik\",\"Kurang\",\"Kurang\",\"Sangat Baik\",\"Kurang\",\"Sangat Baik\",\"Cukup\",\"Sangat Baik\",\"Cukup\",\"Cukup\",\"Sangat Baik\",\"Cukup\",\"Cukup\",\"Cukup\",\"Kurang\",\"Baik\",\"Baik\",\"Cukup\",\"Sangat Baik\",\"Cukup\",\"Baik\",\"Kurang\",\"Kurang\",\"Sangat Baik\",\"Kurang\",\"Kurang\",\"Kurang\",\"Kurang\",\"Baik\",\"Sangat Baik\",\"Kurang\",\"Cukup\",\"Sangat Baik\",\"Baik\",\"Sangat Baik\",\"Kurang\",\"Sangat Baik\",\"Sangat Baik\",\"Sangat Baik\",\"Cukup\",\"Sangat Baik\",\"Sangat Baik\",\"Cukup\",\"Kurang\",\"Cukup\",\"Cukup\",\"Sangat Baik\",\"Sangat Baik\",\"Sangat Baik\",\"Sangat Baik\",\"Sangat Baik\",\"Cukup\",\"Sangat Baik\",\"Baik\",\"Kurang\",\"Baik\",\"Sangat Baik\",\"Kurang\",\"Kurang\",\"Kurang\",\"Baik\",\"Kurang\",\"Sangat Baik\",\"Sangat Baik\",\"Cukup\",\"Cukup\",\"Baik\",\"Cukup\",\"Sangat Baik\",\"Cukup\",\"Sangat Baik\",\"Baik\",\"Cukup\",\"Cukup\",\"Sangat Baik\",\"Kurang\",\"Cukup\",\"Cukup\",\"Sangat Baik\",\"Cukup\",\"Kurang\",\"Cukup\",\"Cukup\",\"Sangat Baik\",\"Kurang\",\"Baik\",\"Kurang\",\"Sangat Baik\",\"Cukup\",\"Sangat Baik\",\"Sangat Baik\",\"Sangat Baik\",\"Baik\",\"Sangat Baik\",\"Sangat Baik\",\"Kurang\",\"Kurang\",\"Sangat Baik\",\"Sangat Baik\",\"Baik\",\"Sangat Baik\",\"Sangat Baik\",\"Sangat Baik\",\"Sangat Baik\",\"Sangat Baik\",\"Sangat Baik\",\"Sangat Baik\",\"Kurang\",\"Kurang\",\"Sangat Baik\",\"Sangat Baik\",\"Sangat Baik\",\"Sangat Baik\",\"Sangat Baik\",\"Baik\",\"Sangat Baik\",\"Sangat Baik\",\"Sangat Baik\",\"Cukup\",\"Cukup\",\"Cukup\",\"Cukup\",\"Cukup\",\"Cukup\",\"Cukup\",\"Cukup\",\"Kurang\",\"Cukup\",\"Sangat Baik\",\"Kurang\",\"Baik\",\"Kurang\",\"Baik\",\"Kurang\",\"Kurang\",\"Sangat Baik\",\"Cukup\",\"Cukup\",\"Sangat Baik\",\"Cukup\",\"Sangat Baik\",\"Cukup\",\"Kurang\",\"Sangat Baik\",\"Sangat Baik\",\"Baik\",\"Cukup\",\"Cukup\",\"Cukup\",\"Sangat Baik\",\"Sangat Baik\",\"Baik\",\"Sangat Baik\",\"Sangat Baik\",\"Sangat Baik\",\"Sangat Baik\",\"Kurang\",\"Sangat Baik\",\"Sangat Baik\",\"Kurang\",\"Sangat Baik\",\"Kurang\",\"Cukup\",\"Cukup\",\"Sangat Baik\",\"Sangat Baik\",\"Sangat Baik\",\"Baik\",\"Baik\",\"Baik\",\"Sangat Baik\",\"Kurang\",\"Sangat Baik\",\"Cukup\",\"Kurang\",\"Kurang\",\"Kurang\",\"Baik\",\"Baik\",\"Cukup\",\"Cukup\",\"Baik\",\"Baik\",\"Kurang\",\"Baik\",\"Baik\",\"Sangat Baik\",\"Cukup\",\"Cukup\",\"Baik\",\"Cukup\",\"Kurang\",\"Cukup\",\"Kurang\",\"Kurang\",\"Kurang\",\"Kurang\",\"Kurang\",\"Kurang\",\"Kurang\",\"Kurang\",\"Kurang\",\"Kurang\",\"Kurang\",\"Kurang\",\"Baik\",\"Kurang\",\"Kurang\",\"Kurang\",\"Sangat Baik\",\"Sangat Baik\",\"Kurang\",\"Baik\",\"Sangat Baik\",\"Sangat Baik\",\"Sangat Baik\",\"Cukup\",\"Sangat Baik\",\"Cukup\",\"Baik\",\"Baik\",\"Sangat Baik\",\"Cukup\",\"Sangat Baik\",\"Cukup\",\"Sangat Baik\",\"Sangat Baik\",\"Sangat Baik\",\"Kurang\",\"Kurang\",\"Baik\",\"Baik\",\"Cukup\",\"Kurang\",\"Cukup\",\"Cukup\",\"Baik\",\"Cukup\",\"Baik\",\"Cukup\",\"Sangat Baik\",\"Sangat Baik\",\"Cukup\",\"Cukup\",\"Kurang\",\"Cukup\",\"Sangat Baik\",\"Sangat Baik\",\"Sangat Baik\",\"Sangat Baik\",\"Sangat Baik\",\"Baik\",\"Sangat Baik\",\"Sangat Baik\",\"Baik\",\"Kurang\",\"Baik\",\"Cukup\",\"Cukup\",\"Cukup\",\"Cukup\",\"Sangat Baik\",\"Baik\",\"Sangat Baik\",\"Kurang\",\"Baik\",\"Sangat Baik\",\"Baik\",\"Sangat Baik\",\"Sangat Baik\",\"Sangat Baik\",\"Baik\",\"Kurang\",\"Sangat Baik\",\"Cukup\",\"Cukup\",\"Kurang\",\"Cukup\",\"Cukup\",\"Cukup\",\"Cukup\",\"Baik\",\"Kurang\",\"Kurang\",\"Cukup\",\"Cukup\",\"Baik\",\"Baik\",\"Cukup\",\"Baik\",\"Sangat Baik\",\"Sangat Baik\",\"Sangat Baik\",\"Sangat Baik\",\"Baik\",\"Sangat Baik\",\"Baik\",\"Sangat Baik\",\"Cukup\",\"Cukup\",\"Kurang\",\"Cukup\",\"Kurang\",\"Sangat Baik\",\"Sangat Baik\",\"Sangat Baik\",\"Sangat Baik\",\"Kurang\",\"Kurang\",\"Kurang\",\"Kurang\",\"Kurang\",\"Baik\",\"Kurang\",\"Sangat Baik\",\"Cukup\",\"Cukup\",\"Cukup\",\"Cukup\",\"Cukup\",\"Kurang\",\"Baik\",\"Baik\",\"Baik\",\"Sangat Baik\",\"Kurang\",\"Kurang\",\"Sangat Baik\",\"Baik\",\"Sangat Baik\",\"Sangat Baik\",\"Cukup\",\"Sangat Baik\",\"Sangat Baik\",\"Kurang\",\"Sangat Baik\",\"Kurang\",\"Sangat Baik\",\"Kurang\",\"Baik\",\"Sangat Baik\",\"Baik\",\"Baik\",\"Kurang\",\"Baik\",\"Cukup\",\"Cukup\",\"Kurang\",\"Kurang\",\"Kurang\",\"Kurang\",\"Kurang\",\"Kurang\",\"Kurang\",\"Kurang\",\"Sangat Baik\",\"Cukup\",\"Cukup\",\"Baik\",\"Cukup\",\"Sangat Baik\",\"Kurang\",\"Kurang\",\"Kurang\",\"Sangat Baik\",\"Baik\",\"Kurang\",\"Kurang\",\"Kurang\",\"Kurang\",\"Kurang\",\"Cukup\",\"Cukup\",\"Kurang\",\"Cukup\",\"Cukup\",\"Kurang\",\"Sangat Baik\",\"Kurang\",\"Kurang\",\"Kurang\",\"Kurang\",\"Kurang\",\"Sangat Baik\",\"Kurang\",\"Kurang\",\"Sangat Baik\",\"Kurang\",\"Kurang\",\"Kurang\",\"Kurang\",\"Kurang\",\"Cukup\",\"Kurang\",\"Kurang\",\"Kurang\",\"Sangat Baik\",\"Kurang\",\"Kurang\",\"Kurang\",\"Kurang\",\"Kurang\",\"Kurang\",\"Baik\",\"Baik\",\"Baik\",\"Kurang\",\"Cukup\",\"Cukup\",\"Sangat Baik\",\"Sangat Baik\",\"Baik\",\"Sangat Baik\",\"Sangat Baik\",\"Sangat Baik\",\"Sangat Baik\",\"Sangat Baik\",\"Sangat Baik\",\"Kurang\",\"Baik\",\"Sangat Baik\",\"Baik\",\"Sangat Baik\",\"Sangat Baik\",\"Kurang\",\"Kurang\",\"Cukup\",\"Kurang\",\"Kurang\",\"Sangat Baik\",\"Cukup\",\"Kurang\",\"Kurang\",\"Cukup\",\"Cukup\",\"Cukup\",\"Cukup\",\"Sangat Baik\",\"Cukup\",\"Cukup\",\"Sangat Baik\",\"Cukup\",\"Sangat Baik\",\"Kurang\",\"Cukup\",\"Kurang\",\"Baik\",\"Cukup\",\"Cukup\",\"Cukup\",\"Kurang\",\"Sangat Baik\",\"Cukup\",\"Kurang\",\"Kurang\",\"Baik\",\"Kurang\",\"Baik\",\"Kurang\",\"Sangat Baik\",\"Sangat Baik\",\"Sangat Baik\",\"Kurang\",\"Kurang\",\"Kurang\",\"Cukup\",\"Kurang\",\"Cukup\",\"Cukup\",\"Kurang\",\"Kurang\",\"Sangat Baik\",\"Baik\",\"Kurang\",\"Kurang\",\"Kurang\",\"Baik\",\"Kurang\",\"Cukup\",\"Kurang\",\"Cukup\",\"Sangat Baik\",\"Baik\",\"Cukup\",\"Sangat Baik\",\"Sangat Baik\",\"Sangat Baik\",\"Cukup\",\"Kurang\",\"Sangat Baik\",\"Kurang\",\"Kurang\",\"Kurang\",\"Baik\",\"Sangat Baik\",\"Sangat Baik\",\"Kurang\",\"Cukup\",\"Cukup\",\"Sangat Baik\",\"Cukup\",\"Cukup\",\"Cukup\",\"Cukup\",\"Kurang\",\"Sangat Baik\",\"Cukup\",\"Cukup\",\"Sangat Baik\",\"Sangat Baik\",\"Cukup\",\"Cukup\",\"Cukup\",\"Cukup\",\"Sangat Baik\",\"Kurang\",\"Cukup\",\"Sangat Baik\",\"Kurang\",\"Sangat Baik\",\"Baik\",\"Kurang\",\"Sangat Baik\",\"Cukup\",\"Baik\",\"Cukup\",\"Kurang\",\"Cukup\",\"Cukup\",\"Cukup\",\"Cukup\",\"Cukup\",\"Cukup\",\"Cukup\",\"Cukup\",\"Kurang\",\"Cukup\",\"Sangat Baik\",\"Baik\",\"Cukup\",\"Cukup\",\"Cukup\",\"Kurang\",\"Cukup\",\"Baik\",\"Cukup\",\"Cukup\",\"Cukup\",\"Cukup\",\"Sangat Baik\",\"Cukup\",\"Kurang\",\"Kurang\",\"Cukup\",\"Sangat Baik\",\"Kurang\",\"Kurang\",\"Sangat Baik\",\"Sangat Baik\",\"Sangat Baik\",\"Sangat Baik\",\"Baik\",\"Sangat Baik\",\"Baik\",\"Kurang\",\"Sangat Baik\",\"Sangat Baik\",\"Cukup\",\"Cukup\",\"Cukup\",\"Cukup\",\"Cukup\",\"Cukup\",\"Cukup\",\"Cukup\",\"Cukup\",\"Sangat Baik\",\"Sangat Baik\",\"Sangat Baik\",\"Sangat Baik\",\"Sangat Baik\",\"Sangat Baik\",\"Baik\",\"Baik\",\"Cukup\",\"Baik\",\"Cukup\",\"Cukup\",\"Cukup\",\"Kurang\",\"Baik\",\"Baik\",\"Cukup\",\"Cukup\",\"Kurang\",\"Baik\",\"Cukup\",\"Cukup\",\"Kurang\",\"Baik\",\"Baik\",\"Kurang\",\"Baik\",\"Baik\",\"Baik\",\"Kurang\",\"Cukup\",\"Cukup\",\"Baik\",\"Cukup\",\"Sangat Baik\",\"Cukup\",\"Kurang\",\"Baik\",\"Kurang\",\"Kurang\",\"Baik\",\"Kurang\",\"Kurang\",\"Kurang\",\"Kurang\",\"Cukup\",\"Cukup\",\"Cukup\",\"Kurang\",\"Kurang\",\"Kurang\",\"Cukup\",\"Kurang\",\"Kurang\",\"Kurang\",\"Kurang\",\"Kurang\",\"Kurang\",\"Baik\",\"Kurang\",\"Kurang\",\"Sangat Baik\",\"Kurang\",\"Kurang\",\"Baik\",\"Baik\",\"Kurang\",\"Baik\",\"Kurang\",\"Baik\",\"Baik\",\"Sangat Baik\",\"Kurang\",\"Kurang\",\"Baik\",\"Cukup\",\"Kurang\",\"Sangat Baik\",\"Sangat Baik\",\"Sangat Baik\",\"Cukup\",\"Cukup\",\"Baik\",\"Cukup\",\"Sangat Baik\",\"Cukup\",\"Kurang\",\"Sangat Baik\",\"Baik\",\"Sangat Baik\",\"Sangat Baik\",\"Cukup\",\"Kurang\",\"Baik\",\"Sangat Baik\",\"Sangat Baik\",\"Sangat Baik\",\"Kurang\",\"Sangat Baik\",\"Sangat Baik\",\"Kurang\",\"Baik\",\"Sangat Baik\",\"Cukup\",\"Baik\",\"Sangat Baik\",\"Baik\",\"Baik\",\"Sangat Baik\",\"Sangat Baik\",\"Baik\",\"Kurang\",\"Cukup\",\"Baik\",\"Sangat Baik\",\"Sangat Baik\",\"Baik\",\"Kurang\",\"Sangat Baik\",\"Kurang\",\"Baik\",\"Baik\",\"Sangat Baik\",\"Baik\",\"Sangat Baik\",\"Sangat Baik\",\"Sangat Baik\",\"Cukup\",\"Sangat Baik\",\"Cukup\",\"Baik\",\"Cukup\",\"Sangat Baik\",\"Baik\",\"Cukup\",\"Kurang\",\"Baik\",\"Kurang\",\"Baik\",\"Sangat Baik\",\"Baik\",\"Cukup\",\"Baik\",\"Kurang\",\"Kurang\",\"Cukup\",\"Sangat Baik\",\"Sangat Baik\",\"Baik\",\"Sangat Baik\",\"Sangat Baik\",\"Sangat Baik\",\"Sangat Baik\",\"Sangat Baik\",\"Kurang\",\"Cukup\",\"Baik\",\"Kurang\",\"Baik\",\"Cukup\",\"Kurang\",\"Baik\",\"Kurang\",\"Kurang\",\"Kurang\",\"Baik\",\"Kurang\",\"Kurang\",\"Sangat Baik\",\"Sangat Baik\",\"Cukup\",\"Cukup\",\"Baik\",\"Kurang\",\"Kurang\",\"Sangat Baik\",\"Kurang\",\"Sangat Baik\",\"Sangat Baik\",\"Sangat Baik\",\"Sangat Baik\",\"Kurang\",\"Kurang\",\"Sangat Baik\",\"Kurang\",\"Sangat Baik\",\"Kurang\",\"Baik\",\"Cukup\",\"Cukup\",\"Sangat Baik\",\"Sangat Baik\",\"Sangat Baik\",\"Cukup\",\"Cukup\",\"Baik\",\"Baik\",\"Sangat Baik\",\"Sangat Baik\",\"Sangat Baik\",\"Cukup\",\"Kurang\",\"Sangat Baik\",\"Kurang\",\"Kurang\",\"Cukup\",\"Kurang\",\"Baik\",\"Kurang\",\"Cukup\",\"Cukup\",\"Kurang\",\"Kurang\",\"Sangat Baik\",\"Sangat Baik\",\"Cukup\",\"Kurang\",\"Kurang\",\"Cukup\",\"Baik\",\"Sangat Baik\",\"Baik\",\"Sangat Baik\",\"Sangat Baik\",\"Kurang\",\"Sangat Baik\",\"Sangat Baik\",\"Kurang\",\"Sangat Baik\",\"Cukup\",\"Sangat Baik\",\"Sangat Baik\",\"Kurang\",\"Kurang\",\"Kurang\",\"Sangat Baik\",\"Sangat Baik\",\"Cukup\",\"Sangat Baik\",\"Sangat Baik\",\"Sangat Baik\",\"Sangat Baik\",\"Kurang\",\"Kurang\",\"Kurang\",\"Sangat Baik\",\"Cukup\",\"Baik\",\"Kurang\",\"Kurang\",\"Kurang\",\"Sangat Baik\",\"Cukup\",\"Sangat Baik\",\"Sangat Baik\",\"Sangat Baik\",\"Kurang\",\"Baik\",\"Cukup\",\"Cukup\",\"Cukup\",\"Baik\",\"Baik\",\"Sangat Baik\",\"Cukup\",\"Sangat Baik\",\"Sangat Baik\",\"Kurang\",\"Cukup\",\"Baik\",\"Sangat Baik\",\"Sangat Baik\",\"Sangat Baik\",\"Sangat Baik\",\"Sangat Baik\",\"Sangat Baik\",\"Cukup\",\"Cukup\",\"Kurang\",\"Baik\",\"Kurang\",\"Cukup\",\"Kurang\",\"Baik\",\"Kurang\",\"Kurang\",\"Sangat Baik\",\"Kurang\",\"Cukup\",\"Kurang\",\"Kurang\",\"Cukup\",\"Sangat Baik\",\"Sangat Baik\",\"Baik\",\"Kurang\",\"Cukup\",\"Sangat Baik\",\"Cukup\",\"Baik\",\"Kurang\",\"Kurang\",\"Kurang\",\"Sangat Baik\",\"Sangat Baik\",\"Kurang\",\"Sangat Baik\",\"Sangat Baik\",\"Sangat Baik\",\"Sangat Baik\",\"Cukup\",\"Cukup\",\"Sangat Baik\",\"Cukup\",\"Cukup\",\"Kurang\",\"Kurang\",\"Kurang\",\"Cukup\",\"Cukup\",\"Cukup\",\"Cukup\",\"Cukup\",\"Cukup\",\"Cukup\",\"Cukup\",\"Kurang\",\"Kurang\",\"Kurang\",\"Cukup\",\"Sangat Baik\",\"Baik\",\"Kurang\",\"Kurang\",\"Cukup\",\"Cukup\",\"Cukup\",\"Cukup\",\"Kurang\",\"Kurang\",\"Sangat Baik\",\"Sangat Baik\",\"Cukup\",\"Sangat Baik\",\"Sangat Baik\",\"Cukup\",\"Cukup\",\"Sangat Baik\",\"Baik\",\"Cukup\",\"Sangat Baik\",\"Kurang\",\"Cukup\",\"Kurang\",\"Baik\",\"Cukup\",\"Cukup\",\"Baik\",\"Baik\",\"Kurang\",\"Sangat Baik\",\"Kurang\",\"Sangat Baik\",\"Kurang\",\"Cukup\",\"Cukup\",\"Kurang\",\"Kurang\",\"Kurang\",\"Baik\",\"Sangat Baik\",\"Cukup\",\"Sangat Baik\",\"Sangat Baik\",\"Cukup\",\"Cukup\",\"Sangat Baik\",\"Kurang\",\"Kurang\",\"Kurang\",\"Cukup\",\"Baik\",\"Cukup\",\"Cukup\",\"Cukup\",\"Sangat Baik\",\"Cukup\",\"Kurang\",\"Cukup\",\"Baik\",\"Baik\",\"Baik\",\"Cukup\",\"Sangat Baik\",\"Baik\",\"Baik\",\"Kurang\",\"Cukup\",\"Baik\",\"Cukup\",\"Baik\",\"Cukup\",\"Cukup\",\"Cukup\",\"Cukup\",\"Kurang\",\"Kurang\",\"Cukup\",\"Cukup\",\"Sangat Baik\",\"Cukup\",\"Cukup\",\"Kurang\",\"Kurang\",\"Kurang\",\"Cukup\",\"Cukup\",\"Kurang\",\"Kurang\",\"Sangat Baik\",\"Cukup\",\"Kurang\",\"Sangat Baik\",\"Baik\",\"Sangat Baik\",\"Cukup\",\"Kurang\",\"Kurang\",\"Sangat Baik\",\"Cukup\",\"Cukup\",\"Kurang\",\"Kurang\",\"Sangat Baik\",\"Cukup\",\"Sangat Baik\",\"Kurang\",\"Kurang\",\"Sangat Baik\",\"Kurang\",\"Sangat Baik\",\"Cukup\",\"Sangat Baik\",\"Cukup\",\"Cukup\",\"Sangat Baik\",\"Cukup\",\"Cukup\",\"Cukup\",\"Kurang\",\"Baik\",\"Baik\",\"Cukup\",\"Sangat Baik\",\"Cukup\",\"Baik\",\"Kurang\",\"Kurang\",\"Sangat Baik\",\"Kurang\",\"Kurang\",\"Kurang\",\"Kurang\",\"Baik\",\"Sangat Baik\",\"Kurang\",\"Cukup\",\"Sangat Baik\",\"Baik\",\"Sangat Baik\",\"Kurang\",\"Sangat Baik\",\"Sangat Baik\",\"Sangat Baik\",\"Cukup\",\"Sangat Baik\",\"Sangat Baik\",\"Cukup\",\"Kurang\",\"Cukup\",\"Cukup\",\"Sangat Baik\",\"Sangat Baik\",\"Sangat Baik\",\"Sangat Baik\",\"Sangat Baik\",\"Cukup\",\"Sangat Baik\",\"Baik\",\"Kurang\",\"Baik\",\"Sangat Baik\",\"Kurang\",\"Kurang\",\"Kurang\",\"Baik\",\"Kurang\",\"Sangat Baik\",\"Sangat Baik\",\"Cukup\",\"Cukup\",\"Baik\",\"Cukup\",\"Sangat Baik\",\"Cukup\",\"Sangat Baik\",\"Baik\",\"Cukup\",\"Cukup\",\"Sangat Baik\",\"Kurang\",\"Cukup\",\"Cukup\",\"Sangat Baik\",\"Cukup\",\"Kurang\",\"Cukup\",\"Cukup\",\"Sangat Baik\",\"Kurang\",\"Baik\",\"Kurang\",\"Sangat Baik\",\"Cukup\",\"Sangat Baik\",\"Sangat Baik\",\"Sangat Baik\",\"Baik\",\"Sangat Baik\",\"Sangat Baik\",\"Kurang\",\"Kurang\",\"Sangat Baik\",\"Sangat Baik\",\"Baik\",\"Sangat Baik\",\"Sangat Baik\",\"Sangat Baik\",\"Sangat Baik\",\"Sangat Baik\",\"Sangat Baik\",\"Sangat Baik\",\"Kurang\",\"Kurang\",\"Sangat Baik\",\"Sangat Baik\",\"Sangat Baik\",\"Sangat Baik\",\"Sangat Baik\",\"Baik\",\"Sangat Baik\",\"Sangat Baik\",\"Sangat Baik\",\"Cukup\",\"Cukup\",\"Cukup\",\"Cukup\",\"Cukup\",\"Cukup\",\"Cukup\",\"Cukup\",\"Kurang\",\"Cukup\",\"Sangat Baik\",\"Kurang\",\"Baik\",\"Kurang\",\"Baik\",\"Kurang\",\"Kurang\",\"Sangat Baik\",\"Cukup\",\"Cukup\",\"Sangat Baik\",\"Cukup\",\"Sangat Baik\",\"Cukup\",\"Kurang\",\"Sangat Baik\",\"Sangat Baik\",\"Baik\",\"Cukup\",\"Cukup\",\"Cukup\",\"Sangat Baik\",\"Sangat Baik\",\"Baik\",\"Sangat Baik\",\"Sangat Baik\",\"Sangat Baik\",\"Sangat Baik\",\"Kurang\",\"Sangat Baik\",\"Sangat Baik\",\"Kurang\",\"Sangat Baik\",\"Kurang\",\"Cukup\",\"Cukup\",\"Sangat Baik\",\"Sangat Baik\",\"Sangat Baik\",\"Baik\",\"Baik\",\"Baik\",\"Sangat Baik\",\"Kurang\",\"Sangat Baik\",\"Cukup\",\"Kurang\",\"Kurang\",\"Kurang\",\"Baik\",\"Baik\",\"Cukup\",\"Cukup\",\"Baik\",\"Baik\",\"Kurang\",\"Baik\",\"Baik\",\"Sangat Baik\",\"Cukup\",\"Cukup\",\"Baik\",\"Cukup\",\"Kurang\",\"Cukup\",\"Kurang\",\"Kurang\",\"Kurang\",\"Kurang\",\"Kurang\",\"Kurang\",\"Kurang\",\"Kurang\",\"Kurang\",\"Kurang\",\"Kurang\",\"Kurang\",\"Baik\",\"Kurang\",\"Kurang\",\"Kurang\",\"Sangat Baik\",\"Sangat Baik\",\"Kurang\",\"Baik\",\"Sangat Baik\",\"Sangat Baik\",\"Sangat Baik\",\"Cukup\",\"Sangat Baik\",\"Cukup\",\"Baik\",\"Baik\",\"Sangat Baik\",\"Cukup\",\"Sangat Baik\",\"Cukup\",\"Sangat Baik\",\"Sangat Baik\",\"Sangat Baik\",\"Kurang\",\"Kurang\",\"Baik\",\"Baik\",\"Cukup\",\"Kurang\",\"Cukup\",\"Cukup\",\"Baik\",\"Cukup\",\"Baik\",\"Cukup\",\"Sangat Baik\",\"Sangat Baik\",\"Cukup\",\"Cukup\",\"Kurang\",\"Cukup\",\"Sangat Baik\",\"Sangat Baik\",\"Sangat Baik\",\"Sangat Baik\",\"Sangat Baik\",\"Baik\",\"Sangat Baik\",\"Sangat Baik\",\"Baik\",\"Kurang\",\"Baik\",\"Cukup\",\"Cukup\",\"Cukup\",\"Cukup\",\"Sangat Baik\",\"Baik\",\"Sangat Baik\",\"Kurang\",\"Baik\",\"Sangat Baik\",\"Baik\",\"Sangat Baik\",\"Sangat Baik\",\"Sangat Baik\",\"Baik\",\"Kurang\",\"Sangat Baik\",\"Cukup\",\"Cukup\",\"Kurang\",\"Cukup\",\"Cukup\",\"Cukup\",\"Cukup\",\"Baik\",\"Kurang\",\"Kurang\",\"Cukup\",\"Cukup\",\"Baik\",\"Baik\",\"Cukup\",\"Baik\",\"Sangat Baik\",\"Sangat Baik\",\"Sangat Baik\",\"Sangat Baik\",\"Baik\",\"Sangat Baik\",\"Baik\",\"Sangat Baik\",\"Cukup\",\"Cukup\",\"Kurang\",\"Cukup\",\"Kurang\",\"Sangat Baik\",\"Sangat Baik\",\"Sangat Baik\",\"Sangat Baik\",\"Kurang\",\"Kurang\",\"Kurang\",\"Kurang\",\"Kurang\",\"Baik\",\"Kurang\",\"Sangat Baik\",\"Cukup\",\"Cukup\",\"Cukup\",\"Cukup\",\"Cukup\",\"Kurang\",\"Baik\",\"Baik\",\"Baik\",\"Sangat Baik\",\"Kurang\",\"Kurang\",\"Sangat Baik\",\"Baik\",\"Sangat Baik\",\"Sangat Baik\",\"Cukup\",\"Sangat Baik\",\"Sangat Baik\",\"Kurang\",\"Sangat Baik\",\"Kurang\",\"Sangat Baik\",\"Kurang\",\"Baik\",\"Sangat Baik\",\"Baik\",\"Baik\",\"Kurang\",\"Baik\",\"Cukup\",\"Cukup\",\"Kurang\",\"Kurang\",\"Kurang\",\"Kurang\",\"Kurang\",\"Kurang\",\"Kurang\",\"Kurang\",\"Sangat Baik\",\"Cukup\",\"Cukup\",\"Baik\",\"Cukup\",\"Sangat Baik\",\"Kurang\",\"Kurang\",\"Kurang\",\"Sangat Baik\",\"Baik\",\"Kurang\",\"Kurang\",\"Kurang\",\"Kurang\",\"Kurang\",\"Cukup\",\"Cukup\",\"Kurang\",\"Cukup\",\"Cukup\",\"Kurang\",\"Sangat Baik\",\"Kurang\",\"Kurang\",\"Kurang\",\"Kurang\",\"Kurang\",\"Sangat Baik\",\"Kurang\",\"Kurang\",\"Sangat Baik\",\"Kurang\",\"Kurang\",\"Kurang\",\"Kurang\",\"Kurang\",\"Cukup\",\"Kurang\",\"Kurang\",\"Kurang\",\"Sangat Baik\",\"Kurang\",\"Kurang\",\"Kurang\",\"Kurang\",\"Kurang\",\"Kurang\",\"Baik\",\"Baik\",\"Baik\",\"Kurang\",\"Cukup\",\"Cukup\",\"Sangat Baik\",\"Sangat Baik\",\"Baik\",\"Sangat Baik\",\"Sangat Baik\",\"Sangat Baik\",\"Sangat Baik\",\"Sangat Baik\",\"Sangat Baik\",\"Kurang\",\"Baik\",\"Sangat Baik\",\"Baik\",\"Sangat Baik\",\"Sangat Baik\",\"Kurang\",\"Kurang\",\"Cukup\",\"Kurang\",\"Kurang\",\"Sangat Baik\",\"Cukup\",\"Kurang\",\"Kurang\",\"Cukup\",\"Cukup\",\"Cukup\",\"Cukup\",\"Sangat Baik\",\"Cukup\",\"Cukup\",\"Sangat Baik\",\"Cukup\",\"Sangat Baik\",\"Kurang\",\"Cukup\",\"Kurang\",\"Baik\",\"Cukup\",\"Cukup\",\"Cukup\",\"Kurang\",\"Sangat Baik\",\"Cukup\",\"Kurang\",\"Kurang\",\"Baik\",\"Kurang\",\"Baik\",\"Kurang\",\"Sangat Baik\",\"Sangat Baik\",\"Sangat Baik\",\"Kurang\",\"Kurang\",\"Kurang\",\"Cukup\",\"Kurang\",\"Cukup\",\"Cukup\",\"Kurang\",\"Kurang\",\"Sangat Baik\",\"Baik\",\"Kurang\",\"Kurang\",\"Kurang\",\"Baik\",\"Kurang\",\"Cukup\",\"Kurang\",\"Cukup\",\"Sangat Baik\",\"Baik\",\"Cukup\",\"Sangat Baik\",\"Sangat Baik\",\"Sangat Baik\",\"Cukup\",\"Kurang\",\"Sangat Baik\",\"Kurang\",\"Kurang\",\"Kurang\",\"Baik\",\"Sangat Baik\",\"Sangat Baik\",\"Kurang\",\"Cukup\",\"Cukup\",\"Sangat Baik\",\"Cukup\",\"Cukup\",\"Cukup\",\"Cukup\",\"Kurang\",\"Sangat Baik\",\"Cukup\",\"Cukup\",\"Sangat Baik\",\"Sangat Baik\",\"Cukup\",\"Cukup\",\"Cukup\",\"Cukup\",\"Sangat Baik\",\"Kurang\",\"Cukup\",\"Sangat Baik\",\"Kurang\",\"Sangat Baik\",\"Baik\",\"Kurang\",\"Sangat Baik\",\"Cukup\",\"Baik\",\"Cukup\",\"Kurang\",\"Cukup\",\"Cukup\",\"Cukup\",\"Cukup\",\"Cukup\",\"Cukup\",\"Cukup\",\"Cukup\",\"Kurang\",\"Cukup\",\"Sangat Baik\",\"Baik\",\"Cukup\",\"Cukup\",\"Cukup\",\"Kurang\",\"Cukup\",\"Baik\",\"Cukup\",\"Cukup\",\"Cukup\",\"Cukup\",\"Sangat Baik\",\"Cukup\",\"Kurang\",\"Kurang\",\"Cukup\",\"Sangat Baik\",\"Kurang\",\"Kurang\",\"Sangat Baik\",\"Sangat Baik\",\"Sangat Baik\",\"Sangat Baik\",\"Baik\",\"Sangat Baik\",\"Baik\",\"Kurang\",\"Sangat Baik\",\"Sangat Baik\",\"Cukup\",\"Cukup\",\"Cukup\",\"Cukup\",\"Cukup\",\"Cukup\",\"Cukup\",\"Cukup\",\"Cukup\",\"Sangat Baik\",\"Sangat Baik\",\"Sangat Baik\",\"Sangat Baik\",\"Sangat Baik\",\"Sangat Baik\",\"Baik\",\"Baik\",\"Cukup\",\"Baik\",\"Cukup\",\"Cukup\",\"Cukup\",\"Kurang\",\"Baik\",\"Baik\",\"Cukup\",\"Cukup\",\"Kurang\",\"Baik\",\"Cukup\",\"Cukup\",\"Kurang\",\"Baik\",\"Baik\",\"Kurang\",\"Baik\",\"Baik\",\"Baik\",\"Kurang\",\"Cukup\",\"Cukup\",\"Baik\",\"Cukup\",\"Sangat Baik\",\"Cukup\",\"Kurang\",\"Baik\",\"Kurang\",\"Kurang\",\"Baik\",\"Kurang\",\"Kurang\",\"Kurang\",\"Kurang\",\"Cukup\",\"Cukup\",\"Cukup\",\"Kurang\",\"Kurang\",\"Kurang\",\"Cukup\",\"Kurang\",\"Kurang\",\"Kurang\",\"Kurang\",\"Kurang\",\"Kurang\",\"Baik\",\"Kurang\",\"Kurang\",\"Sangat Baik\",\"Kurang\",\"Kurang\",\"Baik\",\"Baik\",\"Kurang\",\"Baik\",\"Kurang\",\"Baik\",\"Baik\",\"Sangat Baik\",\"Kurang\",\"Kurang\",\"Baik\",\"Cukup\",\"Kurang\",\"Sangat Baik\",\"Sangat Baik\",\"Sangat Baik\",\"Cukup\",\"Cukup\",\"Baik\",\"Cukup\",\"Sangat Baik\",\"Cukup\",\"Kurang\",\"Sangat Baik\",\"Baik\",\"Sangat Baik\",\"Sangat Baik\",\"Cukup\",\"Kurang\",\"Baik\",\"Sangat Baik\",\"Sangat Baik\",\"Sangat Baik\",\"Kurang\",\"Sangat Baik\",\"Sangat Baik\",\"Kurang\",\"Baik\",\"Sangat Baik\",\"Cukup\",\"Baik\",\"Sangat Baik\",\"Baik\",\"Baik\",\"Sangat Baik\",\"Sangat Baik\",\"Baik\",\"Kurang\",\"Cukup\",\"Baik\",\"Sangat Baik\",\"Sangat Baik\",\"Baik\",\"Kurang\",\"Sangat Baik\",\"Kurang\",\"Baik\",\"Baik\",\"Sangat Baik\",\"Baik\",\"Sangat Baik\",\"Sangat Baik\",\"Sangat Baik\",\"Cukup\",\"Sangat Baik\",\"Cukup\",\"Baik\",\"Cukup\",\"Sangat Baik\",\"Baik\",\"Cukup\",\"Kurang\",\"Baik\",\"Kurang\",\"Baik\",\"Sangat Baik\",\"Baik\",\"Cukup\",\"Baik\",\"Kurang\",\"Kurang\",\"Cukup\",\"Sangat Baik\",\"Sangat Baik\",\"Baik\",\"Sangat Baik\",\"Sangat Baik\",\"Sangat Baik\",\"Sangat Baik\",\"Sangat Baik\",\"Kurang\",\"Cukup\",\"Baik\",\"Kurang\",\"Baik\",\"Cukup\",\"Kurang\",\"Baik\",\"Kurang\",\"Kurang\",\"Kurang\",\"Baik\",\"Kurang\",\"Kurang\",\"Sangat Baik\",\"Sangat Baik\",\"Cukup\",\"Cukup\",\"Baik\",\"Kurang\",\"Kurang\",\"Sangat Baik\",\"Kurang\",\"Sangat Baik\",\"Sangat Baik\",\"Sangat Baik\",\"Sangat Baik\",\"Kurang\",\"Kurang\",\"Sangat Baik\",\"Kurang\",\"Sangat Baik\",\"Kurang\",\"Baik\",\"Cukup\",\"Cukup\",\"Sangat Baik\",\"Sangat Baik\",\"Sangat Baik\",\"Cukup\",\"Cukup\",\"Baik\",\"Baik\",\"Sangat Baik\",\"Sangat Baik\",\"Sangat Baik\",\"Cukup\",\"Kurang\",\"Sangat Baik\",\"Kurang\",\"Kurang\",\"Cukup\",\"Kurang\",\"Baik\",\"Kurang\",\"Cukup\",\"Cukup\",\"Kurang\",\"Kurang\",\"Sangat Baik\",\"Sangat Baik\",\"Cukup\",\"Kurang\",\"Kurang\",\"Cukup\",\"Baik\",\"Sangat Baik\",\"Baik\",\"Sangat Baik\",\"Sangat Baik\",\"Kurang\",\"Sangat Baik\",\"Sangat Baik\",\"Kurang\",\"Sangat Baik\",\"Cukup\",\"Sangat Baik\",\"Sangat Baik\",\"Kurang\",\"Kurang\",\"Kurang\",\"Sangat Baik\",\"Sangat Baik\",\"Cukup\",\"Sangat Baik\",\"Sangat Baik\",\"Sangat Baik\",\"Sangat Baik\",\"Kurang\",\"Kurang\",\"Kurang\",\"Sangat Baik\",\"Cukup\",\"Baik\",\"Kurang\",\"Kurang\",\"Kurang\",\"Sangat Baik\",\"Cukup\",\"Sangat Baik\",\"Sangat Baik\",\"Sangat Baik\",\"Kurang\",\"Baik\",\"Cukup\",\"Cukup\",\"Cukup\",\"Baik\",\"Baik\",\"Sangat Baik\",\"Cukup\",\"Sangat Baik\",\"Sangat Baik\",\"Kurang\",\"Cukup\",\"Baik\",\"Sangat Baik\",\"Sangat Baik\",\"Sangat Baik\",\"Sangat Baik\",\"Sangat Baik\",\"Sangat Baik\",\"Cukup\",\"Cukup\",\"Kurang\",\"Baik\",\"Kurang\",\"Cukup\",\"Kurang\",\"Baik\",\"Kurang\",\"Kurang\",\"Sangat Baik\",\"Kurang\",\"Cukup\",\"Kurang\",\"Kurang\",\"Cukup\",\"Sangat Baik\",\"Sangat Baik\",\"Baik\",\"Kurang\",\"Cukup\",\"Sangat Baik\",\"Cukup\",\"Baik\",\"Kurang\",\"Kurang\",\"Kurang\",\"Sangat Baik\",\"Sangat Baik\",\"Kurang\",\"Sangat Baik\",\"Sangat Baik\",\"Sangat Baik\",\"Sangat Baik\",\"Cukup\",\"Cukup\",\"Sangat Baik\",\"Cukup\",\"Cukup\",\"Kurang\",\"Kurang\",\"Kurang\",\"Cukup\",\"Cukup\",\"Cukup\",\"Cukup\",\"Cukup\",\"Cukup\",\"Cukup\",\"Cukup\",\"Kurang\",\"Kurang\",\"Kurang\",\"Cukup\",\"Sangat Baik\",\"Baik\",\"Kurang\",\"Kurang\",\"Cukup\",\"Cukup\",\"Cukup\",\"Cukup\",\"Kurang\",\"Kurang\",\"Sangat Baik\",\"Sangat Baik\",\"Cukup\",\"Sangat Baik\",\"Sangat Baik\",\"Cukup\",\"Cukup\",\"Sangat Baik\",\"Baik\",\"Cukup\",\"Sangat Baik\",\"Kurang\",\"Cukup\",\"Kurang\",\"Baik\",\"Cukup\",\"Cukup\",\"Baik\",\"Baik\",\"Kurang\",\"Sangat Baik\",\"Kurang\",\"Sangat Baik\",\"Kurang\",\"Cukup\",\"Cukup\",\"Kurang\",\"Kurang\",\"Kurang\",\"Baik\",\"Sangat Baik\",\"Cukup\",\"Sangat Baik\",\"Sangat Baik\",\"Cukup\",\"Cukup\",\"Sangat Baik\",\"Kurang\",\"Kurang\",\"Kurang\",\"Cukup\",\"Baik\",\"Cukup\",\"Cukup\",\"Cukup\",\"Sangat Baik\",\"Cukup\",\"Kurang\",\"Cukup\",\"Baik\",\"Baik\",\"Baik\",\"Cukup\",\"Sangat Baik\",\"Baik\",\"Baik\",\"Kurang\",\"Cukup\",\"Baik\",\"Cukup\",\"Baik\",\"Cukup\",\"Cukup\",\"Cukup\",\"Cukup\",\"Kurang\",\"Kurang\",\"Cukup\",\"Cukup\",\"Sangat Baik\",\"Cukup\",\"Cukup\",\"Kurang\",\"Kurang\",\"Kurang\",\"Cukup\",\"Cukup\",\"Kurang\",\"Kurang\",\"Sangat Baik\",\"Cukup\",\"Kurang\",\"Sangat Baik\",\"Baik\",\"Sangat Baik\",\"Cukup\",\"Kurang\",\"Kurang\",\"Sangat Baik\",\"Cukup\",\"Cukup\",\"Kurang\",\"Kurang\",\"Sangat Baik\",\"Cukup\",\"Sangat Baik\",\"Kurang\",\"Kurang\",\"Sangat Baik\",\"Kurang\",\"Sangat Baik\",\"Cukup\",\"Sangat Baik\",\"Cukup\",\"Cukup\",\"Sangat Baik\",\"Cukup\",\"Cukup\",\"Cukup\",\"Kurang\",\"Baik\",\"Baik\",\"Cukup\",\"Sangat Baik\",\"Cukup\",\"Baik\",\"Kurang\",\"Kurang\",\"Sangat Baik\",\"Kurang\",\"Kurang\",\"Kurang\",\"Kurang\",\"Baik\",\"Sangat Baik\",\"Kurang\",\"Cukup\",\"Sangat Baik\",\"Baik\",\"Sangat Baik\",\"Kurang\",\"Sangat Baik\",\"Sangat Baik\",\"Sangat Baik\",\"Cukup\",\"Sangat Baik\",\"Sangat Baik\",\"Cukup\",\"Kurang\",\"Cukup\",\"Cukup\",\"Sangat Baik\",\"Sangat Baik\",\"Sangat Baik\",\"Sangat Baik\",\"Sangat Baik\",\"Cukup\",\"Sangat Baik\",\"Baik\",\"Kurang\",\"Baik\",\"Sangat Baik\",\"Kurang\",\"Kurang\",\"Kurang\",\"Baik\",\"Kurang\",\"Sangat Baik\",\"Sangat Baik\",\"Cukup\",\"Cukup\",\"Baik\",\"Cukup\",\"Sangat Baik\",\"Cukup\",\"Sangat Baik\",\"Baik\",\"Cukup\",\"Cukup\",\"Sangat Baik\",\"Kurang\",\"Cukup\",\"Cukup\",\"Sangat Baik\",\"Cukup\",\"Kurang\",\"Cukup\",\"Cukup\",\"Sangat Baik\",\"Kurang\",\"Baik\",\"Kurang\",\"Sangat Baik\",\"Cukup\",\"Sangat Baik\",\"Sangat Baik\",\"Sangat Baik\",\"Baik\",\"Sangat Baik\",\"Sangat Baik\",\"Kurang\",\"Kurang\",\"Sangat Baik\",\"Sangat Baik\",\"Baik\",\"Sangat Baik\",\"Sangat Baik\",\"Sangat Baik\",\"Sangat Baik\",\"Sangat Baik\",\"Sangat Baik\",\"Sangat Baik\",\"Kurang\",\"Kurang\",\"Sangat Baik\",\"Sangat Baik\",\"Sangat Baik\",\"Sangat Baik\",\"Sangat Baik\",\"Baik\",\"Sangat Baik\",\"Sangat Baik\",\"Sangat Baik\",\"Cukup\",\"Cukup\",\"Cukup\",\"Cukup\",\"Cukup\",\"Cukup\",\"Cukup\",\"Cukup\",\"Kurang\",\"Cukup\",\"Sangat Baik\",\"Kurang\",\"Baik\",\"Kurang\",\"Baik\",\"Kurang\",\"Kurang\",\"Sangat Baik\",\"Cukup\",\"Cukup\",\"Sangat Baik\",\"Cukup\",\"Sangat Baik\",\"Cukup\",\"Kurang\",\"Sangat Baik\",\"Sangat Baik\",\"Baik\",\"Cukup\",\"Cukup\",\"Cukup\",\"Sangat Baik\",\"Sangat Baik\",\"Baik\",\"Sangat Baik\",\"Sangat Baik\",\"Sangat Baik\",\"Sangat Baik\",\"Kurang\",\"Sangat Baik\",\"Sangat Baik\",\"Kurang\",\"Sangat Baik\",\"Kurang\",\"Cukup\",\"Cukup\",\"Sangat Baik\",\"Sangat Baik\",\"Sangat Baik\",\"Baik\",\"Baik\",\"Baik\",\"Sangat Baik\",\"Kurang\",\"Sangat Baik\",\"Cukup\",\"Kurang\",\"Kurang\",\"Kurang\",\"Baik\",\"Baik\",\"Cukup\",\"Cukup\",\"Baik\",\"Baik\",\"Kurang\",\"Baik\",\"Baik\",\"Sangat Baik\",\"Cukup\",\"Cukup\",\"Baik\",\"Cukup\",\"Kurang\",\"Cukup\",\"Kurang\",\"Kurang\",\"Kurang\",\"Kurang\",\"Kurang\",\"Kurang\",\"Kurang\",\"Kurang\",\"Kurang\",\"Kurang\",\"Kurang\",\"Kurang\",\"Baik\",\"Kurang\",\"Kurang\",\"Kurang\",\"Sangat Baik\",\"Sangat Baik\",\"Kurang\",\"Baik\",\"Sangat Baik\",\"Sangat Baik\",\"Sangat Baik\",\"Cukup\",\"Sangat Baik\",\"Cukup\",\"Baik\",\"Baik\",\"Sangat Baik\",\"Cukup\",\"Sangat Baik\",\"Cukup\",\"Sangat Baik\",\"Sangat Baik\",\"Sangat Baik\",\"Kurang\",\"Kurang\",\"Baik\",\"Baik\",\"Cukup\",\"Kurang\",\"Cukup\",\"Cukup\",\"Baik\",\"Cukup\",\"Baik\",\"Cukup\",\"Sangat Baik\",\"Sangat Baik\",\"Cukup\",\"Cukup\",\"Kurang\",\"Cukup\",\"Sangat Baik\",\"Sangat Baik\",\"Sangat Baik\",\"Sangat Baik\",\"Sangat Baik\",\"Baik\",\"Sangat Baik\",\"Sangat Baik\",\"Baik\",\"Kurang\",\"Baik\",\"Cukup\",\"Cukup\",\"Cukup\",\"Cukup\",\"Sangat Baik\",\"Baik\",\"Sangat Baik\",\"Kurang\",\"Baik\",\"Sangat Baik\",\"Baik\",\"Sangat Baik\",\"Sangat Baik\",\"Sangat Baik\",\"Baik\",\"Kurang\",\"Sangat Baik\",\"Cukup\",\"Cukup\",\"Kurang\",\"Cukup\",\"Cukup\",\"Cukup\",\"Cukup\",\"Baik\",\"Kurang\",\"Kurang\",\"Cukup\",\"Cukup\",\"Baik\",\"Baik\",\"Cukup\",\"Baik\",\"Sangat Baik\",\"Sangat Baik\",\"Sangat Baik\",\"Sangat Baik\",\"Baik\",\"Sangat Baik\",\"Baik\",\"Sangat Baik\",\"Cukup\",\"Cukup\",\"Kurang\",\"Cukup\",\"Kurang\",\"Sangat Baik\",\"Sangat Baik\",\"Sangat Baik\",\"Sangat Baik\",\"Kurang\",\"Kurang\",\"Kurang\",\"Kurang\",\"Kurang\",\"Baik\",\"Kurang\",\"Sangat Baik\",\"Cukup\",\"Cukup\",\"Cukup\",\"Cukup\",\"Cukup\",\"Kurang\",\"Baik\",\"Baik\",\"Baik\",\"Sangat Baik\",\"Kurang\",\"Kurang\",\"Sangat Baik\",\"Baik\",\"Sangat Baik\",\"Sangat Baik\",\"Cukup\",\"Sangat Baik\",\"Sangat Baik\",\"Kurang\",\"Sangat Baik\",\"Kurang\",\"Sangat Baik\",\"Kurang\",\"Baik\",\"Sangat Baik\",\"Baik\",\"Baik\",\"Kurang\",\"Baik\",\"Cukup\",\"Cukup\",\"Kurang\",\"Kurang\",\"Kurang\",\"Kurang\",\"Kurang\",\"Kurang\",\"Kurang\",\"Kurang\",\"Sangat Baik\",\"Cukup\",\"Cukup\",\"Baik\",\"Cukup\",\"Sangat Baik\",\"Kurang\",\"Kurang\",\"Kurang\",\"Sangat Baik\",\"Baik\",\"Kurang\",\"Kurang\",\"Kurang\",\"Kurang\",\"Kurang\",\"Cukup\",\"Cukup\",\"Kurang\",\"Cukup\",\"Cukup\",\"Kurang\",\"Sangat Baik\",\"Kurang\",\"Kurang\",\"Kurang\",\"Kurang\",\"Kurang\",\"Sangat Baik\",\"Kurang\",\"Kurang\",\"Sangat Baik\",\"Kurang\",\"Kurang\",\"Kurang\",\"Kurang\",\"Kurang\",\"Cukup\",\"Kurang\",\"Kurang\",\"Kurang\",\"Sangat Baik\",\"Kurang\",\"Kurang\",\"Kurang\",\"Kurang\",\"Kurang\",\"Kurang\",\"Baik\",\"Baik\",\"Baik\",\"Kurang\",\"Cukup\",\"Cukup\",\"Sangat Baik\",\"Sangat Baik\",\"Baik\",\"Sangat Baik\",\"Sangat Baik\",\"Sangat Baik\",\"Sangat Baik\",\"Sangat Baik\",\"Sangat Baik\",\"Kurang\",\"Baik\",\"Sangat Baik\",\"Baik\",\"Sangat Baik\",\"Sangat Baik\",\"Kurang\",\"Kurang\",\"Cukup\",\"Kurang\",\"Kurang\",\"Sangat Baik\",\"Cukup\",\"Kurang\",\"Kurang\",\"Cukup\",\"Cukup\",\"Cukup\",\"Cukup\",\"Sangat Baik\",\"Cukup\",\"Cukup\",\"Sangat Baik\",\"Cukup\",\"Sangat Baik\",\"Kurang\",\"Cukup\",\"Kurang\",\"Baik\",\"Cukup\",\"Cukup\",\"Cukup\",\"Kurang\",\"Sangat Baik\",\"Cukup\",\"Kurang\",\"Kurang\",\"Baik\",\"Kurang\",\"Baik\",\"Kurang\",\"Sangat Baik\",\"Sangat Baik\",\"Sangat Baik\",\"Kurang\",\"Kurang\",\"Kurang\",\"Cukup\",\"Kurang\",\"Cukup\",\"Cukup\",\"Kurang\",\"Kurang\",\"Sangat Baik\",\"Baik\",\"Kurang\",\"Kurang\",\"Kurang\",\"Baik\",\"Kurang\",\"Cukup\",\"Kurang\",\"Cukup\",\"Sangat Baik\",\"Baik\",\"Cukup\",\"Sangat Baik\",\"Sangat Baik\",\"Sangat Baik\",\"Cukup\",\"Kurang\",\"Sangat Baik\",\"Kurang\",\"Kurang\",\"Kurang\",\"Baik\",\"Sangat Baik\",\"Sangat Baik\",\"Kurang\",\"Cukup\",\"Cukup\",\"Sangat Baik\",\"Cukup\",\"Cukup\",\"Cukup\",\"Cukup\",\"Kurang\",\"Sangat Baik\",\"Cukup\",\"Cukup\",\"Sangat Baik\",\"Sangat Baik\",\"Cukup\",\"Cukup\",\"Cukup\",\"Cukup\",\"Sangat Baik\",\"Kurang\",\"Cukup\",\"Sangat Baik\",\"Kurang\",\"Sangat Baik\",\"Baik\",\"Kurang\",\"Sangat Baik\",\"Cukup\",\"Baik\",\"Cukup\",\"Kurang\",\"Cukup\",\"Cukup\",\"Cukup\",\"Cukup\",\"Cukup\",\"Cukup\",\"Cukup\",\"Cukup\",\"Kurang\",\"Cukup\",\"Sangat Baik\",\"Baik\",\"Cukup\",\"Cukup\",\"Cukup\",\"Kurang\",\"Cukup\",\"Baik\",\"Cukup\",\"Cukup\",\"Cukup\",\"Cukup\",\"Sangat Baik\",\"Cukup\",\"Kurang\",\"Kurang\",\"Cukup\",\"Sangat Baik\",\"Kurang\",\"Kurang\",\"Sangat Baik\",\"Sangat Baik\",\"Sangat Baik\",\"Sangat Baik\",\"Baik\",\"Sangat Baik\",\"Baik\",\"Kurang\",\"Sangat Baik\",\"Sangat Baik\",\"Cukup\",\"Cukup\",\"Cukup\",\"Cukup\",\"Cukup\",\"Cukup\",\"Cukup\",\"Cukup\",\"Cukup\",\"Sangat Baik\",\"Sangat Baik\",\"Sangat Baik\",\"Sangat Baik\",\"Sangat Baik\",\"Sangat Baik\",\"Baik\",\"Baik\",\"Cukup\",\"Baik\",\"Cukup\",\"Cukup\",\"Cukup\",\"Kurang\",\"Baik\",\"Baik\",\"Cukup\",\"Cukup\",\"Kurang\",\"Baik\",\"Cukup\",\"Cukup\",\"Kurang\",\"Baik\",\"Baik\",\"Kurang\",\"Baik\",\"Baik\",\"Baik\",\"Kurang\",\"Cukup\",\"Cukup\",\"Baik\",\"Cukup\",\"Sangat Baik\",\"Cukup\",\"Kurang\",\"Baik\",\"Kurang\",\"Kurang\",\"Baik\",\"Kurang\",\"Kurang\",\"Kurang\",\"Kurang\",\"Cukup\",\"Cukup\",\"Cukup\",\"Kurang\",\"Kurang\",\"Kurang\",\"Cukup\",\"Kurang\",\"Kurang\",\"Kurang\",\"Kurang\",\"Kurang\",\"Kurang\",\"Baik\",\"Kurang\",\"Kurang\",\"Sangat Baik\",\"Kurang\",\"Kurang\",\"Baik\",\"Baik\",\"Kurang\",\"Baik\",\"Kurang\",\"Baik\",\"Baik\",\"Sangat Baik\",\"Kurang\",\"Kurang\",\"Baik\",\"Cukup\",\"Kurang\",\"Sangat Baik\",\"Sangat Baik\",\"Sangat Baik\",\"Cukup\",\"Cukup\",\"Baik\",\"Cukup\",\"Sangat Baik\",\"Cukup\",\"Kurang\",\"Sangat Baik\",\"Baik\",\"Sangat Baik\",\"Sangat Baik\",\"Cukup\",\"Kurang\",\"Baik\",\"Sangat Baik\",\"Sangat Baik\",\"Sangat Baik\",\"Kurang\",\"Sangat Baik\",\"Sangat Baik\",\"Kurang\",\"Baik\",\"Sangat Baik\",\"Cukup\",\"Baik\",\"Sangat Baik\",\"Baik\",\"Baik\",\"Sangat Baik\",\"Sangat Baik\",\"Baik\",\"Kurang\",\"Cukup\",\"Baik\",\"Sangat Baik\",\"Sangat Baik\",\"Baik\",\"Kurang\",\"Sangat Baik\",\"Kurang\",\"Baik\",\"Baik\",\"Sangat Baik\",\"Baik\",\"Sangat Baik\",\"Sangat Baik\",\"Sangat Baik\",\"Cukup\",\"Sangat Baik\",\"Cukup\",\"Baik\",\"Cukup\",\"Sangat Baik\",\"Baik\",\"Cukup\",\"Kurang\",\"Baik\",\"Kurang\",\"Baik\",\"Sangat Baik\",\"Baik\",\"Cukup\",\"Baik\",\"Kurang\",\"Kurang\",\"Cukup\",\"Sangat Baik\",\"Sangat Baik\",\"Baik\",\"Sangat Baik\",\"Sangat Baik\",\"Sangat Baik\",\"Sangat Baik\",\"Sangat Baik\",\"Kurang\",\"Cukup\",\"Baik\",\"Kurang\",\"Baik\",\"Cukup\",\"Kurang\",\"Baik\",\"Kurang\",\"Kurang\",\"Kurang\",\"Baik\",\"Kurang\",\"Kurang\",\"Sangat Baik\",\"Sangat Baik\",\"Cukup\",\"Cukup\",\"Baik\",\"Kurang\",\"Kurang\",\"Sangat Baik\",\"Kurang\",\"Sangat Baik\",\"Sangat Baik\",\"Sangat Baik\",\"Sangat Baik\",\"Kurang\",\"Kurang\",\"Sangat Baik\",\"Kurang\",\"Sangat Baik\",\"Kurang\",\"Baik\",\"Cukup\",\"Cukup\",\"Sangat Baik\",\"Sangat Baik\",\"Sangat Baik\",\"Cukup\",\"Cukup\",\"Baik\",\"Baik\",\"Sangat Baik\",\"Sangat Baik\",\"Sangat Baik\",\"Cukup\",\"Kurang\",\"Sangat Baik\",\"Kurang\",\"Kurang\",\"Cukup\",\"Kurang\",\"Baik\",\"Kurang\",\"Cukup\",\"Cukup\",\"Kurang\",\"Kurang\",\"Sangat Baik\",\"Sangat Baik\",\"Cukup\",\"Kurang\",\"Kurang\",\"Cukup\",\"Baik\",\"Sangat Baik\",\"Baik\",\"Sangat Baik\",\"Sangat Baik\",\"Kurang\",\"Sangat Baik\",\"Sangat Baik\",\"Kurang\",\"Sangat Baik\",\"Cukup\",\"Sangat Baik\",\"Sangat Baik\",\"Kurang\",\"Kurang\",\"Kurang\",\"Sangat Baik\",\"Sangat Baik\",\"Cukup\",\"Sangat Baik\",\"Sangat Baik\",\"Sangat Baik\",\"Sangat Baik\",\"Kurang\",\"Kurang\",\"Kurang\",\"Sangat Baik\",\"Cukup\",\"Baik\",\"Kurang\",\"Kurang\",\"Kurang\",\"Sangat Baik\",\"Cukup\",\"Sangat Baik\",\"Sangat Baik\",\"Sangat Baik\",\"Kurang\",\"Baik\",\"Cukup\",\"Cukup\",\"Cukup\",\"Baik\",\"Baik\",\"Sangat Baik\",\"Cukup\",\"Sangat Baik\",\"Sangat Baik\",\"Kurang\",\"Cukup\",\"Baik\",\"Sangat Baik\",\"Sangat Baik\",\"Sangat Baik\",\"Sangat Baik\",\"Sangat Baik\",\"Sangat Baik\",\"Cukup\",\"Cukup\",\"Kurang\",\"Baik\",\"Kurang\",\"Cukup\",\"Kurang\",\"Baik\",\"Kurang\",\"Kurang\",\"Sangat Baik\",\"Kurang\",\"Cukup\",\"Kurang\",\"Kurang\",\"Cukup\",\"Sangat Baik\",\"Sangat Baik\",\"Baik\",\"Kurang\",\"Cukup\",\"Sangat Baik\",\"Cukup\",\"Baik\",\"Kurang\",\"Kurang\",\"Kurang\",\"Sangat Baik\",\"Sangat Baik\",\"Kurang\",\"Sangat Baik\",\"Sangat Baik\",\"Sangat Baik\",\"Sangat Baik\",\"Cukup\",\"Cukup\",\"Sangat Baik\",\"Cukup\",\"Cukup\",\"Kurang\",\"Kurang\",\"Kurang\",\"Cukup\",\"Cukup\",\"Cukup\",\"Cukup\",\"Cukup\",\"Cukup\",\"Cukup\",\"Cukup\",\"Kurang\",\"Kurang\",\"Kurang\",\"Cukup\",\"Sangat Baik\",\"Baik\",\"Kurang\",\"Kurang\",\"Cukup\",\"Cukup\",\"Cukup\",\"Cukup\",\"Kurang\",\"Kurang\",\"Sangat Baik\",\"Sangat Baik\",\"Cukup\",\"Sangat Baik\",\"Sangat Baik\",\"Cukup\",\"Cukup\",\"Sangat Baik\",\"Baik\",\"Cukup\",\"Sangat Baik\",\"Kurang\",\"Cukup\",\"Kurang\",\"Baik\",\"Cukup\",\"Cukup\",\"Baik\",\"Baik\",\"Kurang\",\"Sangat Baik\",\"Kurang\",\"Sangat Baik\",\"Kurang\",\"Cukup\",\"Cukup\",\"Kurang\",\"Kurang\",\"Kurang\",\"Baik\",\"Sangat Baik\",\"Cukup\",\"Sangat Baik\",\"Sangat Baik\",\"Cukup\",\"Cukup\",\"Sangat Baik\",\"Kurang\",\"Kurang\",\"Kurang\",\"Cukup\",\"Baik\",\"Cukup\",\"Cukup\",\"Cukup\",\"Sangat Baik\",\"Cukup\",\"Kurang\",\"Cukup\",\"Baik\",\"Baik\",\"Baik\",\"Cukup\",\"Sangat Baik\",\"Baik\",\"Baik\",\"Kurang\",\"Cukup\",\"Baik\",\"Cukup\",\"Baik\",\"Cukup\",\"Cukup\",\"Cukup\",\"Cukup\",\"Kurang\",\"Kurang\",\"Cukup\",\"Cukup\",\"Sangat Baik\",\"Cukup\",\"Cukup\",\"Kurang\",\"Kurang\",\"Kurang\",\"Cukup\",\"Cukup\",\"Kurang\",\"Kurang\",\"Sangat Baik\",\"Cukup\",\"Kurang\",\"Sangat Baik\",\"Baik\",\"Sangat Baik\",\"Cukup\",\"Kurang\",\"Kurang\",\"Sangat Baik\",\"Cukup\",\"Cukup\",\"Kurang\",\"Kurang\",\"Sangat Baik\",\"Cukup\",\"Sangat Baik\",\"Kurang\",\"Kurang\",\"Sangat Baik\",\"Kurang\",\"Sangat Baik\",\"Cukup\",\"Sangat Baik\",\"Cukup\",\"Cukup\",\"Sangat Baik\",\"Cukup\",\"Cukup\",\"Cukup\",\"Kurang\",\"Baik\",\"Baik\",\"Cukup\",\"Sangat Baik\",\"Cukup\",\"Baik\",\"Kurang\",\"Kurang\",\"Sangat Baik\",\"Kurang\",\"Kurang\",\"Kurang\",\"Kurang\",\"Baik\",\"Sangat Baik\",\"Kurang\",\"Cukup\",\"Sangat Baik\",\"Baik\",\"Sangat Baik\",\"Kurang\",\"Sangat Baik\",\"Sangat Baik\",\"Sangat Baik\",\"Cukup\",\"Sangat Baik\",\"Sangat Baik\",\"Cukup\",\"Kurang\",\"Cukup\",\"Cukup\",\"Sangat Baik\",\"Sangat Baik\",\"Sangat Baik\",\"Sangat Baik\",\"Sangat Baik\",\"Cukup\",\"Sangat Baik\",\"Baik\",\"Kurang\",\"Baik\",\"Sangat Baik\",\"Kurang\",\"Kurang\",\"Kurang\",\"Baik\",\"Kurang\",\"Sangat Baik\",\"Sangat Baik\",\"Cukup\",\"Cukup\",\"Baik\",\"Cukup\",\"Sangat Baik\",\"Cukup\",\"Sangat Baik\",\"Baik\",\"Cukup\",\"Cukup\",\"Sangat Baik\",\"Kurang\",\"Cukup\",\"Cukup\",\"Sangat Baik\",\"Cukup\",\"Kurang\",\"Cukup\",\"Cukup\",\"Sangat Baik\",\"Kurang\",\"Baik\",\"Kurang\",\"Sangat Baik\",\"Cukup\",\"Sangat Baik\",\"Sangat Baik\",\"Sangat Baik\",\"Baik\",\"Sangat Baik\",\"Sangat Baik\",\"Kurang\",\"Kurang\",\"Sangat Baik\",\"Sangat Baik\",\"Baik\",\"Sangat Baik\",\"Sangat Baik\",\"Sangat Baik\",\"Sangat Baik\",\"Sangat Baik\",\"Sangat Baik\",\"Sangat Baik\",\"Kurang\",\"Kurang\",\"Sangat Baik\",\"Sangat Baik\",\"Sangat Baik\",\"Sangat Baik\",\"Sangat Baik\",\"Baik\",\"Sangat Baik\",\"Sangat Baik\",\"Sangat Baik\",\"Cukup\",\"Cukup\",\"Cukup\",\"Cukup\",\"Cukup\",\"Cukup\",\"Cukup\",\"Cukup\",\"Kurang\",\"Cukup\",\"Sangat Baik\",\"Kurang\",\"Baik\",\"Kurang\",\"Baik\",\"Kurang\",\"Kurang\",\"Sangat Baik\",\"Cukup\",\"Cukup\",\"Sangat Baik\",\"Cukup\",\"Sangat Baik\",\"Cukup\",\"Kurang\",\"Sangat Baik\",\"Sangat Baik\",\"Baik\",\"Cukup\",\"Cukup\",\"Cukup\",\"Sangat Baik\",\"Sangat Baik\",\"Baik\",\"Sangat Baik\",\"Sangat Baik\",\"Sangat Baik\",\"Sangat Baik\",\"Kurang\",\"Sangat Baik\",\"Sangat Baik\",\"Kurang\",\"Sangat Baik\",\"Kurang\",\"Cukup\",\"Cukup\",\"Sangat Baik\",\"Sangat Baik\",\"Sangat Baik\",\"Baik\",\"Baik\",\"Baik\",\"Sangat Baik\",\"Kurang\",\"Sangat Baik\",\"Cukup\",\"Kurang\",\"Kurang\",\"Kurang\",\"Baik\",\"Baik\",\"Cukup\",\"Cukup\",\"Baik\",\"Baik\",\"Kurang\",\"Baik\",\"Baik\",\"Sangat Baik\",\"Cukup\",\"Cukup\",\"Baik\",\"Cukup\",\"Kurang\",\"Cukup\",\"Kurang\",\"Kurang\",\"Kurang\",\"Kurang\",\"Kurang\",\"Kurang\",\"Kurang\",\"Kurang\",\"Kurang\",\"Kurang\",\"Kurang\",\"Kurang\",\"Baik\",\"Kurang\",\"Kurang\",\"Kurang\",\"Sangat Baik\",\"Sangat Baik\",\"Kurang\",\"Baik\",\"Sangat Baik\",\"Sangat Baik\",\"Sangat Baik\",\"Cukup\",\"Sangat Baik\",\"Cukup\",\"Baik\",\"Baik\",\"Sangat Baik\",\"Cukup\",\"Sangat Baik\",\"Cukup\",\"Sangat Baik\",\"Sangat Baik\",\"Sangat Baik\",\"Kurang\",\"Kurang\",\"Baik\",\"Baik\",\"Cukup\",\"Kurang\",\"Cukup\",\"Cukup\",\"Baik\",\"Cukup\",\"Baik\",\"Cukup\",\"Sangat Baik\",\"Sangat Baik\",\"Cukup\",\"Cukup\",\"Kurang\",\"Cukup\",\"Sangat Baik\",\"Sangat Baik\",\"Sangat Baik\",\"Sangat Baik\",\"Sangat Baik\",\"Baik\",\"Sangat Baik\",\"Sangat Baik\",\"Baik\",\"Kurang\",\"Baik\",\"Cukup\",\"Cukup\",\"Cukup\",\"Cukup\",\"Sangat Baik\",\"Baik\",\"Sangat Baik\",\"Kurang\",\"Baik\",\"Sangat Baik\",\"Baik\",\"Sangat Baik\",\"Sangat Baik\",\"Sangat Baik\",\"Baik\",\"Kurang\",\"Sangat Baik\",\"Cukup\",\"Cukup\",\"Kurang\",\"Cukup\",\"Cukup\",\"Cukup\",\"Cukup\",\"Baik\",\"Kurang\",\"Kurang\",\"Cukup\",\"Cukup\",\"Baik\",\"Baik\",\"Cukup\",\"Baik\",\"Sangat Baik\",\"Sangat Baik\",\"Sangat Baik\",\"Sangat Baik\",\"Baik\",\"Sangat Baik\",\"Baik\",\"Sangat Baik\",\"Cukup\",\"Cukup\",\"Kurang\",\"Cukup\",\"Kurang\",\"Sangat Baik\",\"Sangat Baik\",\"Sangat Baik\",\"Sangat Baik\",\"Kurang\",\"Kurang\",\"Kurang\",\"Kurang\",\"Kurang\",\"Baik\",\"Kurang\",\"Sangat Baik\",\"Cukup\",\"Cukup\",\"Cukup\",\"Cukup\",\"Cukup\",\"Kurang\",\"Baik\",\"Baik\",\"Baik\",\"Sangat Baik\",\"Kurang\",\"Kurang\",\"Sangat Baik\",\"Baik\",\"Sangat Baik\",\"Sangat Baik\",\"Cukup\",\"Sangat Baik\",\"Sangat Baik\",\"Kurang\",\"Sangat Baik\",\"Kurang\",\"Sangat Baik\",\"Kurang\",\"Baik\",\"Sangat Baik\",\"Baik\",\"Baik\",\"Kurang\",\"Baik\",\"Cukup\",\"Cukup\",\"Kurang\",\"Kurang\",\"Kurang\",\"Kurang\",\"Kurang\",\"Kurang\",\"Kurang\",\"Kurang\",\"Sangat Baik\",\"Cukup\",\"Cukup\",\"Baik\",\"Cukup\",\"Sangat Baik\",\"Kurang\",\"Kurang\",\"Kurang\",\"Sangat Baik\",\"Baik\",\"Kurang\",\"Kurang\",\"Kurang\",\"Kurang\",\"Kurang\",\"Cukup\",\"Cukup\",\"Kurang\",\"Cukup\",\"Cukup\",\"Kurang\",\"Sangat Baik\",\"Kurang\",\"Kurang\",\"Kurang\",\"Kurang\",\"Kurang\",\"Sangat Baik\",\"Kurang\",\"Kurang\",\"Sangat Baik\",\"Kurang\",\"Kurang\",\"Kurang\",\"Kurang\",\"Kurang\",\"Cukup\",\"Kurang\",\"Kurang\",\"Kurang\",\"Sangat Baik\",\"Kurang\",\"Kurang\",\"Kurang\",\"Kurang\",\"Kurang\",\"Kurang\",\"Baik\",\"Baik\",\"Baik\",\"Kurang\",\"Cukup\",\"Cukup\",\"Sangat Baik\",\"Sangat Baik\",\"Baik\",\"Sangat Baik\",\"Sangat Baik\",\"Sangat Baik\",\"Sangat Baik\",\"Sangat Baik\",\"Sangat Baik\",\"Kurang\",\"Baik\",\"Sangat Baik\",\"Baik\",\"Sangat Baik\",\"Sangat Baik\",\"Kurang\",\"Kurang\",\"Cukup\",\"Kurang\",\"Kurang\",\"Sangat Baik\",\"Cukup\",\"Kurang\",\"Kurang\",\"Cukup\",\"Cukup\",\"Cukup\",\"Cukup\",\"Sangat Baik\",\"Cukup\",\"Cukup\",\"Sangat Baik\",\"Cukup\",\"Sangat Baik\",\"Kurang\",\"Cukup\",\"Kurang\",\"Baik\",\"Cukup\",\"Cukup\",\"Cukup\",\"Kurang\",\"Sangat Baik\",\"Cukup\",\"Kurang\",\"Kurang\",\"Baik\",\"Kurang\",\"Baik\",\"Kurang\",\"Sangat Baik\",\"Sangat Baik\",\"Sangat Baik\",\"Kurang\",\"Kurang\",\"Kurang\",\"Cukup\",\"Kurang\",\"Cukup\",\"Cukup\",\"Kurang\",\"Kurang\",\"Sangat Baik\",\"Baik\",\"Kurang\",\"Kurang\",\"Kurang\",\"Baik\",\"Kurang\",\"Cukup\",\"Kurang\",\"Cukup\",\"Sangat Baik\",\"Baik\",\"Cukup\",\"Sangat Baik\",\"Sangat Baik\",\"Sangat Baik\",\"Cukup\",\"Kurang\",\"Sangat Baik\",\"Kurang\",\"Kurang\",\"Kurang\",\"Baik\",\"Sangat Baik\",\"Sangat Baik\",\"Kurang\",\"Cukup\",\"Cukup\",\"Sangat Baik\",\"Cukup\",\"Cukup\",\"Cukup\",\"Cukup\",\"Kurang\",\"Sangat Baik\",\"Cukup\",\"Cukup\",\"Sangat Baik\",\"Sangat Baik\",\"Cukup\",\"Cukup\",\"Cukup\",\"Cukup\",\"Sangat Baik\",\"Kurang\",\"Cukup\",\"Sangat Baik\",\"Kurang\",\"Sangat Baik\",\"Baik\",\"Kurang\",\"Sangat Baik\",\"Cukup\",\"Baik\",\"Cukup\",\"Kurang\",\"Cukup\",\"Cukup\",\"Cukup\",\"Cukup\",\"Cukup\",\"Cukup\",\"Cukup\",\"Cukup\",\"Kurang\",\"Cukup\",\"Sangat Baik\",\"Baik\",\"Cukup\",\"Cukup\",\"Cukup\",\"Kurang\",\"Cukup\",\"Baik\",\"Cukup\",\"Cukup\",\"Cukup\",\"Cukup\",\"Sangat Baik\",\"Cukup\",\"Kurang\",\"Kurang\",\"Cukup\",\"Sangat Baik\",\"Kurang\",\"Kurang\",\"Sangat Baik\",\"Sangat Baik\",\"Sangat Baik\",\"Sangat Baik\",\"Baik\",\"Sangat Baik\",\"Baik\",\"Kurang\",\"Sangat Baik\",\"Sangat Baik\",\"Cukup\",\"Cukup\",\"Cukup\",\"Cukup\",\"Cukup\",\"Cukup\",\"Cukup\",\"Cukup\",\"Cukup\",\"Sangat Baik\",\"Sangat Baik\",\"Sangat Baik\",\"Sangat Baik\",\"Sangat Baik\",\"Sangat Baik\",\"Baik\",\"Baik\",\"Cukup\",\"Baik\",\"Cukup\",\"Cukup\",\"Cukup\",\"Kurang\",\"Baik\",\"Baik\",\"Cukup\",\"Cukup\",\"Kurang\",\"Baik\",\"Cukup\",\"Cukup\",\"Kurang\",\"Baik\",\"Cukup\",\"Cukup\",\"Kurang\",\"Baik\",\"Baik\",\"Kurang\",\"Baik\",\"Baik\",\"Baik\",\"Kurang\",\"Cukup\",\"Cukup\",\"Baik\",\"Cukup\",\"Sangat Baik\",\"Cukup\",\"Kurang\",\"Baik\",\"Kurang\",\"Kurang\",\"Baik\",\"Kurang\",\"Kurang\",\"Kurang\",\"Kurang\",\"Cukup\",\"Cukup\",\"Cukup\",\"Kurang\",\"Kurang\",\"Kurang\",\"Cukup\",\"Kurang\",\"Kurang\",\"Kurang\",\"Kurang\",\"Kurang\",\"Kurang\",\"Baik\",\"Kurang\",\"Kurang\",\"Sangat Baik\",\"Kurang\",\"Kurang\",\"Baik\",\"Baik\",\"Kurang\",\"Baik\",\"Kurang\",\"Baik\",\"Baik\",\"Sangat Baik\",\"Kurang\",\"Kurang\",\"Baik\",\"Cukup\",\"Kurang\",\"Sangat Baik\",\"Sangat Baik\",\"Sangat Baik\",\"Cukup\",\"Cukup\",\"Baik\",\"Cukup\",\"Sangat Baik\",\"Cukup\",\"Kurang\",\"Sangat Baik\",\"Baik\",\"Sangat Baik\",\"Sangat Baik\",\"Cukup\",\"Kurang\",\"Baik\",\"Sangat Baik\",\"Sangat Baik\",\"Sangat Baik\",\"Kurang\",\"Sangat Baik\",\"Sangat Baik\",\"Kurang\",\"Baik\",\"Sangat Baik\",\"Cukup\",\"Baik\",\"Sangat Baik\",\"Baik\",\"Baik\",\"Sangat Baik\",\"Sangat Baik\",\"Baik\",\"Kurang\",\"Cukup\",\"Baik\",\"Sangat Baik\",\"Sangat Baik\",\"Baik\",\"Kurang\",\"Sangat Baik\",\"Kurang\",\"Baik\",\"Baik\",\"Sangat Baik\",\"Baik\",\"Sangat Baik\",\"Sangat Baik\",\"Sangat Baik\",\"Cukup\",\"Sangat Baik\",\"Cukup\",\"Baik\",\"Cukup\",\"Sangat Baik\",\"Baik\",\"Cukup\",\"Kurang\",\"Baik\",\"Kurang\",\"Baik\",\"Sangat Baik\",\"Baik\",\"Cukup\",\"Baik\",\"Kurang\",\"Kurang\",\"Cukup\",\"Sangat Baik\",\"Sangat Baik\",\"Baik\",\"Sangat Baik\",\"Sangat Baik\",\"Sangat Baik\",\"Sangat Baik\",\"Sangat Baik\",\"Kurang\",\"Cukup\",\"Baik\",\"Kurang\",\"Baik\",\"Cukup\",\"Kurang\",\"Baik\",\"Kurang\",\"Kurang\",\"Kurang\",\"Baik\",\"Kurang\",\"Kurang\",\"Sangat Baik\",\"Sangat Baik\",\"Cukup\",\"Cukup\",\"Baik\",\"Kurang\",\"Kurang\",\"Sangat Baik\",\"Kurang\",\"Sangat Baik\",\"Sangat Baik\",\"Sangat Baik\",\"Sangat Baik\",\"Kurang\",\"Kurang\",\"Sangat Baik\",\"Kurang\",\"Sangat Baik\",\"Kurang\",\"Baik\",\"Cukup\",\"Cukup\",\"Sangat Baik\",\"Sangat Baik\",\"Sangat Baik\",\"Cukup\",\"Cukup\",\"Baik\",\"Baik\",\"Sangat Baik\",\"Sangat Baik\",\"Sangat Baik\",\"Cukup\",\"Kurang\",\"Sangat Baik\",\"Kurang\",\"Kurang\",\"Cukup\",\"Kurang\",\"Baik\",\"Kurang\",\"Cukup\",\"Cukup\",\"Kurang\",\"Kurang\",\"Sangat Baik\",\"Sangat Baik\",\"Cukup\",\"Kurang\",\"Kurang\",\"Cukup\",\"Baik\",\"Sangat Baik\",\"Baik\",\"Sangat Baik\",\"Sangat Baik\",\"Kurang\",\"Sangat Baik\",\"Sangat Baik\",\"Kurang\",\"Sangat Baik\",\"Cukup\",\"Sangat Baik\",\"Sangat Baik\",\"Kurang\",\"Kurang\",\"Kurang\",\"Sangat Baik\",\"Sangat Baik\",\"Cukup\",\"Sangat Baik\",\"Sangat Baik\",\"Sangat Baik\",\"Sangat Baik\",\"Kurang\",\"Kurang\",\"Kurang\",\"Sangat Baik\",\"Cukup\",\"Baik\",\"Kurang\",\"Kurang\",\"Kurang\",\"Sangat Baik\",\"Cukup\",\"Sangat Baik\",\"Sangat Baik\",\"Sangat Baik\",\"Kurang\",\"Baik\",\"Cukup\",\"Cukup\",\"Cukup\",\"Baik\",\"Baik\",\"Sangat Baik\",\"Cukup\",\"Sangat Baik\",\"Sangat Baik\",\"Kurang\",\"Cukup\",\"Baik\",\"Sangat Baik\",\"Sangat Baik\",\"Sangat Baik\",\"Sangat Baik\",\"Sangat Baik\",\"Sangat Baik\",\"Cukup\",\"Cukup\",\"Kurang\",\"Baik\",\"Kurang\",\"Cukup\",\"Kurang\",\"Baik\",\"Kurang\",\"Kurang\",\"Sangat Baik\",\"Kurang\",\"Cukup\",\"Kurang\",\"Kurang\",\"Cukup\",\"Sangat Baik\",\"Sangat Baik\",\"Baik\",\"Kurang\",\"Cukup\",\"Sangat Baik\",\"Cukup\",\"Baik\",\"Kurang\",\"Kurang\",\"Kurang\",\"Sangat Baik\",\"Sangat Baik\",\"Kurang\",\"Sangat Baik\",\"Sangat Baik\",\"Sangat Baik\",\"Sangat Baik\",\"Cukup\",\"Cukup\",\"Sangat Baik\",\"Cukup\",\"Cukup\",\"Kurang\",\"Kurang\",\"Kurang\",\"Cukup\",\"Cukup\",\"Cukup\",\"Cukup\",\"Cukup\",\"Cukup\",\"Cukup\",\"Cukup\",\"Kurang\",\"Kurang\",\"Kurang\",\"Cukup\",\"Sangat Baik\",\"Baik\",\"Kurang\",\"Kurang\",\"Cukup\",\"Cukup\",\"Cukup\",\"Cukup\",\"Kurang\",\"Kurang\",\"Sangat Baik\",\"Sangat Baik\",\"Cukup\",\"Sangat Baik\",\"Sangat Baik\",\"Cukup\",\"Cukup\",\"Sangat Baik\",\"Baik\",\"Cukup\",\"Sangat Baik\",\"Kurang\",\"Cukup\",\"Kurang\",\"Baik\",\"Cukup\",\"Cukup\",\"Baik\",\"Baik\",\"Kurang\",\"Sangat Baik\",\"Kurang\",\"Sangat Baik\",\"Kurang\",\"Cukup\",\"Cukup\",\"Kurang\",\"Kurang\",\"Kurang\",\"Baik\",\"Sangat Baik\",\"Cukup\",\"Sangat Baik\",\"Sangat Baik\",\"Cukup\",\"Cukup\",\"Sangat Baik\",\"Kurang\",\"Kurang\",\"Kurang\",\"Cukup\",\"Baik\",\"Cukup\",\"Cukup\",\"Cukup\",\"Sangat Baik\",\"Cukup\",\"Kurang\",\"Cukup\",\"Baik\",\"Baik\",\"Baik\",\"Cukup\",\"Sangat Baik\",\"Baik\",\"Baik\",\"Kurang\",\"Cukup\",\"Baik\",\"Cukup\",\"Baik\",\"Cukup\",\"Cukup\",\"Cukup\",\"Cukup\",\"Kurang\",\"Kurang\",\"Cukup\",\"Cukup\",\"Sangat Baik\",\"Cukup\",\"Cukup\",\"Kurang\",\"Kurang\",\"Kurang\",\"Cukup\",\"Cukup\",\"Kurang\",\"Kurang\",\"Sangat Baik\",\"Cukup\",\"Kurang\",\"Sangat Baik\",\"Baik\",\"Sangat Baik\",\"Cukup\",\"Kurang\",\"Kurang\",\"Sangat Baik\",\"Cukup\",\"Cukup\",\"Kurang\",\"Kurang\",\"Sangat Baik\",\"Cukup\",\"Sangat Baik\",\"Kurang\",\"Kurang\",\"Sangat Baik\",\"Kurang\",\"Sangat Baik\",\"Cukup\",\"Sangat Baik\",\"Cukup\",\"Cukup\",\"Sangat Baik\",\"Cukup\",\"Cukup\",\"Cukup\",\"Kurang\",\"Baik\",\"Baik\",\"Cukup\",\"Sangat Baik\",\"Cukup\",\"Baik\",\"Kurang\",\"Kurang\",\"Sangat Baik\",\"Kurang\",\"Kurang\",\"Kurang\",\"Kurang\",\"Baik\",\"Sangat Baik\",\"Kurang\",\"Cukup\",\"Sangat Baik\",\"Baik\",\"Sangat Baik\",\"Kurang\",\"Sangat Baik\",\"Sangat Baik\",\"Sangat Baik\",\"Cukup\",\"Sangat Baik\",\"Sangat Baik\",\"Cukup\",\"Kurang\",\"Cukup\",\"Cukup\",\"Sangat Baik\",\"Sangat Baik\",\"Sangat Baik\",\"Sangat Baik\",\"Sangat Baik\",\"Cukup\",\"Sangat Baik\",\"Baik\",\"Kurang\",\"Baik\",\"Sangat Baik\",\"Kurang\",\"Kurang\",\"Kurang\",\"Baik\",\"Kurang\",\"Sangat Baik\",\"Sangat Baik\",\"Cukup\",\"Cukup\",\"Baik\",\"Cukup\",\"Sangat Baik\",\"Cukup\",\"Sangat Baik\",\"Baik\",\"Cukup\",\"Cukup\",\"Sangat Baik\",\"Kurang\",\"Cukup\",\"Cukup\",\"Sangat Baik\",\"Cukup\",\"Kurang\",\"Cukup\",\"Cukup\",\"Sangat Baik\",\"Kurang\",\"Baik\",\"Kurang\",\"Sangat Baik\",\"Cukup\",\"Sangat Baik\",\"Sangat Baik\",\"Sangat Baik\",\"Baik\",\"Sangat Baik\",\"Sangat Baik\",\"Kurang\",\"Kurang\",\"Sangat Baik\",\"Sangat Baik\",\"Baik\",\"Sangat Baik\",\"Sangat Baik\",\"Sangat Baik\",\"Sangat Baik\",\"Sangat Baik\",\"Sangat Baik\",\"Sangat Baik\",\"Kurang\",\"Kurang\",\"Sangat Baik\",\"Sangat Baik\",\"Sangat Baik\",\"Sangat Baik\",\"Sangat Baik\",\"Baik\",\"Sangat Baik\",\"Sangat Baik\",\"Sangat Baik\",\"Cukup\",\"Cukup\",\"Cukup\",\"Cukup\",\"Cukup\",\"Cukup\",\"Cukup\",\"Cukup\",\"Kurang\",\"Cukup\",\"Sangat Baik\",\"Kurang\",\"Baik\",\"Kurang\",\"Baik\",\"Kurang\",\"Kurang\",\"Sangat Baik\",\"Cukup\",\"Cukup\",\"Sangat Baik\",\"Cukup\",\"Sangat Baik\",\"Cukup\",\"Kurang\",\"Sangat Baik\",\"Sangat Baik\",\"Baik\",\"Cukup\",\"Cukup\",\"Cukup\",\"Sangat Baik\",\"Sangat Baik\",\"Baik\",\"Sangat Baik\",\"Sangat Baik\",\"Sangat Baik\",\"Sangat Baik\",\"Kurang\",\"Sangat Baik\",\"Sangat Baik\",\"Kurang\",\"Sangat Baik\",\"Kurang\",\"Cukup\",\"Cukup\",\"Sangat Baik\",\"Sangat Baik\",\"Sangat Baik\",\"Baik\",\"Baik\",\"Baik\",\"Sangat Baik\",\"Kurang\",\"Sangat Baik\",\"Cukup\",\"Kurang\",\"Kurang\",\"Kurang\",\"Baik\",\"Baik\",\"Cukup\",\"Cukup\",\"Baik\",\"Baik\",\"Kurang\",\"Baik\",\"Baik\",\"Sangat Baik\",\"Cukup\",\"Cukup\",\"Baik\",\"Cukup\",\"Kurang\",\"Cukup\",\"Kurang\",\"Kurang\",\"Kurang\",\"Kurang\",\"Kurang\",\"Kurang\",\"Kurang\",\"Kurang\",\"Kurang\",\"Kurang\",\"Kurang\",\"Kurang\",\"Baik\",\"Kurang\",\"Kurang\",\"Kurang\",\"Sangat Baik\",\"Sangat Baik\",\"Kurang\",\"Baik\",\"Sangat Baik\",\"Sangat Baik\",\"Sangat Baik\",\"Cukup\",\"Sangat Baik\",\"Cukup\",\"Baik\",\"Baik\",\"Sangat Baik\",\"Cukup\",\"Sangat Baik\",\"Cukup\",\"Sangat Baik\",\"Sangat Baik\",\"Sangat Baik\",\"Kurang\",\"Kurang\",\"Baik\",\"Baik\",\"Cukup\",\"Kurang\",\"Cukup\",\"Cukup\",\"Baik\",\"Cukup\",\"Baik\",\"Cukup\",\"Sangat Baik\",\"Sangat Baik\",\"Cukup\",\"Cukup\",\"Kurang\",\"Cukup\",\"Sangat Baik\",\"Sangat Baik\",\"Sangat Baik\",\"Sangat Baik\",\"Sangat Baik\",\"Baik\",\"Sangat Baik\",\"Sangat Baik\",\"Baik\",\"Kurang\",\"Baik\",\"Cukup\",\"Cukup\",\"Cukup\",\"Cukup\",\"Sangat Baik\",\"Baik\",\"Sangat Baik\",\"Kurang\",\"Baik\",\"Sangat Baik\",\"Baik\",\"Sangat Baik\",\"Sangat Baik\",\"Sangat Baik\",\"Baik\",\"Kurang\",\"Sangat Baik\",\"Cukup\",\"Cukup\",\"Kurang\",\"Cukup\",\"Cukup\",\"Cukup\",\"Cukup\",\"Baik\",\"Kurang\",\"Kurang\",\"Cukup\",\"Cukup\",\"Baik\",\"Baik\",\"Cukup\",\"Baik\",\"Sangat Baik\",\"Sangat Baik\",\"Sangat Baik\",\"Sangat Baik\",\"Baik\",\"Sangat Baik\",\"Baik\",\"Sangat Baik\",\"Cukup\",\"Cukup\",\"Kurang\",\"Cukup\",\"Kurang\",\"Sangat Baik\",\"Sangat Baik\",\"Sangat Baik\",\"Sangat Baik\",\"Kurang\",\"Kurang\",\"Kurang\",\"Kurang\",\"Kurang\",\"Baik\",\"Kurang\",\"Sangat Baik\",\"Cukup\",\"Cukup\",\"Cukup\",\"Cukup\",\"Cukup\",\"Kurang\",\"Baik\",\"Baik\",\"Baik\",\"Sangat Baik\",\"Kurang\",\"Kurang\",\"Sangat Baik\",\"Baik\",\"Sangat Baik\",\"Sangat Baik\",\"Cukup\",\"Sangat Baik\",\"Sangat Baik\",\"Kurang\",\"Sangat Baik\",\"Kurang\",\"Sangat Baik\",\"Kurang\",\"Baik\",\"Sangat Baik\",\"Baik\",\"Baik\",\"Kurang\",\"Baik\",\"Cukup\",\"Cukup\",\"Kurang\",\"Kurang\",\"Kurang\",\"Kurang\",\"Kurang\",\"Kurang\",\"Kurang\",\"Kurang\",\"Sangat Baik\",\"Cukup\",\"Cukup\",\"Baik\",\"Cukup\",\"Sangat Baik\",\"Kurang\",\"Kurang\",\"Kurang\",\"Sangat Baik\",\"Baik\",\"Kurang\",\"Kurang\",\"Kurang\",\"Kurang\",\"Kurang\",\"Cukup\",\"Cukup\",\"Kurang\",\"Cukup\",\"Cukup\",\"Kurang\",\"Sangat Baik\",\"Kurang\",\"Kurang\",\"Kurang\",\"Kurang\",\"Kurang\",\"Sangat Baik\",\"Kurang\",\"Kurang\",\"Sangat Baik\",\"Kurang\",\"Kurang\",\"Kurang\",\"Kurang\",\"Kurang\",\"Cukup\",\"Kurang\",\"Kurang\",\"Kurang\",\"Sangat Baik\",\"Kurang\",\"Kurang\",\"Kurang\",\"Kurang\",\"Kurang\",\"Kurang\",\"Baik\",\"Baik\",\"Baik\",\"Kurang\",\"Cukup\",\"Cukup\",\"Sangat Baik\",\"Sangat Baik\",\"Baik\",\"Sangat Baik\",\"Sangat Baik\",\"Sangat Baik\",\"Sangat Baik\",\"Sangat Baik\",\"Sangat Baik\",\"Kurang\",\"Baik\",\"Sangat Baik\",\"Baik\",\"Sangat Baik\",\"Sangat Baik\",\"Kurang\",\"Kurang\",\"Cukup\",\"Kurang\",\"Kurang\",\"Sangat Baik\",\"Cukup\",\"Kurang\",\"Kurang\",\"Cukup\",\"Cukup\",\"Cukup\",\"Cukup\",\"Sangat Baik\",\"Cukup\",\"Cukup\",\"Sangat Baik\",\"Cukup\",\"Sangat Baik\",\"Kurang\",\"Cukup\",\"Kurang\",\"Baik\",\"Cukup\",\"Cukup\",\"Cukup\",\"Kurang\",\"Sangat Baik\",\"Cukup\",\"Kurang\",\"Kurang\",\"Baik\",\"Kurang\",\"Baik\",\"Kurang\",\"Sangat Baik\",\"Sangat Baik\",\"Sangat Baik\",\"Kurang\",\"Kurang\",\"Kurang\",\"Cukup\",\"Kurang\",\"Cukup\",\"Cukup\",\"Kurang\",\"Kurang\",\"Sangat Baik\",\"Baik\",\"Kurang\",\"Kurang\",\"Kurang\",\"Baik\",\"Kurang\",\"Cukup\",\"Kurang\",\"Cukup\",\"Sangat Baik\",\"Baik\",\"Cukup\",\"Sangat Baik\",\"Sangat Baik\",\"Sangat Baik\",\"Cukup\",\"Kurang\",\"Sangat Baik\",\"Kurang\",\"Kurang\",\"Kurang\",\"Baik\",\"Sangat Baik\",\"Sangat Baik\",\"Kurang\",\"Cukup\",\"Cukup\",\"Sangat Baik\",\"Cukup\",\"Cukup\",\"Cukup\",\"Cukup\",\"Kurang\",\"Sangat Baik\",\"Cukup\",\"Cukup\",\"Sangat Baik\",\"Sangat Baik\",\"Cukup\",\"Cukup\",\"Cukup\",\"Cukup\",\"Sangat Baik\",\"Kurang\",\"Cukup\",\"Sangat Baik\",\"Kurang\",\"Sangat Baik\",\"Baik\",\"Kurang\",\"Sangat Baik\",\"Cukup\",\"Baik\",\"Cukup\",\"Kurang\",\"Cukup\",\"Cukup\",\"Cukup\",\"Cukup\",\"Cukup\",\"Cukup\",\"Cukup\",\"Cukup\",\"Kurang\",\"Cukup\",\"Sangat Baik\",\"Baik\",\"Cukup\",\"Cukup\",\"Cukup\",\"Kurang\",\"Cukup\",\"Baik\",\"Cukup\",\"Cukup\",\"Cukup\",\"Cukup\",\"Sangat Baik\",\"Cukup\",\"Kurang\",\"Kurang\",\"Cukup\",\"Sangat Baik\",\"Kurang\",\"Kurang\",\"Sangat Baik\",\"Sangat Baik\",\"Sangat Baik\",\"Sangat Baik\",\"Baik\",\"Sangat Baik\",\"Baik\",\"Kurang\",\"Sangat Baik\",\"Sangat Baik\",\"Cukup\",\"Cukup\",\"Cukup\",\"Cukup\",\"Cukup\",\"Cukup\",\"Cukup\",\"Cukup\",\"Cukup\",\"Sangat Baik\",\"Sangat Baik\",\"Sangat Baik\",\"Sangat Baik\",\"Sangat Baik\",\"Sangat Baik\",\"Baik\",\"Baik\",\"Cukup\",\"Baik\",\"Cukup\",\"Cukup\",\"Cukup\",\"Kurang\",\"Baik\",\"Baik\",\"Cukup\",\"Cukup\",\"Kurang\",\"Baik\",\"Cukup\",\"Cukup\",\"Cukup\",\"Cukup\",\"Cukup\",\"Cukup\",\"Cukup\",\"Cukup\",\"Cukup\",\"Cukup\",\"Cukup\",\"Cukup\"],\"legendgroup\":\"\",\"name\":\"\",\"showlegend\":true,\"type\":\"pie\"}],                        {\"template\":{\"data\":{\"bar\":[{\"error_x\":{\"color\":\"#2a3f5f\"},\"error_y\":{\"color\":\"#2a3f5f\"},\"marker\":{\"line\":{\"color\":\"#E5ECF6\",\"width\":0.5},\"pattern\":{\"fillmode\":\"overlay\",\"size\":10,\"solidity\":0.2}},\"type\":\"bar\"}],\"barpolar\":[{\"marker\":{\"line\":{\"color\":\"#E5ECF6\",\"width\":0.5},\"pattern\":{\"fillmode\":\"overlay\",\"size\":10,\"solidity\":0.2}},\"type\":\"barpolar\"}],\"carpet\":[{\"aaxis\":{\"endlinecolor\":\"#2a3f5f\",\"gridcolor\":\"white\",\"linecolor\":\"white\",\"minorgridcolor\":\"white\",\"startlinecolor\":\"#2a3f5f\"},\"baxis\":{\"endlinecolor\":\"#2a3f5f\",\"gridcolor\":\"white\",\"linecolor\":\"white\",\"minorgridcolor\":\"white\",\"startlinecolor\":\"#2a3f5f\"},\"type\":\"carpet\"}],\"choropleth\":[{\"colorbar\":{\"outlinewidth\":0,\"ticks\":\"\"},\"type\":\"choropleth\"}],\"contour\":[{\"colorbar\":{\"outlinewidth\":0,\"ticks\":\"\"},\"colorscale\":[[0.0,\"#0d0887\"],[0.1111111111111111,\"#46039f\"],[0.2222222222222222,\"#7201a8\"],[0.3333333333333333,\"#9c179e\"],[0.4444444444444444,\"#bd3786\"],[0.5555555555555556,\"#d8576b\"],[0.6666666666666666,\"#ed7953\"],[0.7777777777777778,\"#fb9f3a\"],[0.8888888888888888,\"#fdca26\"],[1.0,\"#f0f921\"]],\"type\":\"contour\"}],\"contourcarpet\":[{\"colorbar\":{\"outlinewidth\":0,\"ticks\":\"\"},\"type\":\"contourcarpet\"}],\"heatmap\":[{\"colorbar\":{\"outlinewidth\":0,\"ticks\":\"\"},\"colorscale\":[[0.0,\"#0d0887\"],[0.1111111111111111,\"#46039f\"],[0.2222222222222222,\"#7201a8\"],[0.3333333333333333,\"#9c179e\"],[0.4444444444444444,\"#bd3786\"],[0.5555555555555556,\"#d8576b\"],[0.6666666666666666,\"#ed7953\"],[0.7777777777777778,\"#fb9f3a\"],[0.8888888888888888,\"#fdca26\"],[1.0,\"#f0f921\"]],\"type\":\"heatmap\"}],\"heatmapgl\":[{\"colorbar\":{\"outlinewidth\":0,\"ticks\":\"\"},\"colorscale\":[[0.0,\"#0d0887\"],[0.1111111111111111,\"#46039f\"],[0.2222222222222222,\"#7201a8\"],[0.3333333333333333,\"#9c179e\"],[0.4444444444444444,\"#bd3786\"],[0.5555555555555556,\"#d8576b\"],[0.6666666666666666,\"#ed7953\"],[0.7777777777777778,\"#fb9f3a\"],[0.8888888888888888,\"#fdca26\"],[1.0,\"#f0f921\"]],\"type\":\"heatmapgl\"}],\"histogram\":[{\"marker\":{\"pattern\":{\"fillmode\":\"overlay\",\"size\":10,\"solidity\":0.2}},\"type\":\"histogram\"}],\"histogram2d\":[{\"colorbar\":{\"outlinewidth\":0,\"ticks\":\"\"},\"colorscale\":[[0.0,\"#0d0887\"],[0.1111111111111111,\"#46039f\"],[0.2222222222222222,\"#7201a8\"],[0.3333333333333333,\"#9c179e\"],[0.4444444444444444,\"#bd3786\"],[0.5555555555555556,\"#d8576b\"],[0.6666666666666666,\"#ed7953\"],[0.7777777777777778,\"#fb9f3a\"],[0.8888888888888888,\"#fdca26\"],[1.0,\"#f0f921\"]],\"type\":\"histogram2d\"}],\"histogram2dcontour\":[{\"colorbar\":{\"outlinewidth\":0,\"ticks\":\"\"},\"colorscale\":[[0.0,\"#0d0887\"],[0.1111111111111111,\"#46039f\"],[0.2222222222222222,\"#7201a8\"],[0.3333333333333333,\"#9c179e\"],[0.4444444444444444,\"#bd3786\"],[0.5555555555555556,\"#d8576b\"],[0.6666666666666666,\"#ed7953\"],[0.7777777777777778,\"#fb9f3a\"],[0.8888888888888888,\"#fdca26\"],[1.0,\"#f0f921\"]],\"type\":\"histogram2dcontour\"}],\"mesh3d\":[{\"colorbar\":{\"outlinewidth\":0,\"ticks\":\"\"},\"type\":\"mesh3d\"}],\"parcoords\":[{\"line\":{\"colorbar\":{\"outlinewidth\":0,\"ticks\":\"\"}},\"type\":\"parcoords\"}],\"pie\":[{\"automargin\":true,\"type\":\"pie\"}],\"scatter\":[{\"marker\":{\"colorbar\":{\"outlinewidth\":0,\"ticks\":\"\"}},\"type\":\"scatter\"}],\"scatter3d\":[{\"line\":{\"colorbar\":{\"outlinewidth\":0,\"ticks\":\"\"}},\"marker\":{\"colorbar\":{\"outlinewidth\":0,\"ticks\":\"\"}},\"type\":\"scatter3d\"}],\"scattercarpet\":[{\"marker\":{\"colorbar\":{\"outlinewidth\":0,\"ticks\":\"\"}},\"type\":\"scattercarpet\"}],\"scattergeo\":[{\"marker\":{\"colorbar\":{\"outlinewidth\":0,\"ticks\":\"\"}},\"type\":\"scattergeo\"}],\"scattergl\":[{\"marker\":{\"colorbar\":{\"outlinewidth\":0,\"ticks\":\"\"}},\"type\":\"scattergl\"}],\"scattermapbox\":[{\"marker\":{\"colorbar\":{\"outlinewidth\":0,\"ticks\":\"\"}},\"type\":\"scattermapbox\"}],\"scatterpolar\":[{\"marker\":{\"colorbar\":{\"outlinewidth\":0,\"ticks\":\"\"}},\"type\":\"scatterpolar\"}],\"scatterpolargl\":[{\"marker\":{\"colorbar\":{\"outlinewidth\":0,\"ticks\":\"\"}},\"type\":\"scatterpolargl\"}],\"scatterternary\":[{\"marker\":{\"colorbar\":{\"outlinewidth\":0,\"ticks\":\"\"}},\"type\":\"scatterternary\"}],\"surface\":[{\"colorbar\":{\"outlinewidth\":0,\"ticks\":\"\"},\"colorscale\":[[0.0,\"#0d0887\"],[0.1111111111111111,\"#46039f\"],[0.2222222222222222,\"#7201a8\"],[0.3333333333333333,\"#9c179e\"],[0.4444444444444444,\"#bd3786\"],[0.5555555555555556,\"#d8576b\"],[0.6666666666666666,\"#ed7953\"],[0.7777777777777778,\"#fb9f3a\"],[0.8888888888888888,\"#fdca26\"],[1.0,\"#f0f921\"]],\"type\":\"surface\"}],\"table\":[{\"cells\":{\"fill\":{\"color\":\"#EBF0F8\"},\"line\":{\"color\":\"white\"}},\"header\":{\"fill\":{\"color\":\"#C8D4E3\"},\"line\":{\"color\":\"white\"}},\"type\":\"table\"}]},\"layout\":{\"annotationdefaults\":{\"arrowcolor\":\"#2a3f5f\",\"arrowhead\":0,\"arrowwidth\":1},\"autotypenumbers\":\"strict\",\"coloraxis\":{\"colorbar\":{\"outlinewidth\":0,\"ticks\":\"\"}},\"colorscale\":{\"diverging\":[[0,\"#8e0152\"],[0.1,\"#c51b7d\"],[0.2,\"#de77ae\"],[0.3,\"#f1b6da\"],[0.4,\"#fde0ef\"],[0.5,\"#f7f7f7\"],[0.6,\"#e6f5d0\"],[0.7,\"#b8e186\"],[0.8,\"#7fbc41\"],[0.9,\"#4d9221\"],[1,\"#276419\"]],\"sequential\":[[0.0,\"#0d0887\"],[0.1111111111111111,\"#46039f\"],[0.2222222222222222,\"#7201a8\"],[0.3333333333333333,\"#9c179e\"],[0.4444444444444444,\"#bd3786\"],[0.5555555555555556,\"#d8576b\"],[0.6666666666666666,\"#ed7953\"],[0.7777777777777778,\"#fb9f3a\"],[0.8888888888888888,\"#fdca26\"],[1.0,\"#f0f921\"]],\"sequentialminus\":[[0.0,\"#0d0887\"],[0.1111111111111111,\"#46039f\"],[0.2222222222222222,\"#7201a8\"],[0.3333333333333333,\"#9c179e\"],[0.4444444444444444,\"#bd3786\"],[0.5555555555555556,\"#d8576b\"],[0.6666666666666666,\"#ed7953\"],[0.7777777777777778,\"#fb9f3a\"],[0.8888888888888888,\"#fdca26\"],[1.0,\"#f0f921\"]]},\"colorway\":[\"#636efa\",\"#EF553B\",\"#00cc96\",\"#ab63fa\",\"#FFA15A\",\"#19d3f3\",\"#FF6692\",\"#B6E880\",\"#FF97FF\",\"#FECB52\"],\"font\":{\"color\":\"#2a3f5f\"},\"geo\":{\"bgcolor\":\"white\",\"lakecolor\":\"white\",\"landcolor\":\"#E5ECF6\",\"showlakes\":true,\"showland\":true,\"subunitcolor\":\"white\"},\"hoverlabel\":{\"align\":\"left\"},\"hovermode\":\"closest\",\"mapbox\":{\"style\":\"light\"},\"paper_bgcolor\":\"white\",\"plot_bgcolor\":\"#E5ECF6\",\"polar\":{\"angularaxis\":{\"gridcolor\":\"white\",\"linecolor\":\"white\",\"ticks\":\"\"},\"bgcolor\":\"#E5ECF6\",\"radialaxis\":{\"gridcolor\":\"white\",\"linecolor\":\"white\",\"ticks\":\"\"}},\"scene\":{\"xaxis\":{\"backgroundcolor\":\"#E5ECF6\",\"gridcolor\":\"white\",\"gridwidth\":2,\"linecolor\":\"white\",\"showbackground\":true,\"ticks\":\"\",\"zerolinecolor\":\"white\"},\"yaxis\":{\"backgroundcolor\":\"#E5ECF6\",\"gridcolor\":\"white\",\"gridwidth\":2,\"linecolor\":\"white\",\"showbackground\":true,\"ticks\":\"\",\"zerolinecolor\":\"white\"},\"zaxis\":{\"backgroundcolor\":\"#E5ECF6\",\"gridcolor\":\"white\",\"gridwidth\":2,\"linecolor\":\"white\",\"showbackground\":true,\"ticks\":\"\",\"zerolinecolor\":\"white\"}},\"shapedefaults\":{\"line\":{\"color\":\"#2a3f5f\"}},\"ternary\":{\"aaxis\":{\"gridcolor\":\"white\",\"linecolor\":\"white\",\"ticks\":\"\"},\"baxis\":{\"gridcolor\":\"white\",\"linecolor\":\"white\",\"ticks\":\"\"},\"bgcolor\":\"#E5ECF6\",\"caxis\":{\"gridcolor\":\"white\",\"linecolor\":\"white\",\"ticks\":\"\"}},\"title\":{\"x\":0.05},\"xaxis\":{\"automargin\":true,\"gridcolor\":\"white\",\"linecolor\":\"white\",\"ticks\":\"\",\"title\":{\"standoff\":15},\"zerolinecolor\":\"white\",\"zerolinewidth\":2},\"yaxis\":{\"automargin\":true,\"gridcolor\":\"white\",\"linecolor\":\"white\",\"ticks\":\"\",\"title\":{\"standoff\":15},\"zerolinecolor\":\"white\",\"zerolinewidth\":2}}},\"legend\":{\"tracegroupgap\":0},\"title\":{\"text\":\"Pie chart\"}},                        {\"responsive\": true}                    ).then(function(){\n",
              "                            \n",
              "var gd = document.getElementById('4ac28445-a95d-4283-9d89-0f7c51eac144');\n",
              "var x = new MutationObserver(function (mutations, observer) {{\n",
              "        var display = window.getComputedStyle(gd).display;\n",
              "        if (!display || display === 'none') {{\n",
              "            console.log([gd, 'removed!']);\n",
              "            Plotly.purge(gd);\n",
              "            observer.disconnect();\n",
              "        }}\n",
              "}});\n",
              "\n",
              "// Listen for the removal of the full notebook cells\n",
              "var notebookContainer = gd.closest('#notebook-container');\n",
              "if (notebookContainer) {{\n",
              "    x.observe(notebookContainer, {childList: true});\n",
              "}}\n",
              "\n",
              "// Listen for the clearing of the current output cell\n",
              "var outputEl = gd.closest('.output');\n",
              "if (outputEl) {{\n",
              "    x.observe(outputEl, {childList: true});\n",
              "}}\n",
              "\n",
              "                        })                };                            </script>        </div>\n",
              "</body>\n",
              "</html>"
            ]
          },
          "metadata": {}
        }
      ],
      "source": [
        "import plotly.express as px\n",
        "fig = px.pie(df, names='category', title ='Pie chart')\n",
        "fig.show()"
      ]
    },
    {
      "cell_type": "markdown",
      "metadata": {
        "id": "Gw17xDvBYoj9"
      },
      "source": [
        "## Data Preprocessing"
      ]
    },
    {
      "cell_type": "code",
      "source": [
        "dwlr = nltk.downloader.Downloader()\n",
        "\n",
        "for pkg in dwlr.corpora():\n",
        "    dwlr._status_cache[pkg.id] = 'installed'\n",
        "\n",
        "dwlr.download('popular')"
      ],
      "metadata": {
        "colab": {
          "base_uri": "https://localhost:8080/"
        },
        "id": "9XMqlCKfoz9A",
        "outputId": "9176acf1-b657-4c88-c7f4-908bd38f337b"
      },
      "execution_count": null,
      "outputs": [
        {
          "output_type": "stream",
          "name": "stderr",
          "text": [
            "[nltk_data] Downloading collection 'popular'\n",
            "[nltk_data]    | \n",
            "[nltk_data]    | Downloading package cmudict to /root/nltk_data...\n",
            "[nltk_data]    |   Package cmudict is already up-to-date!\n",
            "[nltk_data]    | Downloading package gazetteers to /root/nltk_data...\n",
            "[nltk_data]    |   Package gazetteers is already up-to-date!\n",
            "[nltk_data]    | Downloading package genesis to /root/nltk_data...\n",
            "[nltk_data]    |   Package genesis is already up-to-date!\n",
            "[nltk_data]    | Downloading package gutenberg to /root/nltk_data...\n",
            "[nltk_data]    |   Package gutenberg is already up-to-date!\n",
            "[nltk_data]    | Downloading package inaugural to /root/nltk_data...\n",
            "[nltk_data]    |   Package inaugural is already up-to-date!\n",
            "[nltk_data]    | Downloading package movie_reviews to\n",
            "[nltk_data]    |     /root/nltk_data...\n",
            "[nltk_data]    |   Package movie_reviews is already up-to-date!\n",
            "[nltk_data]    | Downloading package names to /root/nltk_data...\n",
            "[nltk_data]    |   Package names is already up-to-date!\n",
            "[nltk_data]    | Downloading package shakespeare to /root/nltk_data...\n",
            "[nltk_data]    |   Package shakespeare is already up-to-date!\n",
            "[nltk_data]    | Downloading package stopwords to /root/nltk_data...\n",
            "[nltk_data]    |   Package stopwords is already up-to-date!\n",
            "[nltk_data]    | Downloading package treebank to /root/nltk_data...\n",
            "[nltk_data]    |   Package treebank is already up-to-date!\n",
            "[nltk_data]    | Downloading package twitter_samples to\n",
            "[nltk_data]    |     /root/nltk_data...\n",
            "[nltk_data]    |   Package twitter_samples is already up-to-date!\n",
            "[nltk_data]    | Downloading package omw to /root/nltk_data...\n",
            "[nltk_data]    |   Package omw is already up-to-date!\n",
            "[nltk_data]    | Downloading package omw-1.4 to /root/nltk_data...\n",
            "[nltk_data]    |   Package omw-1.4 is already up-to-date!\n",
            "[nltk_data]    | Downloading package wordnet to /root/nltk_data...\n",
            "[nltk_data]    |   Package wordnet is already up-to-date!\n",
            "[nltk_data]    | Downloading package wordnet2021 to /root/nltk_data...\n",
            "[nltk_data]    |   Package wordnet2021 is already up-to-date!\n",
            "[nltk_data]    | Downloading package wordnet31 to /root/nltk_data...\n",
            "[nltk_data]    |   Package wordnet31 is already up-to-date!\n",
            "[nltk_data]    | Downloading package wordnet_ic to /root/nltk_data...\n",
            "[nltk_data]    |   Package wordnet_ic is already up-to-date!\n",
            "[nltk_data]    | Downloading package words to /root/nltk_data...\n",
            "[nltk_data]    |   Package words is already up-to-date!\n",
            "[nltk_data]    | Downloading package maxent_ne_chunker to\n",
            "[nltk_data]    |     /root/nltk_data...\n",
            "[nltk_data]    |   Unzipping chunkers/maxent_ne_chunker.zip.\n",
            "[nltk_data]    | Downloading package punkt to /root/nltk_data...\n",
            "[nltk_data]    |   Unzipping tokenizers/punkt.zip.\n",
            "[nltk_data]    | Downloading package snowball_data to\n",
            "[nltk_data]    |     /root/nltk_data...\n",
            "[nltk_data]    | Downloading package averaged_perceptron_tagger to\n",
            "[nltk_data]    |     /root/nltk_data...\n",
            "[nltk_data]    |   Unzipping taggers/averaged_perceptron_tagger.zip.\n",
            "[nltk_data]    | \n",
            "[nltk_data]  Done downloading collection popular\n"
          ]
        },
        {
          "output_type": "execute_result",
          "data": {
            "text/plain": [
              "True"
            ]
          },
          "metadata": {},
          "execution_count": 20
        }
      ]
    },
    {
      "cell_type": "code",
      "execution_count": null,
      "metadata": {
        "id": "KVFHeCFLYoj-",
        "colab": {
          "base_uri": "https://localhost:8080/"
        },
        "outputId": "8b07cae4-1bf1-4849-fe54-506bc9389f12"
      },
      "outputs": [
        {
          "output_type": "stream",
          "name": "stdout",
          "text": [
            "\n",
            "Original -> Saran saya jika memberi materi kalimatnya agar dipermudah agar lebih mudah dipahami\n",
            "\n",
            "Processed  -> ['saran', 'materi', 'kalimat', 'mudah', 'mudah', 'paham']\n"
          ]
        }
      ],
      "source": [
        "def text_to_words(text):\n",
        "    ''' Convert text into a sequence of words '''\n",
        "    \n",
        "    # convert to lowercase\n",
        "    text = text.lower()\n",
        "    # remove non letters\n",
        "    text = re.sub(r\"[^a-zA-Z0-9]\", \" \", text)\n",
        "    # tokenize\n",
        "    words = text.split()\n",
        "    # remove stopwords\n",
        "    words = [w for w in words if w not in stopwords.words(\"indonesian\")]\n",
        "    # apply stemming\n",
        "    factory = StemmerFactory()\n",
        "    stemmer = factory.create_stemmer()\n",
        "    words = [stemmer.stem(w) for w in words]\n",
        "    # return list\n",
        "    return words\n",
        "\n",
        "print(\"\\nOriginal ->\", df['clean_text'][5])\n",
        "print(\"\\nProcessed  ->\", text_to_words(df['clean_text'][5]))"
      ]
    },
    {
      "cell_type": "code",
      "execution_count": null,
      "metadata": {
        "id": "ZxT4QR2zYoj-"
      },
      "outputs": [],
      "source": [
        "# Apply data processing\n",
        "X = list(map(text_to_words, df['clean_text']))"
      ]
    },
    {
      "cell_type": "code",
      "execution_count": null,
      "metadata": {
        "id": "rwDcDr_JYoj_"
      },
      "outputs": [],
      "source": [
        "from sklearn.preprocessing import LabelEncoder\n",
        "\n",
        "# Encode target labels\n",
        "le = LabelEncoder()\n",
        "Y = le.fit_transform(df['category'])"
      ]
    },
    {
      "cell_type": "code",
      "execution_count": null,
      "metadata": {
        "colab": {
          "base_uri": "https://localhost:8080/"
        },
        "id": "c6_Hh9d8YokA",
        "outputId": "7d6877ad-e6bf-4f45-b810-ac4b949a88f9"
      },
      "outputs": [
        {
          "output_type": "stream",
          "name": "stdout",
          "text": [
            "['saran', 'materi', 'kalimat', 'mudah', 'mudah', 'paham']\n",
            "2\n"
          ]
        }
      ],
      "source": [
        "print(X[5])\n",
        "print(Y[5])"
      ]
    },
    {
      "cell_type": "markdown",
      "metadata": {
        "id": "RM-f4hBUYokA"
      },
      "source": [
        "### Train and test split"
      ]
    },
    {
      "cell_type": "code",
      "execution_count": null,
      "metadata": {
        "id": "rLVW4wn_YokB"
      },
      "outputs": [],
      "source": [
        "y = pd.get_dummies(df['category'])\n",
        "X_train, X_test, y_train, y_test = train_test_split(X, y, test_size=0.2, random_state=1)\n",
        "X_train, X_val, y_train, y_val = train_test_split(X_train, y_train, test_size=0.25, random_state=1)"
      ]
    },
    {
      "cell_type": "markdown",
      "metadata": {
        "id": "YXDSkt2NYokC"
      },
      "source": [
        "###feature extraction"
      ]
    },
    {
      "cell_type": "code",
      "execution_count": null,
      "metadata": {
        "id": "q2VHx3ZjYokC"
      },
      "outputs": [],
      "source": [
        "from sklearn.feature_extraction.text import CountVectorizer\n",
        "from sklearn.feature_extraction.text import TfidfVectorizer\n",
        "\n",
        "vocabulary_size = 5000\n",
        "\n",
        "# Tweets have already been preprocessed hence dummy function will be passed in \n",
        "# to preprocessor & tokenizer step\n",
        "count_vector = TfidfVectorizer(max_features=vocabulary_size,\n",
        "#                               ngram_range=(1,2),    # unigram and bigram\n",
        "                                preprocessor=lambda x: x,\n",
        "                               tokenizer=lambda x: x) \n",
        "#tfidf_vector = TfidfVectorizer(lowercase=True)\n",
        "\n",
        "# Fit the training data\n",
        "X_train = count_vector.fit_transform(X_train).toarray()\n",
        "\n",
        "# Transform testing data\n",
        "X_test = count_vector.transform(X_test).toarray()"
      ]
    },
    {
      "cell_type": "code",
      "execution_count": null,
      "metadata": {
        "id": "C1WbocroYokC"
      },
      "outputs": [],
      "source": [
        "#import sklearn.preprocessing as pr\n",
        "\n",
        "# Normalize BoW features in training and test set\n",
        "#X_train = pr.normalize(X_train, axis=1)\n",
        "#X_test  = pr.normalize(X_test, axis=1)"
      ]
    },
    {
      "cell_type": "code",
      "execution_count": null,
      "metadata": {
        "colab": {
          "base_uri": "https://localhost:8080/"
        },
        "id": "XvMY4SBDYokE",
        "outputId": "8ca5f9e9-ab09-46ce-d3be-6b6b075aafd0"
      },
      "outputs": [
        {
          "output_type": "stream",
          "name": "stdout",
          "text": [
            "['1', '10', '1kelas', '2', '25', '2d', '2x', '3', '30', '40k', '5', '6', '7', '70', '75', 'a', 'abar', 'abreg', 'abrek', 'absen', 'acc', 'ada', 'adain', 'adakan', 'aidzin', 'aja', 'ajak', 'ajar', 'ajiiibbb', 'akrab', 'akt', 'aktif', 'akuntansi', 'akutansi', 'alam', 'alami', 'alangkah', 'alas', 'alur', 'ambil', 'ananto', 'and', 'anggar', 'angka', 'anita', 'anitta', 'antuk', 'apa', 'apa2', 'arief', 'arif', 'aryanto', 'asa', 'asik', 'asliii', 'asrofi', 'assalamualaikum', 'asyikkkk', 'atur', 'audit', 'awam', 'b', 'bab', 'baca', 'backsongnya', 'baekk', 'bagi', 'baguk', 'bagus', 'baguss', 'bagusss', 'baguusss', 'bahan', 'bahas', 'bahasa', 'baii', 'baik', 'baikk', 'baikkk', 'baikkkk', 'baja', 'bales', 'banding', 'banget', 'bangt', 'bantu', 'banyak', 'banyakin', 'bapa', 'bapakkk', 'barang', 'barangkali', 'batas', 'bawa', 'bayang', 'bayar', 'beban', 'becanda', 'beda', 'bekal', 'beliau', 'benar2', 'bentuk', 'beri', 'berwirausaha', 'best', 'bgt', 'bgttt', 'biar', 'bicara', 'bikin', 'bilang', 'bimbing', 'bingung', 'bis', 'bisa', 'blm', 'bngt', 'book', 'boong', 'bos', 'bosan', 'bosen', 'bpk', 'bu', 'buat', 'bubar', 'buk', 'buka', 'buku', 'bulan', 'buru', 'butuh', 'buu', 'cair', 'cakup', 'canda', 'cangkup', 'cantik', 'cari', 'catat', 'cepat', 'cepet', 'chat', 'cipta', 'class', 'classroom', 'coba', 'coment', 'comment', 'contoh', 'corona', 'cpt', 'cukp', 'cuku', 'cuman', 'd', 'dadak', 'dahi', 'dalam', 'damping', 'dapat', 'dapet', 'daring', 'darni', 'dasar', 'deadline', 'deh', 'dekat', 'dengar', 'dengn', 'depa', 'depan', 'deposit', 'detail', 'dg', 'diadakn', 'dibanyakin', 'diberitahu', 'dibls', 'didik', 'diekuliah', 'digiatin', 'digital', 'diitambah', 'dijadiin', 'dijelasin', 'dikecilin', 'dikerasin', 'dipastiin', 'dipelanin', 'direspon', 'disamain', 'disamaratakan', 'disatuin', 'disetting', 'dishare', 'disiplin', 'diskusi', 'ditingaktkan']\n"
          ]
        },
        {
          "output_type": "stream",
          "name": "stderr",
          "text": [
            "/usr/local/lib/python3.7/dist-packages/sklearn/utils/deprecation.py:87: FutureWarning:\n",
            "\n",
            "Function get_feature_names is deprecated; get_feature_names is deprecated in 1.0 and will be removed in 1.2. Please use get_feature_names_out instead.\n",
            "\n"
          ]
        }
      ],
      "source": [
        "# print first 200 words/tokens\n",
        "print(count_vector.get_feature_names()[0:200])"
      ]
    },
    {
      "cell_type": "markdown",
      "metadata": {
        "id": "6IwwCLkOYokF"
      },
      "source": [
        "### Tokenizing & Padding"
      ]
    },
    {
      "cell_type": "code",
      "execution_count": null,
      "metadata": {
        "colab": {
          "base_uri": "https://localhost:8080/"
        },
        "id": "UaOmgeDWYokF",
        "outputId": "e3dc23ee-30f1-49d4-e854-6eb9caa943bb"
      },
      "outputs": [
        {
          "output_type": "stream",
          "name": "stdout",
          "text": [
            "Before Tokenization & Padding \n",
            " Enggak tau hehe :D\n",
            "After Tokenization & Padding \n",
            " [679 249 165 385   0   0   0   0   0   0   0   0   0   0   0   0   0   0\n",
            "   0   0   0   0   0   0   0   0   0   0   0   0   0   0   0   0   0   0\n",
            "   0   0   0   0   0   0   0   0   0   0   0   0   0   0]\n"
          ]
        }
      ],
      "source": [
        "from keras.preprocessing.text import Tokenizer\n",
        "from keras.preprocessing.sequence import pad_sequences\n",
        "\n",
        "max_words = 5000\n",
        "max_len=50\n",
        "\n",
        "def tokenize_pad_sequences(text):\n",
        "    '''\n",
        "    This function tokenize the input text into sequnences of intergers and then\n",
        "    pad each sequence to the same length\n",
        "    '''\n",
        "    # Text tokenization\n",
        "    tokenizer = Tokenizer(num_words=max_words, lower=True, split=' ')\n",
        "    tokenizer.fit_on_texts(text)\n",
        "    # Transforms text to a sequence of integers\n",
        "    X = tokenizer.texts_to_sequences(text)\n",
        "    # Pad sequences to the same length\n",
        "    X = pad_sequences(X, padding='post', maxlen=max_len)\n",
        "    # return sequences\n",
        "    return X, tokenizer\n",
        "\n",
        "print('Before Tokenization & Padding \\n', df['clean_text'][0])\n",
        "X, tokenizer = tokenize_pad_sequences(df['clean_text'])\n",
        "print('After Tokenization & Padding \\n', X[0])"
      ]
    },
    {
      "cell_type": "markdown",
      "metadata": {
        "id": "RmJY5uf1YokG"
      },
      "source": [
        "### Saving tokenized data"
      ]
    },
    {
      "cell_type": "code",
      "execution_count": null,
      "metadata": {
        "id": "iLCOJkPKYokG"
      },
      "outputs": [],
      "source": [
        "import pickle\n",
        "\n",
        "# saving\n",
        "with open('tokenizer.pickle', 'wb') as handle:\n",
        "    pickle.dump(tokenizer, handle, protocol=pickle.HIGHEST_PROTOCOL)\n",
        "\n",
        "# loading\n",
        "with open('tokenizer.pickle', 'rb') as handle:\n",
        "    tokenizer = pickle.load(handle)"
      ]
    },
    {
      "cell_type": "markdown",
      "metadata": {
        "id": "qdno38r-YokH"
      },
      "source": [
        "### Train & Test Split"
      ]
    },
    {
      "cell_type": "code",
      "execution_count": null,
      "metadata": {
        "colab": {
          "base_uri": "https://localhost:8080/"
        },
        "id": "_GdCQrcYYokI",
        "outputId": "a1812718-b674-490e-9b75-a81692fc706e"
      },
      "outputs": [
        {
          "output_type": "stream",
          "name": "stdout",
          "text": [
            "Train Set -> (4862, 50) (4862, 4)\n",
            "Validation Set -> (1621, 50) (1621, 4)\n",
            "Test Set -> (1621, 50) (1621, 4)\n"
          ]
        }
      ],
      "source": [
        "y = pd.get_dummies(df['category'])\n",
        "X_train, X_test, y_train, y_test = train_test_split(X, y, test_size=0.2, random_state=1)\n",
        "X_train, X_val, y_train, y_val = train_test_split(X_train, y_train, test_size=0.25, random_state=1)\n",
        "print('Train Set ->', X_train.shape, y_train.shape)\n",
        "print('Validation Set ->', X_val.shape, y_val.shape)\n",
        "print('Test Set ->', X_test.shape, y_test.shape)"
      ]
    },
    {
      "cell_type": "code",
      "execution_count": null,
      "metadata": {
        "id": "AGgRtf_VYokI"
      },
      "outputs": [],
      "source": [
        "import keras.backend as K\n",
        "\n",
        "def f1_score(precision, recall):\n",
        "    ''' Function to calculate f1 score '''\n",
        "    \n",
        "    f1_val = 2*(precision*recall)/(precision+recall+K.epsilon())\n",
        "    return f1_val"
      ]
    },
    {
      "cell_type": "markdown",
      "metadata": {
        "id": "j8M1iTnIYokJ"
      },
      "source": [
        "## LSTM Using NN"
      ]
    },
    {
      "cell_type": "code",
      "execution_count": null,
      "metadata": {
        "colab": {
          "base_uri": "https://localhost:8080/"
        },
        "id": "bjeeMCciYokK",
        "outputId": "f9e07355-2163-4b14-8d40-5b5a23302f18"
      },
      "outputs": [
        {
          "output_type": "stream",
          "name": "stderr",
          "text": [
            "/usr/local/lib/python3.7/dist-packages/keras/optimizer_v2/gradient_descent.py:102: UserWarning:\n",
            "\n",
            "The `lr` argument is deprecated, use `learning_rate` instead.\n",
            "\n"
          ]
        }
      ],
      "source": [
        "from keras.models import Sequential\n",
        "from keras.layers import Embedding, Conv1D, MaxPooling1D, Bidirectional, LSTM, Dense, Dropout\n",
        "from keras.metrics import Precision, Recall\n",
        "from keras import datasets\n",
        "\n",
        "from keras.callbacks import LearningRateScheduler\n",
        "from keras.callbacks import History\n",
        "from keras.callbacks import EarlyStopping, ModelCheckpoint\n",
        "\n",
        "from keras import losses\n",
        "\n",
        "vocab_size = 5000\n",
        "embedding_size = 32\n",
        "epochs=25\n",
        "learning_rate = 0.1\n",
        "decay_rate = learning_rate / epochs\n",
        "momentum = 0.8\n",
        "\n",
        "sgd = SGD(lr=learning_rate, momentum=momentum, decay=decay_rate, nesterov=False)\n",
        "\n",
        "# Build model\n",
        "model= Sequential()\n",
        "model.add(Embedding(vocab_size, embedding_size, input_length=max_len))\n",
        "model.add(Conv1D(filters=32, kernel_size=3, padding='same', activation='relu'))\n",
        "model.add(MaxPooling1D(pool_size=2))\n",
        "model.add(Bidirectional(LSTM(32)))\n",
        "model.add(Dropout(0.4))\n",
        "model.add(Dense(4, activation='softmax'))"
      ]
    },
    {
      "cell_type": "code",
      "execution_count": null,
      "metadata": {
        "colab": {
          "base_uri": "https://localhost:8080/"
        },
        "id": "muMLhmYCYokL",
        "outputId": "2d10e7d1-7b18-4a55-bbff-deb0f3c34a0a"
      },
      "outputs": [
        {
          "output_type": "stream",
          "name": "stdout",
          "text": [
            "Model: \"sequential_4\"\n",
            "_________________________________________________________________\n",
            " Layer (type)                Output Shape              Param #   \n",
            "=================================================================\n",
            " embedding_4 (Embedding)     (None, 50, 32)            160000    \n",
            "                                                                 \n",
            " conv1d_4 (Conv1D)           (None, 50, 32)            3104      \n",
            "                                                                 \n",
            " max_pooling1d_4 (MaxPooling  (None, 25, 32)           0         \n",
            " 1D)                                                             \n",
            "                                                                 \n",
            " bidirectional_4 (Bidirectio  (None, 64)               16640     \n",
            " nal)                                                            \n",
            "                                                                 \n",
            " dropout_4 (Dropout)         (None, 64)                0         \n",
            "                                                                 \n",
            " dense_4 (Dense)             (None, 4)                 260       \n",
            "                                                                 \n",
            "=================================================================\n",
            "Total params: 180,004\n",
            "Trainable params: 180,004\n",
            "Non-trainable params: 0\n",
            "_________________________________________________________________\n",
            "None\n",
            "Epoch 1/25\n",
            "76/76 [==============================] - 9s 46ms/step - loss: 1.3622 - accuracy: 0.3100 - precision_3: 0.0000e+00 - recall_3: 0.0000e+00 - val_loss: 1.3502 - val_accuracy: 0.3387 - val_precision_3: 0.0000e+00 - val_recall_3: 0.0000e+00\n",
            "Epoch 2/25\n",
            "76/76 [==============================] - 2s 31ms/step - loss: 1.3294 - accuracy: 0.3503 - precision_3: 0.5294 - recall_3: 0.0037 - val_loss: 1.2917 - val_accuracy: 0.4139 - val_precision_3: 0.0000e+00 - val_recall_3: 0.0000e+00\n",
            "Epoch 3/25\n",
            "76/76 [==============================] - 2s 30ms/step - loss: 1.1867 - accuracy: 0.4794 - precision_3: 0.6444 - recall_3: 0.0973 - val_loss: 1.0736 - val_accuracy: 0.5287 - val_precision_3: 0.6654 - val_recall_3: 0.2209\n",
            "Epoch 4/25\n",
            "76/76 [==============================] - 2s 30ms/step - loss: 0.9647 - accuracy: 0.5673 - precision_3: 0.6982 - recall_3: 0.3307 - val_loss: 0.8898 - val_accuracy: 0.6163 - val_precision_3: 0.7136 - val_recall_3: 0.3936\n",
            "Epoch 5/25\n",
            "76/76 [==============================] - 2s 30ms/step - loss: 0.8300 - accuracy: 0.6351 - precision_3: 0.7099 - recall_3: 0.4671 - val_loss: 0.7621 - val_accuracy: 0.6885 - val_precision_3: 0.7351 - val_recall_3: 0.5410\n",
            "Epoch 6/25\n",
            "76/76 [==============================] - 2s 30ms/step - loss: 0.7189 - accuracy: 0.6997 - precision_3: 0.7373 - recall_3: 0.5923 - val_loss: 0.6685 - val_accuracy: 0.7070 - val_precision_3: 0.7448 - val_recall_3: 0.6428\n",
            "Epoch 7/25\n",
            "76/76 [==============================] - 2s 30ms/step - loss: 0.6301 - accuracy: 0.7400 - precision_3: 0.7738 - recall_3: 0.6728 - val_loss: 0.5968 - val_accuracy: 0.7693 - val_precision_3: 0.7798 - val_recall_3: 0.7230\n",
            "Epoch 8/25\n",
            "76/76 [==============================] - 2s 31ms/step - loss: 0.5487 - accuracy: 0.7830 - precision_3: 0.8024 - recall_3: 0.7359 - val_loss: 0.5285 - val_accuracy: 0.7958 - val_precision_3: 0.8022 - val_recall_3: 0.7705\n",
            "Epoch 9/25\n",
            "76/76 [==============================] - 2s 32ms/step - loss: 0.4897 - accuracy: 0.8161 - precision_3: 0.8288 - recall_3: 0.7807 - val_loss: 0.4838 - val_accuracy: 0.8149 - val_precision_3: 0.8226 - val_recall_3: 0.8038\n",
            "Epoch 10/25\n",
            "76/76 [==============================] - 2s 30ms/step - loss: 0.4430 - accuracy: 0.8416 - precision_3: 0.8556 - recall_3: 0.8211 - val_loss: 0.4227 - val_accuracy: 0.8291 - val_precision_3: 0.8410 - val_recall_3: 0.8155\n",
            "Epoch 11/25\n",
            "76/76 [==============================] - 2s 31ms/step - loss: 0.4043 - accuracy: 0.8579 - precision_3: 0.8699 - recall_3: 0.8348 - val_loss: 0.3912 - val_accuracy: 0.8575 - val_precision_3: 0.8658 - val_recall_3: 0.8439\n",
            "Epoch 12/25\n",
            "76/76 [==============================] - 2s 30ms/step - loss: 0.3367 - accuracy: 0.8889 - precision_3: 0.8978 - recall_3: 0.8712 - val_loss: 0.3233 - val_accuracy: 0.8939 - val_precision_3: 0.9044 - val_recall_3: 0.8816\n",
            "Epoch 13/25\n",
            "76/76 [==============================] - 2s 30ms/step - loss: 0.3065 - accuracy: 0.9021 - precision_3: 0.9100 - recall_3: 0.8900 - val_loss: 0.3187 - val_accuracy: 0.8896 - val_precision_3: 0.8952 - val_recall_3: 0.8853\n",
            "Epoch 14/25\n",
            "76/76 [==============================] - 2s 30ms/step - loss: 0.2638 - accuracy: 0.9138 - precision_3: 0.9223 - recall_3: 0.9027 - val_loss: 0.2569 - val_accuracy: 0.9161 - val_precision_3: 0.9283 - val_recall_3: 0.9019\n",
            "Epoch 15/25\n",
            "76/76 [==============================] - 2s 30ms/step - loss: 0.2255 - accuracy: 0.9282 - precision_3: 0.9352 - recall_3: 0.9202 - val_loss: 0.2246 - val_accuracy: 0.9254 - val_precision_3: 0.9330 - val_recall_3: 0.9198\n",
            "Epoch 16/25\n",
            "76/76 [==============================] - 2s 31ms/step - loss: 0.2025 - accuracy: 0.9350 - precision_3: 0.9404 - recall_3: 0.9278 - val_loss: 0.1974 - val_accuracy: 0.9309 - val_precision_3: 0.9427 - val_recall_3: 0.9229\n",
            "Epoch 17/25\n",
            "76/76 [==============================] - 2s 30ms/step - loss: 0.1812 - accuracy: 0.9406 - precision_3: 0.9458 - recall_3: 0.9332 - val_loss: 0.1791 - val_accuracy: 0.9432 - val_precision_3: 0.9441 - val_recall_3: 0.9383\n",
            "Epoch 18/25\n",
            "76/76 [==============================] - 2s 30ms/step - loss: 0.1617 - accuracy: 0.9527 - precision_3: 0.9563 - recall_3: 0.9459 - val_loss: 0.1479 - val_accuracy: 0.9543 - val_precision_3: 0.9548 - val_recall_3: 0.9519\n",
            "Epoch 19/25\n",
            "76/76 [==============================] - 2s 30ms/step - loss: 0.1300 - accuracy: 0.9640 - precision_3: 0.9669 - recall_3: 0.9599 - val_loss: 0.1200 - val_accuracy: 0.9667 - val_precision_3: 0.9673 - val_recall_3: 0.9661\n",
            "Epoch 20/25\n",
            "76/76 [==============================] - 2s 31ms/step - loss: 0.1214 - accuracy: 0.9659 - precision_3: 0.9687 - recall_3: 0.9622 - val_loss: 0.1167 - val_accuracy: 0.9655 - val_precision_3: 0.9660 - val_recall_3: 0.9636\n",
            "Epoch 21/25\n",
            "76/76 [==============================] - 2s 30ms/step - loss: 0.1201 - accuracy: 0.9663 - precision_3: 0.9690 - recall_3: 0.9630 - val_loss: 0.1199 - val_accuracy: 0.9655 - val_precision_3: 0.9654 - val_recall_3: 0.9636\n",
            "Epoch 22/25\n",
            "76/76 [==============================] - 2s 30ms/step - loss: 0.1005 - accuracy: 0.9731 - precision_3: 0.9748 - recall_3: 0.9708 - val_loss: 0.1067 - val_accuracy: 0.9667 - val_precision_3: 0.9695 - val_recall_3: 0.9618\n",
            "Epoch 23/25\n",
            "76/76 [==============================] - 2s 30ms/step - loss: 0.0895 - accuracy: 0.9784 - precision_3: 0.9798 - recall_3: 0.9766 - val_loss: 0.0874 - val_accuracy: 0.9710 - val_precision_3: 0.9710 - val_recall_3: 0.9710\n",
            "Epoch 24/25\n",
            "76/76 [==============================] - 2s 31ms/step - loss: 0.0835 - accuracy: 0.9784 - precision_3: 0.9806 - recall_3: 0.9761 - val_loss: 0.0824 - val_accuracy: 0.9716 - val_precision_3: 0.9740 - val_recall_3: 0.9716\n",
            "Epoch 25/25\n",
            "76/76 [==============================] - 4s 48ms/step - loss: 0.0779 - accuracy: 0.9809 - precision_3: 0.9827 - recall_3: 0.9792 - val_loss: 0.0779 - val_accuracy: 0.9759 - val_precision_3: 0.9759 - val_recall_3: 0.9747\n"
          ]
        }
      ],
      "source": [
        "print(model.summary())\n",
        "\n",
        "\n",
        "# Compile model\n",
        "model.compile(loss='categorical_crossentropy', optimizer=sgd, \n",
        "               metrics=['accuracy', Precision(), Recall()])\n",
        "\n",
        "# Train model\n",
        "\n",
        "batch_size = 64\n",
        "history = model.fit(X_train, y_train,\n",
        "                      validation_data=(X_val, y_val),\n",
        "                      batch_size=batch_size, epochs=epochs, verbose=1)"
      ]
    },
    {
      "cell_type": "markdown",
      "metadata": {
        "id": "W7IX-mHeYokM"
      },
      "source": [
        "### Model Confusion Matrix, Accuracy & Loss"
      ]
    },
    {
      "cell_type": "code",
      "source": [
        "import sklearn\n",
        "from sklearn.metrics import precision_recall_fscore_support as score\n",
        "precision, recall, fscore, support = score(y_test, predicted_bi_lstm.round())\n",
        "\n",
        "print('precision: {}'.format(precision))\n",
        "print('recall: {}'.format(recall))\n",
        "print('fscore: {}'.format(fscore))\n",
        "print('support: {}'.format(support))\n",
        "print('################################')\n",
        "print(sklearn.metrics.classification_report(y_test, predicted_bi_lstm.round()))"
      ],
      "metadata": {
        "colab": {
          "base_uri": "https://localhost:8080/"
        },
        "id": "CBlQU4Wu0z2l",
        "outputId": "3ceaac5c-ff4c-48d0-fef0-067549fe33e5"
      },
      "execution_count": null,
      "outputs": [
        {
          "output_type": "stream",
          "name": "stdout",
          "text": [
            "precision: [0.96261682 0.95922747 1.         0.96907216]\n",
            "recall: [0.88412017 0.98893805 0.98056156 0.99365751]\n",
            "fscore: [0.92170022 0.97385621 0.99018539 0.98121086]\n",
            "support: [233 452 463 473]\n",
            "################################\n",
            "              precision    recall  f1-score   support\n",
            "\n",
            "           0       0.96      0.88      0.92       233\n",
            "           1       0.96      0.99      0.97       452\n",
            "           2       1.00      0.98      0.99       463\n",
            "           3       0.97      0.99      0.98       473\n",
            "\n",
            "   micro avg       0.97      0.97      0.97      1621\n",
            "   macro avg       0.97      0.96      0.97      1621\n",
            "weighted avg       0.97      0.97      0.97      1621\n",
            " samples avg       0.97      0.97      0.97      1621\n",
            "\n"
          ]
        },
        {
          "output_type": "stream",
          "name": "stderr",
          "text": [
            "/usr/local/lib/python3.7/dist-packages/sklearn/metrics/_classification.py:1318: UndefinedMetricWarning:\n",
            "\n",
            "Precision and F-score are ill-defined and being set to 0.0 in samples with no predicted labels. Use `zero_division` parameter to control this behavior.\n",
            "\n"
          ]
        }
      ]
    },
    {
      "cell_type": "code",
      "execution_count": null,
      "metadata": {
        "colab": {
          "base_uri": "https://localhost:8080/"
        },
        "id": "2--gVLqkYokM",
        "outputId": "c776b17f-5f04-47b6-dd6a-4dcdf52a632c"
      },
      "outputs": [
        {
          "output_type": "stream",
          "name": "stdout",
          "text": [
            "\n",
            "Accuracy  : 0.9741\n",
            "Precision : 0.9741\n",
            "Recall    : 0.9729\n",
            "F1 Score  : 0.9735\n"
          ]
        }
      ],
      "source": [
        "# Evaluate model on the test set\n",
        "loss, accuracy, precision, recall = model.evaluate(X_test, y_test, verbose=0)\n",
        "# Print metrics\n",
        "print('')\n",
        "print('Accuracy  : {:.4f}'.format(accuracy))\n",
        "print('Precision : {:.4f}'.format(precision))\n",
        "print('Recall    : {:.4f}'.format(recall))\n",
        "print('F1 Score  : {:.4f}'.format(f1_score(precision, recall)))"
      ]
    },
    {
      "cell_type": "code",
      "execution_count": null,
      "metadata": {
        "colab": {
          "base_uri": "https://localhost:8080/",
          "height": 295
        },
        "id": "pW_MgSVJYokN",
        "outputId": "890cc5e4-3c33-483f-f09c-9475b06ac0fe"
      },
      "outputs": [
        {
          "output_type": "display_data",
          "data": {
            "text/plain": [
              "<Figure size 720x288 with 2 Axes>"
            ],
            "image/png": "[encoded data removed]"
          },
          "metadata": {
            "needs_background": "light"
          }
        }
      ],
      "source": [
        "def plot_training_hist(history):\n",
        "    '''Function to plot history for accuracy and loss'''\n",
        "    \n",
        "    fig, ax = plt.subplots(1, 2, figsize=(10,4))\n",
        "    # first plot\n",
        "    ax[0].plot(history.history['accuracy'])\n",
        "    ax[0].plot(history.history['val_accuracy'])\n",
        "    ax[0].set_title('Model Accuracy')\n",
        "    ax[0].set_xlabel('epoch')\n",
        "    ax[0].set_ylabel('accuracy')\n",
        "    ax[0].legend(['train', 'validation'], loc='best')\n",
        "    # second plot\n",
        "    ax[1].plot(history.history['loss'])\n",
        "    ax[1].plot(history.history['val_loss'])\n",
        "    ax[1].set_title('Model Loss')\n",
        "    ax[1].set_xlabel('epoch')\n",
        "    ax[1].set_ylabel('loss')\n",
        "    ax[1].legend(['train', 'validation'], loc='best')\n",
        "    \n",
        "plot_training_hist(history)"
      ]
    },
    {
      "cell_type": "code",
      "execution_count": null,
      "metadata": {
        "colab": {
          "base_uri": "https://localhost:8080/",
          "height": 519
        },
        "id": "ynocFQ7tCi5s",
        "outputId": "c74289b3-91e2-4246-b07e-9600c6adfd6f"
      },
      "outputs": [
        {
          "output_type": "display_data",
          "data": {
            "text/plain": [
              "<Figure size 864x576 with 2 Axes>"
            ],
            "image/png": "[encoded data removed]"
          },
          "metadata": {
            "needs_background": "light"
          }
        }
      ],
      "source": [
        "from sklearn.metrics import confusion_matrix, classification_report, accuracy_score\n",
        "\n",
        "def plot_confusion_matrix(model, X_test, y_test):\n",
        "    '''Function to plot confusion matrix for the passed model and the data'''\n",
        "    \n",
        "    sentiment_classes = ['Baik', 'Cukup', 'Kurang', 'Sangat Baik']\n",
        "    # use model to do the prediction\n",
        "    y_pred = model.predict(X_test)\n",
        "    # compute confusion matrix\n",
        "    cm = confusion_matrix(np.argmax(np.array(y_test),axis=1), np.argmax(y_pred, axis=1))\n",
        "    # plot confusion matrix\n",
        "    plt.figure(figsize=(12,8))\n",
        "    sns.heatmap(cm, cmap=plt.cm.Blues, annot=True, fmt='d', \n",
        "                xticklabels=sentiment_classes,\n",
        "                yticklabels=sentiment_classes)\n",
        "    plt.title('Confusion matrix', fontsize=16)\n",
        "    plt.xlabel('Actual label', fontsize=14)\n",
        "    plt.ylabel('Predicted label', fontsize=14)\n",
        "    \n",
        "plot_confusion_matrix(model, X_test, y_test)"
      ]
    },
    {
      "cell_type": "markdown",
      "metadata": {
        "id": "2x1fu8oDYokQ"
      },
      "source": [
        "### Model save and load for the prediction"
      ]
    },
    {
      "cell_type": "code",
      "execution_count": null,
      "metadata": {
        "colab": {
          "base_uri": "https://localhost:8080/"
        },
        "id": "El8dmrQoYokQ",
        "outputId": "12da204a-e458-4805-8732-d7afb77acfe1"
      },
      "outputs": [
        {
          "output_type": "stream",
          "name": "stdout",
          "text": [
            "Best model saved\n"
          ]
        }
      ],
      "source": [
        "# Save the model architecture & the weights\n",
        "model.save('best_model.h5')\n",
        "print('Best model saved')"
      ]
    },
    {
      "cell_type": "code",
      "execution_count": null,
      "metadata": {
        "id": "Sy_xHaf2YokQ"
      },
      "outputs": [],
      "source": [
        "from nltk import probability\n",
        "from matplotlib.axis import XTick\n",
        "from numpy.ma.core import array\n",
        "from keras.models import load_model\n",
        "\n",
        "# Load model\n",
        "model = load_model('best_model.h5')\n",
        "\n",
        "def predict_class(text):\n",
        "    '''Function to predict sentiment class of the passed text'''\n",
        "    \n",
        "    sentiment_classes = ['Baik', 'Cukup', 'Kurang', 'Sangat Baik']\n",
        "    max_len=50\n",
        "    \n",
        "    # Transforms text to a sequence of integers using a tokenizer object\n",
        "    xt = tokenizer.texts_to_sequences(text)\n",
        "    # Pad sequences to the same length\n",
        "    xt = pad_sequences(xt, padding='post', maxlen=max_len)\n",
        "    # Do the prediction using the loaded model\n",
        "    yt = model.predict(xt).argmax(axis=1)\n",
        "    # Print the predicted sentiment\n",
        "\n",
        "    print('The predicted sentiment is', sentiment_classes[yt[0]])"
      ]
    },
    {
      "cell_type": "code",
      "execution_count": null,
      "metadata": {
        "colab": {
          "base_uri": "https://localhost:8080/"
        },
        "id": "O590OfWV_N0E",
        "outputId": "52067d0e-c566-46f4-f6bb-ff0a2496cd06"
      },
      "outputs": [
        {
          "output_type": "stream",
          "name": "stdout",
          "text": [
            "The predicted sentiment is Sangat Baik\n"
          ]
        }
      ],
      "source": [
        "predict_class(['\"Bu dosen baik bngt dan materinya juga jelas bngt\"'])"
      ]
    },
    {
      "cell_type": "code",
      "source": [
        "predict_class(['jarang bisa masuk ngajar \"'])"
      ],
      "metadata": {
        "id": "F1v0E7WeAGzj",
        "colab": {
          "base_uri": "https://localhost:8080/"
        },
        "outputId": "3514c932-788c-4d45-e180-b3543b79701a"
      },
      "execution_count": null,
      "outputs": [
        {
          "output_type": "stream",
          "name": "stdout",
          "text": [
            "The predicted sentiment is Kurang\n"
          ]
        }
      ]
    },
    {
      "cell_type": "code",
      "source": [
        "predict_class(['dosen jarang masuk, tetapi ngasih tugas mulu \"'])"
      ],
      "metadata": {
        "colab": {
          "base_uri": "https://localhost:8080/"
        },
        "id": "9hF-9C0g0n_h",
        "outputId": "0a6cddba-4a0e-4400-90c0-b5c21b7100ee"
      },
      "execution_count": null,
      "outputs": [
        {
          "output_type": "stream",
          "name": "stdout",
          "text": [
            "The predicted sentiment is Kurang\n"
          ]
        }
      ]
    },
    {
      "cell_type": "code",
      "source": [
        "predict_class(['materi mudah dosen susah\"'])"
      ],
      "metadata": {
        "id": "3_CPRdZ-v9fl",
        "colab": {
          "base_uri": "https://localhost:8080/"
        },
        "outputId": "8185f0e8-d0c5-467d-d255-12eb7f841f78"
      },
      "execution_count": null,
      "outputs": [
        {
          "output_type": "stream",
          "name": "stdout",
          "text": [
            "The predicted sentiment is Cukup\n"
          ]
        }
      ]
    },
    {
      "cell_type": "code",
      "source": [
        "predict_class(['dosen susah materi mudah\"'])"
      ],
      "metadata": {
        "colab": {
          "base_uri": "https://localhost:8080/"
        },
        "id": "VdaKZ3NziKFU",
        "outputId": "0ddf9bd9-c77d-4875-9f17-f9aa6e5106a6"
      },
      "execution_count": null,
      "outputs": [
        {
          "output_type": "stream",
          "name": "stdout",
          "text": [
            "The predicted sentiment is Cukup\n"
          ]
        }
      ]
    },
    {
      "cell_type": "code",
      "source": [],
      "metadata": {
        "id": "z713uBC1iNjU"
      },
      "execution_count": null,
      "outputs": []
    }
  ],
  "metadata": {
    "colab": {
      "collapsed_sections": [],
      "provenance": []
    },
    "kernelspec": {
      "display_name": "Python 3",
      "language": "python",
      "name": "python3"
    },
    "language_info": {
      "codemirror_mode": {
        "name": "ipython",
        "version": 3
      },
      "file_extension": ".py",
      "mimetype": "text/x-python",
      "name": "python",
      "nbconvert_exporter": "python",
      "pygments_lexer": "ipython3",
      "version": "3.7.9"
    }
  },
  "nbformat": 4,
  "nbformat_minor": 0
}